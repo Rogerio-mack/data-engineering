{
  "nbformat": 4,
  "nbformat_minor": 0,
  "metadata": {
    "colab": {
      "provenance": [],
      "authorship_tag": "ABX9TyOyuN3/zA2LhtOpDYZWXYcq",
      "include_colab_link": true
    },
    "kernelspec": {
      "name": "python3",
      "display_name": "Python 3"
    },
    "language_info": {
      "name": "python"
    }
  },
  "cells": [
    {
      "cell_type": "markdown",
      "metadata": {
        "id": "view-in-github",
        "colab_type": "text"
      },
      "source": [
        "<a href=\"https://colab.research.google.com/github/Rogerio-mack/data-engineering/blob/main/A05_SQL_NoSQL.ipynb\" target=\"_parent\"><img src=\"https://colab.research.google.com/assets/colab-badge.svg\" alt=\"Open In Colab\"/></a>"
      ]
    },
    {
      "cell_type": "markdown",
      "source": [
        "<img src=\"https://github.com/Rogerio-mack/data-engineering/blob/main/mack_logo.png?raw=true\" height=\"70\" align=\"right\"/></a>\n",
        "\n",
        "\n",
        "\n",
        "\n"
      ],
      "metadata": {
        "id": "ifRIxMqtyJGc"
      }
    },
    {
      "cell_type": "markdown",
      "source": [
        "<img src=\"https://github.com/Rogerio-mack/data-engineering/blob/main/figs/A5_NoSQL_cover.png?raw=true\" height=\"250\" align=\"left\"/></a>\n"
      ],
      "metadata": {
        "id": "-q7Ye_WPLled"
      }
    },
    {
      "cell_type": "markdown",
      "source": [
        "# SQL & NoSQL Databases\n",
        "\n",
        "Bancos de dados relacionais (SQL) e NoSQL desempenham um papel fundamental quando tratamos de dados."
      ],
      "metadata": {
        "id": "t4s894VGKwXe"
      }
    },
    {
      "cell_type": "markdown",
      "source": [
        "# Bancos de Dados Relacionais\n",
        "\n",
        "Apesar da evolução e de novos requerimentos no armazenamento de dados,  bancos de dados tradicionais (Relacionais / SQL) ainda são, por suas características, o meio mais empregado e preferencial de armazenamento para uma grande parte dos dados das empresas. Particularmente, dados associados a transações de negócio.   "
      ],
      "metadata": {
        "id": "lT9zOTbScfJa"
      }
    },
    {
      "cell_type": "markdown",
      "source": [
        "## Pontos Revisão e Discussão\n",
        "\n",
        "**DATABASE SYSTEMS: THE COMPLETE BOOK 2nd Edition** *( Hector Garcia-Molina, Jeffrey D. Ullman, Jennifer Widom)*\n",
        "\n",
        "<br>\n",
        "\n",
        "#### TABLE OF CONTENTS\n",
        "\n",
        "1.1.2 Relational Database Systems\n",
        "\n",
        "PART I: Relational Database Modeling\n",
        "> $\\times$ [The entity-relationship model—toward a unified view of data](https://dl.acm.org/doi/abs/10.1145/320434.320440), *Peter Pin-Shan Chen*,\n",
        "\n",
        "\n",
        "PART IV: Database System Implementation\n",
        "\n",
        "6.6 Transactions in SQL\n",
        "\n",
        "13 Secondary Storage Management\n",
        "\n",
        "> [MS SQL Server - Pages and Extents Architecture Guide](https://learn.microsoft.com/en-us/sql/relational-databases/pages-and-extents-architecture-guide?view=sql-server-ver16)\n",
        "\n",
        "\n",
        "**SQL & NoSQL Databases**, *Meyer*\n",
        "\n",
        "6 Postrelational Databases\n",
        "\n",
        "* Federated Databases\n",
        "* Temporal Databases\n",
        "* Multidimensional Databases\n",
        "* Data Warehouse\n",
        "* **Object-Relational Databases**\n"
      ],
      "metadata": {
        "id": "3bw6Qs0Ut-l6"
      }
    },
    {
      "cell_type": "markdown",
      "source": [
        "# **CAP** - Consistência , Disponibilidade e Tolerância à Partição\n",
        "\n",
        "The alternative to ACID is BASE:\n",
        "* Basically Available\n",
        "* Soft state\n",
        "* Eventually consistent"
      ],
      "metadata": {
        "id": "o8KsagzW_Kad"
      }
    },
    {
      "cell_type": "code",
      "source": [
        "from IPython.display import IFrame\n",
        "IFrame('https://www.julianbrowne.com/article/brewers-cap-theorem/', width=1500, height=600)\n"
      ],
      "metadata": {
        "colab": {
          "base_uri": "https://localhost:8080/",
          "height": 641
        },
        "outputId": "8af51f04-4414-4e07-f5e8-a4765ea06963",
        "id": "wAoyJnGI_Bcq"
      },
      "execution_count": null,
      "outputs": [
        {
          "output_type": "execute_result",
          "data": {
            "text/plain": [
              "<IPython.lib.display.IFrame at 0x7ec32a4459c0>"
            ],
            "text/html": [
              "\n",
              "        <iframe\n",
              "            width=\"1500\"\n",
              "            height=\"600\"\n",
              "            src=\"https://www.julianbrowne.com/article/brewers-cap-theorem/\"\n",
              "            frameborder=\"0\"\n",
              "            allowfullscreen\n",
              "            \n",
              "        ></iframe>\n",
              "        "
            ]
          },
          "metadata": {},
          "execution_count": 4
        }
      ]
    },
    {
      "cell_type": "markdown",
      "source": [
        "<img src=\"https://github.com/Rogerio-mack/data-engineering/blob/main/figs/A5_CAP.png?raw=true\" height=\"250\" align=\"left\"/></a>"
      ],
      "metadata": {
        "id": "OEOhQwf8_oTT"
      }
    },
    {
      "cell_type": "markdown",
      "source": [
        "# Características do NoSQL\n",
        "\n",
        "* Modelos não relacionais.\n",
        "\n",
        "* Escalabilidade horizontal.\n",
        "\n",
        "* Baixas restrições de esquema.\n",
        "\n",
        "* Facilidade de replicação de dados.\n",
        "\n",
        "* Fácil acesso por APIs\n",
        "\n",
        "* A Consistência do Modelo é não ACID\n",
        "> * **Orientado a Buscas, não a Transações** (~ not in the  book!)"
      ],
      "metadata": {
        "id": "-jHICeiqYgxr"
      }
    },
    {
      "cell_type": "markdown",
      "source": [
        "# Tipos principais de Bancos de Dados NoSQL\n",
        "\n",
        "* Armazenamento de chave-valor.\n",
        "\n",
        "* Bancos de Dados colunares.\n",
        "\n",
        "* Orientados a documentos.\n",
        "\n",
        "* Bancos de dados de grafos.\n",
        "\n",
        "* Vector Store (**not in the book!**)"
      ],
      "metadata": {
        "id": "dLBJeTK0Y4_q"
      }
    },
    {
      "cell_type": "markdown",
      "source": [
        "# Bancos de Dados Chave-Valor (7.2)\n",
        "\n",
        "Os bancos de dados chave-valor armazenam dados como pares de chave e valor, permitindo que um valor seja associado a uma chave única. Eles são schema-free, o que significa que não requerem uma estrutura de dados predefinida, facilitando a inserção de dados em formatos variados. A distribuição de dados é feita através de sharding e hashing, permitindo alta escalabilidade e desempenho.\n",
        "\n",
        "> **Sharding** é o processo de dividir um banco de dados em partes menores, chamadas shards, que podem ser distribuídas para melhorar a escalabilidade e o desempenho.\n",
        "\n",
        "> **Hashing** é uma técnica que gera um valor numérico (hash) a partir de uma chave, esse hash é geralmente empregado para determinar em qual shard o valor correspondente será armazenado.\n",
        "\n"
      ],
      "metadata": {
        "id": "28nZX5i4kbSF"
      }
    },
    {
      "cell_type": "markdown",
      "source": [
        "<img src=\"https://github.com/Rogerio-mack/data-engineering/blob/main/figs/A5_chave_valor.png?raw=true\" height=\"250\" align=\"left\"/></a>\n"
      ],
      "metadata": {
        "id": "QDpEuNFnduc9"
      }
    },
    {
      "cell_type": "markdown",
      "source": [
        "Um banco de dados é de armazenamento de chave-valor se tiver as seguintes propriedades (livro):\n",
        "\n",
        "* Há um conjunto de objetos de dados de identificação, as chaves.\n",
        "\n",
        "* Para cada chave, há exatamente um objeto de dados descritivo associado, o valor para\n",
        "aquela chave.\n",
        "\n",
        "* Especificar uma chave permite consultar o valor associado no banco de dados.\n",
        "\n",
        "<br>\n",
        "<br>\n",
        "\n",
        "Vantagens:\n",
        "\n",
        "* Flexibilidade na estrutura de dados.\n",
        "\n",
        "* Alta performance em leitura e escrita.\n",
        "\n",
        "* Escalabilidade fácil através de sharding.\n",
        "\n",
        "Desvantagens:\n",
        "\n",
        "* Falta de integridade referencial.\n",
        "\n",
        "* Estrutura rudimentar pode levar a desorganização.\n",
        "\n",
        "* Dificuldade em realizar consultas complexas.\n",
        "\n",
        "Exemplos:\n",
        "\n",
        "* [Amazon DynamoDB](https://www.allthingsdistributed.com/files/amazon-dynamo-sosp2007.pdf), 2007\n",
        "\n",
        "* [Redis](https://redis.io/) (**in-memory database**)\n",
        "\n",
        "* [Riak](https://riak.com/index.html)"
      ],
      "metadata": {
        "id": "n-1GpHjnl9cN"
      }
    },
    {
      "cell_type": "markdown",
      "source": [
        "# Bancos de Dados de Armazenamento em Colunas (7.3)\n",
        "\n",
        "Os bancos de dados são bancos de dados key-value, onde os dados são organizados em famílias de colunas em vez de linhas. Essa estrutura permite otimizar operações de leitura, agrupando colunas que são frequentemente acessadas juntas, possibilitando **melhorar a eficiência das buscas**. Os dados são armazenados em tabelas multidimensionais, onde as colunas são agrupadas em famílias, e a flexibilidade é mantida ao permitir chaves de coluna arbitrárias dentro de cada família.\n",
        "\n",
        "> **Como o armazenamento colunar pode permitir consultas mais eficientes?**\n",
        "\n",
        "<br>\n",
        "<br>\n",
        "\n",
        "Vantagens:\n",
        "\n",
        "* Alta escalabilidade e disponibilidade.\n",
        "\n",
        "* Estrutura útil com controle de acesso e localização de dados.\n",
        "\n",
        "* Flexibilidade na utilização de chaves de coluna.\n",
        "\n",
        "Desvantagens:\n",
        "\n",
        "* Complexidade na gestão de dados devido à falta de um esquema rígido.\n",
        "\n",
        "* Pode ser menos intuitivo para usuários acostumados a bancos de dados relacionais.\n",
        "\n",
        "* Desempenho pode ser afetado em operações que exigem acesso a múltiplas famílias de colunas.\n",
        "\n",
        "Exemplos:\n",
        "\n",
        "* [Google Bigtable](https://research.google/pubs/bigtable-a-distributed-storage-system-for-structured-data/), 2006\n",
        "\n",
        "* [Apache Cassandra](https://cassandra.apache.org/_/index.html), origem no Bigtable, NetFlix\n",
        "\n",
        "* [Apache HBase](https://hbase.apache.org/), origem no Bigtable, open source em **Java**, integração com Apache+HDFS+MapReduce\n",
        "\n"
      ],
      "metadata": {
        "id": "J3Zd6svTn_7s"
      }
    },
    {
      "cell_type": "markdown",
      "source": [
        "<img src=\"https://github.com/Rogerio-mack/data-engineering/blob/main/figs/A5_colunar.png?raw=true\" height=\"250\" align=\"left\"/></a>"
      ],
      "metadata": {
        "id": "aDB6f6q_dz6T"
      }
    },
    {
      "cell_type": "markdown",
      "source": [
        "# Bancos de dados orientados a documentos (7.4)\n",
        "\n",
        "Bancos de dados orientados a documentos armazenam dados em documentos estruturados, geralmente em formatos como JSON (ou ainda temos os bancos de dados XML), **sem a necessidade de um esquema predefinido**. Cada documento é identificado por uma chave única. São particularmente adequados para aplicações web, pois podem ser facilmente integrados com tecnologias como JavaScript e HTTP, além de suportarem escalabilidade horizontal através de sharding.\n",
        "\n",
        "<br>\n",
        "<br>\n",
        "\n",
        "Vantagens:\n",
        "\n",
        "* Flexibilidade na estrutura de dados, permitindo a inclusão de atributos variados.\n",
        "\n",
        "* Facilidade de integração com aplicações web.\n",
        "\n",
        "* Escalabilidade horizontal eficiente.\n",
        "\n",
        "Desvantagens:\n",
        "\n",
        "* Falta de integridade referencial e normalização.\n",
        "\n",
        "* Consistência eventual pode levar a dados desatualizados temporariamente.\n",
        "\n",
        "* Dificuldade em realizar consultas complexas.\n",
        "\n",
        "Exemplos:\n",
        "\n",
        "* [MongoDB](https://www.mongodb.com/), **TimeSeries!**\n",
        "\n",
        "* [CouchDB](https://www.datadoghq.com/dg/monitor/couchdb/), **Datadog**\n",
        "\n",
        "* [Amazon DocumentDB](https://aws.amazon.com/pt/documentdb/) \"alguma\" (kkk) compatibilidade com MongoDB versão > 3.6\n",
        "\n",
        "* Tamino XML, *very old...*"
      ],
      "metadata": {
        "id": "SOVrrZcUrf7-"
      }
    },
    {
      "cell_type": "markdown",
      "source": [
        "<img src=\"https://github.com/Rogerio-mack/data-engineering/blob/main/figs/A5_documentos.png?raw=true\" height=\"250\" align=\"left\"/></a>"
      ],
      "metadata": {
        "id": "H6wU6qDud3gb"
      }
    },
    {
      "cell_type": "markdown",
      "source": [
        "<img src=\"https://github.com/Rogerio-mack/data-engineering/blob/main/figs/A5_xml.png?raw=true\" height=\"150\" align=\"left\"/></a>"
      ],
      "metadata": {
        "id": "vhBpr3Nld7rK"
      }
    },
    {
      "cell_type": "markdown",
      "source": [
        "# Bancos de dados orientados a grafos (7.5)\n",
        "\n",
        "Armazenam dados na forma de grafos, nós e arestas, representando entidades e suas relações. São especialmente úteis em aplicações que envolvem redes sociais, análise de infraestrutura e roteamento na internet etc.\n",
        "\n"
      ],
      "metadata": {
        "id": "n8h1DGNtuhHf"
      }
    },
    {
      "cell_type": "markdown",
      "source": [
        "<img src=\"https://github.com/Rogerio-mack/data-engineering/blob/main/figs/A5_graph.png?raw=true\" height=\"250\" align=\"left\"/></a>"
      ],
      "metadata": {
        "id": "84hME5JCd94j"
      }
    },
    {
      "cell_type": "markdown",
      "source": [
        "## Grafos\n",
        "\n",
        "> **A propriedade de adjacência sem índice permite que a busca por vizinhos diretos de um nó seja constante, independentemente do volume de dados.**\n",
        "\n",
        "<br>\n",
        "<br>\n",
        "\n",
        "## Listas de Adjacências\n",
        "\n",
        "> Alice: [Bob, Carlos]\n",
        "\n",
        "> Bob: [Alice, Dani]\n",
        "\n",
        "> Carlos: [Alice]\n",
        "\n",
        "> Dani: [Bob]\n",
        "\n",
        "<br>\n",
        "\n",
        "> *Alice é amiga de Bob e Carlos.\n",
        "Bob é amigo de Alice e Dani.\n",
        "Carlos é amigo apenas de Alice.\n",
        "Dani é amiga apenas de Bob.*\n",
        "\n",
        "## Matriz de Adjacências\n",
        "\n",
        "|   | Alice | Bob | Carlos | Dani |\n",
        "|---|---|---|---|---|\n",
        "| Alice | 0 | 1 | 1 | 0 |\n",
        "| Bob | 1 | 0 | 0 | 1 |\n",
        "| Carlos | 1 | 0 | 0 | 0 |\n",
        "| Dani | 0 | 1 | 0 | 0 |\n",
        "\n",
        "> *Alice é amiga de Bob e Carlos.\n",
        "Bob é amigo de Alice e Dani.\n",
        "Carlos é amigo apenas de Alice.\n",
        "Dani é amiga apenas de Bob.*\n",
        "\n",
        "<br>\n",
        "\n",
        "**Listas de adjacência** são mais eficientes em termos de espaço para grafos esparsos e são ideais para encontrar os vizinhos de um nó. Já as **Matrizes de adjacência** são mais simples de implementar e permitem verificar rapidamente se existe uma aresta entre dois nós, mas podem consumir muito espaço para grafos esparsos (**talvez...**).\n",
        "\n",
        "## Grafo direcionado\n",
        "\n",
        "> **Como seria um grafo direcionado**, tipo \"Alice segue Bob\" (mas não necessariamente \"Bob segue Alice\")...\n",
        "\n",
        "Lista de Adjacência:\n",
        "\n",
        "> Alice: [Bob]\n",
        "\n",
        "> Bob: []\n",
        "\n",
        "> Carlos: [Alice, Bob]\n",
        "\n",
        "> Dani: [Alice, Carlos]\n",
        "\n",
        "<br>\n",
        "\n",
        "|   | Alice | Bob | Carlos | Dani |\n",
        "|---|---|---|---|---|\n",
        "| Alice | 0 | 1 | 0 | 0 |\n",
        "| Bob | 0 | 0 | 0 | 0 |\n",
        "| Carlos | 1 | 1 | 0 | 0 |\n",
        "| Dani | 1 | 1 | 0 | 0 |\n"
      ],
      "metadata": {
        "id": "BlPk93iMxWlM"
      }
    },
    {
      "cell_type": "markdown",
      "source": [
        "\n",
        "<br>\n",
        "<br>\n",
        "\n",
        "Vantagens:\n",
        "\n",
        "*  Consultas rápidas e eficientes em dados altamente interconectados.\n",
        "\n",
        "*  Estrutura natural para representar relacionamentos complexos.\n",
        "\n",
        "*  Flexibilidade na adição de novos tipos de nós e arestas.\n",
        "\n",
        "Desvantagens:\n",
        "\n",
        "*  Fragmentação de dados pode ser complexa devido às relações entre registros.\n",
        "\n",
        "*  Algoritmos para particionamento de grafos são computacionalmente intensivos.\n",
        "\n",
        "*  Menos suporte para operações de consulta complexas em comparação com bancos de dados relacionais.\n",
        "\n",
        "Exemplos:\n",
        "\n",
        "* [Neo4j](https://neo4j.com/)\n",
        "\n",
        "* [Amazon Neptune](https://aws.amazon.com/pt/neptune/)\n",
        "\n",
        "* [ArangoDB](https://arangodb.com/)\n",
        "\n",
        "* Not a database, but see also, [Pajek](https://pajek.software.informer.com/)"
      ],
      "metadata": {
        "id": "LgnKE9waxT1S"
      }
    },
    {
      "cell_type": "markdown",
      "source": [
        "# Vector Stores: Bases de Dados de Busca Semântica (7.None)\n",
        "\n",
        "Os **Vector Stores** são como bibliotecas altamente especializadas no armazenamento e manipulação de **vetores** ou **arrays** empregados em representações numéricas complexas de informações textuais, imagens, ou qualquer outro tipo de dado que possa ser convertido em um formato numérico. Essa conversão é em geral feita por modelos de linguagem natural ou, mais recentemente por modelos de aprendizado de máquina, como os grande modelos de linguagem, que transformam textos em vetores que capturam o significado semântico das palavras e frases.\n",
        "\n"
      ],
      "metadata": {
        "id": "hXgS1f2lgQTr"
      }
    },
    {
      "cell_type": "markdown",
      "source": [
        "<img src=\"https://github.com/Rogerio-mack/data-engineering/blob/main/figs/A5_vector_store.png?raw=true\" height=\"250\" align=\"left\"/></a>"
      ],
      "metadata": {
        "id": "jkrs_83Wfdmz"
      }
    },
    {
      "cell_type": "markdown",
      "source": [
        "## Busca semântica\n",
        "\n",
        "Ao invés de buscar por palavras-chave exatas, as Vector Stores permitem realizar buscas baseadas na similaridade semântica entre os vetores.\n",
        "\n",
        "* **Recomendação:** Ao analisar os vetores de itens que um usuário já interagiu, é possível recomendar outros itens com vetores semelhantes, ou seja, itens que são semanticamente próximos.\n",
        "\n",
        "* **Clustering:** Agrupar vetores semelhantes permite identificar temas ou tópicos em grandes conjuntos de dados.\n",
        "\n",
        "* **Similaridade:** Textos, ou mesmo imagens, com similaridade semântica, isto é *semelhantes* podem ser buscados.\n",
        "\n"
      ],
      "metadata": {
        "id": "39acOEcmhE-7"
      }
    },
    {
      "cell_type": "code",
      "source": [
        "from IPython.display import IFrame\n",
        "IFrame('https://python.langchain.com/v0.2/docs/integrations/vectorstores/', width=1500, height=600)\n"
      ],
      "metadata": {
        "colab": {
          "base_uri": "https://localhost:8080/",
          "height": 641
        },
        "id": "9Y1qf82jjDEa",
        "outputId": "6245c285-0cf9-4087-9ad1-4a6a2ccbef8c"
      },
      "execution_count": null,
      "outputs": [
        {
          "output_type": "execute_result",
          "data": {
            "text/plain": [
              "<IPython.lib.display.IFrame at 0x7ec32a445750>"
            ],
            "text/html": [
              "\n",
              "        <iframe\n",
              "            width=\"1500\"\n",
              "            height=\"600\"\n",
              "            src=\"https://python.langchain.com/v0.2/docs/integrations/vectorstores/\"\n",
              "            frameborder=\"0\"\n",
              "            allowfullscreen\n",
              "            \n",
              "        ></iframe>\n",
              "        "
            ]
          },
          "metadata": {},
          "execution_count": 3
        }
      ]
    },
    {
      "cell_type": "markdown",
      "source": [
        "## Exemplos\n",
        "\n",
        "O **FAISS** (Facebook AI Similarity Search) é uma biblioteca de código aberto desenvolvida pelo Facebook AI Research para realizar buscas de similaridade em grandes conjuntos de vetores. Ele é especialmente eficiente para lidar com bilhões de vetores, tornando-o uma escolha popular para aplicações em grande escala.\n",
        "\n",
        "> * **Velocidade:** O FAISS é otimizado para realizar buscas de similaridade de forma rápida, mesmo em grandes conjuntos de dados.\n",
        "> * **Flexibilidade:** Suporta diversos algoritmos de indexação e busca, permitindo escolher a melhor opção para cada caso de uso.\n",
        "> * **Escalabilidade:** Pode ser facilmente escalado para lidar com grandes volumes de dados.\n",
        "\n",
        "* **Milvus:** Um sistema de busca vetorial de alto desempenho, projetado para aplicações em grande escala.\n",
        "\n",
        "<br>\n",
        "\n",
        "---\n",
        "<br>\n",
        "\n",
        "* **Pinecone:** Uma plataforma de vetor database gerenciada na nuvem.\n",
        "\n",
        "* **Weaviate:** Uma base de dados semântica de código aberto que combina a busca por vetores com mecanismos de grafo.\n",
        "\n",
        "* **Chroma:** Mais uma biblioteca de Python para construir aplicações de busca semântica que exatamente um \"banco\".\n",
        "\n",
        "\n",
        "\n",
        "\n"
      ],
      "metadata": {
        "id": "3xWTFT8bh65T"
      }
    }
  ]
}