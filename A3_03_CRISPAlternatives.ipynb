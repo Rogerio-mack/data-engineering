{
  "nbformat": 4,
  "nbformat_minor": 0,
  "metadata": {
    "kernelspec": {
      "display_name": "Python 3",
      "language": "python",
      "name": "python3"
    },
    "language_info": {
      "codemirror_mode": {
        "name": "ipython",
        "version": 3
      },
      "file_extension": ".py",
      "mimetype": "text/x-python",
      "name": "python",
      "nbconvert_exporter": "python",
      "pygments_lexer": "ipython3",
      "version": "3.7.4"
    },
    "colab": {
      "provenance": [],
      "include_colab_link": true
    }
  },
  "cells": [
    {
      "cell_type": "markdown",
      "metadata": {
        "id": "view-in-github",
        "colab_type": "text"
      },
      "source": [
        "<a href=\"https://colab.research.google.com/github/Rogerio-mack/data-engineering/blob/main/A3_03_CRISPAlternatives.ipynb\" target=\"_parent\"><img src=\"https://colab.research.google.com/assets/colab-badge.svg\" alt=\"Open In Colab\"/></a>"
      ]
    },
    {
      "cell_type": "markdown",
      "metadata": {
        "id": "UeFDQBSgSe7X"
      },
      "source": [
        "<img src=\"http://meusite.mackenzie.br/rogerio/mackenzie_logo/UPM.2_horizontal_vermelho.jpg\"  width=300, align=\"right\">\n",
        "<br>\n",
        "<br>\n",
        "<br>\n",
        "<br>\n",
        "<br>\n",
        "\n",
        "# Ciclo de Análise de Dados e Alternativas\n"
      ]
    },
    {
      "cell_type": "markdown",
      "source": [
        "<img src=\"https://github.com/Rogerio-mack/IMT_Ciencia_de_Dados/raw/main/images/dspm-poll-2020-10.png\" width=500, align=\"center\">\n",
        "\n",
        "<br>\n",
        "<br>\n",
        "\n",
        "<small><b>Fonte: https://www.datascience-pm.com/crisp-dm-still-most-popular/"
      ],
      "metadata": {
        "id": "vEsDUjP771zv"
      }
    },
    {
      "cell_type": "markdown",
      "metadata": {
        "id": "mkikcHbi26Uo"
      },
      "source": [
        "# As Fases do CRISP-DM\n",
        "\n",
        "As fases do modelo de referência CRISP-DM encontram-se resumidas no quadro abaixo.\n",
        "\n",
        "\n",
        "<br>\n",
        "<br>\n",
        "<img src=\"https://github.com/Rogerio-mack/IMT_Ciencia_de_Dados/raw/main/images/crispvg.png\"  width=900, align=\"center\">\n",
        "<br>\n",
        "<br>\n",
        "\n",
        "\n",
        "Você pode também querer consultar a documentação original desse modelo de referência.\n",
        "\n",
        "* [CRISP Visual Guide](https://github.com/Rogerio-mack/IMT_Ciencia_de_Dados/blob/main/others/crisp_visualguide.pdf) | [download](https://github.com/Rogerio-mack/IMT_Ciencia_de_Dados/raw/main/others/crisp_visualguide.pdf)\n",
        "\n",
        "* [CRISP DM 1.0](https://github.com/Rogerio-mack/IMT_Ciencia_de_Dados/blob/main/others/crisp-dm.pdf) | [download](https://github.com/Rogerio-mack/IMT_Ciencia_de_Dados/raw/main/others/crisp-dm.pdf)\n",
        "\n"
      ]
    },
    {
      "cell_type": "markdown",
      "source": [
        "# Prós e Contras\n",
        "\n",
        "Embora seja um modelo bastante aceito há inúmeras críticas a esse modelo em projetos mais atuais de Ciência de Dados.\n",
        "\n",
        "Como pontos positivos o CRISP-DM:\n",
        "\n",
        "* Fornece orientação robusta e clara para as atividades do projeto e ajuda a melhorar o senso comum ao iterar as fases do projeto.\n",
        "* Pode ser aplicado sem muito treinamento\n",
        "\n",
        "Como pontos negativos:\n",
        "\n",
        "* Sofre das mesmas falhas do processo Waterfall e sobrecarrega a iteração rápida\n",
        "* Não considera muitos dos desafios de um moderno projeto de ciência de dados como a ingestão de dados, uso de um eco sistemas de big data, serviços em nuvem, trabalho colaborativo e questões éticas.  \n",
        "\n",
        "Entretanto seus insights seguem bastante úteis para qualquer projeto envolvendo dados.\n",
        "\n"
      ],
      "metadata": {
        "id": "dZd34yABDj-X"
      }
    },
    {
      "cell_type": "markdown",
      "source": [
        "\n",
        "## Sua vez\n",
        "\n",
        "> ❓ **Discussão**\n",
        "\n",
        "> - ***Sempre precisamos ter em mente que *o sistema final não será aquele que o arquiteto ou o cientista de dados projetam, mas aquele que o engenheiro constrói.***\n",
        "\n",
        "> - ***No metódo científico, o modelo da Ciência, prevê a experimentação e não há garantia de resultados e nem do tempo e esforço necessários. A Ciência de Dados, entendida como uma ciência, traz isso como um grande desafio para as empresas mais tradicionais que não aceitam riscos ou empreendem na inovação.***"
      ],
      "metadata": {
        "id": "sRICktAlVLUj"
      }
    },
    {
      "cell_type": "markdown",
      "source": [
        "## Sua vez\n",
        "\n",
        "> ❓ **Vamos navegar em alguns dos outros frameworks de processos de Ciência de Dados. Acesse e levante ao menos dois aspectos que chamam a sua atenção e não são cobertos pelo modelo CRISP-DM.**\n",
        "\n"
      ],
      "metadata": {
        "id": "58LXJz6QF2xY"
      }
    },
    {
      "cell_type": "markdown",
      "source": [
        "### TDSP Microsoft\n",
        "\n",
        "O **Team Data Science Process** (TDSP) é a resposta da Microsoft para uma metodologia ágil e iterativa de ciência de dados para soluções de análise preditiva e aplicativos inteligentes. O TDSP busca melhorar a colaboração e o aprendizado da equipe, sugerindo como as funções da equipe funcionam melhor juntas. O TDSP tem os seguintes componentes principais:\n",
        "\n",
        "- Uma definição do ciclo de vida da ciência de dados\n",
        "- Uma estrutura de projeto padronizada\n",
        "- Infraestrutura e recursos recomendados para projetos de ciência de dados\n",
        "- Ferramentas e utilitários recomendados para a execução do projeto\n",
        "\n",
        "Acesse sobre este framework [aqui](https://learn.microsoft.com/en-gb/azure/architecture/data-science-process/overview)."
      ],
      "metadata": {
        "id": "D-CPbvjqHac4"
      }
    },
    {
      "cell_type": "markdown",
      "source": [
        "<br>\n",
        "<br>\n",
        "<img src=\"https://github.com/Rogerio-mack/IMT_Ciencia_de_Dados/raw/main/images/tdsp-lifecycle2.png\"  width=700, align=\"center\">\n",
        "<br>\n",
        "<br>\n",
        "\n",
        "<small><b>Ciclo de vida do Team Data Science Process.\n",
        "\n",
        "<br>\n",
        "<br>\n",
        "<img src=\"https://github.com/Rogerio-mack/IMT_Ciencia_de_Dados/raw/main/images/tdsp-tasks-by-roles.png\"  width=700, align=\"center\">\n",
        "<br>\n",
        "<br>\n",
        "\n",
        "<small><b>O diagrama acima fornece uma visualização  das tarefas (em azul) e artefatos (em verde) associados a cada estágio do ciclo de vida (eixo horizontal) para cada uma das funções ou papéis no projeto (eixo vertical).\n"
      ],
      "metadata": {
        "id": "ruLzUrbQIxF5"
      }
    },
    {
      "cell_type": "markdown",
      "source": [
        "### Google\n",
        "\n",
        "O modelo da Google não tem leva um nome em particular e apresenta uma visão bastante orientada ao uso de seus serviços em nuvem. Acesse para saber mais sobre este framework [aqui](https://cloud.google.com/blog/topics/developers-practitioners/intro-data-science-google-cloud).\n",
        "\n",
        "\n"
      ],
      "metadata": {
        "id": "kli6A3pnGBOI"
      }
    },
    {
      "cell_type": "markdown",
      "source": [
        "<br>\n",
        "<br>\n",
        "<img src=\"https://github.com/Rogerio-mack/IMT_Ciencia_de_Dados/raw/main/images/Intro_To_Data_Science.jpg\"  width=700, align=\"center\">\n",
        "<br>\n",
        "<br>\n",
        "\n",
        "<small><b>Ciclo de vida na visão da Google.\n",
        "\n",
        "<br>\n",
        "<br>\n",
        "<img src=\"https://github.com/Rogerio-mack/IMT_Ciencia_de_Dados/raw/main/images/Data_Science_on_Google_Cloud.jpg\"  width=700, align=\"center\">\n",
        "<br>\n",
        "<br>\n",
        "\n",
        "<small><b>Ciclo de vida na visão da Google com o detalhe dos seus serviços em nuvem para solução."
      ],
      "metadata": {
        "id": "_xlwqKsSIpaZ"
      }
    },
    {
      "cell_type": "markdown",
      "metadata": {
        "id": "k4noMRT_YUd7"
      },
      "source": [
        "# Veja também\n",
        "\n",
        "> [Preparação de dados e engenharia de atributos em ML](https://developers.google.com/machine-learning/data-prep?hl=pt-br)\n",
        "\n",
        "> Provost, F., & Fawcett, T. (2013). **Data Science for Business: What you need to know about data mining and data-analytic thinking.** O'Reilly Media, Inc.\". [PDF](https://github.com/Rogerio-mack/IMT_Ciencia_de_Dados/blob/main/others/Provost.pdf)\n",
        "\n"
      ]
    },
    {
      "cell_type": "markdown",
      "metadata": {
        "id": "fa24d435"
      },
      "source": [
        "# Referências"
      ]
    },
    {
      "cell_type": "markdown",
      "metadata": {
        "id": "zlJfWteFyhFy"
      },
      "source": [
        "Pete Chapman, Julian Clinton, Randy Kerber,\n",
        "Thomas Khabaza, Thomas Reinartz,\n",
        "Colin Shearer, Rüdiger Wirth **[CRISP DM 1.0]((https://github.com/Rogerio-mack/IMT_Ciencia_de_Dados/raw/main/others/crisp-dm.pdf)) Step-by-step data mining guide**\n",
        "Disponível em: https://github.com/Rogerio-mack/IMT_Ciencia_de_Dados/raw/main/others/crisp-dm.pdf.\n",
        "\n",
        "kelleher,John D.; Tierney, Brendan. **Data Science** (The MIT Press Essential Knowledge). The MIT Press. 2018.\n",
        "\n"
      ]
    }
  ]
}