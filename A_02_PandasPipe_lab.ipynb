{
  "nbformat": 4,
  "nbformat_minor": 0,
  "metadata": {
    "colab": {
      "provenance": [],
      "authorship_tag": "ABX9TyMoccGOjtp2WLuSMIQCypJh",
      "include_colab_link": true
    },
    "kernelspec": {
      "name": "python3",
      "display_name": "Python 3"
    },
    "language_info": {
      "name": "python"
    }
  },
  "cells": [
    {
      "cell_type": "markdown",
      "metadata": {
        "id": "view-in-github",
        "colab_type": "text"
      },
      "source": [
        "<a href=\"https://colab.research.google.com/github/Rogerio-mack/data-engineering/blob/main/A_02_PandasPipe_lab.ipynb\" target=\"_parent\"><img src=\"https://colab.research.google.com/assets/colab-badge.svg\" alt=\"Open In Colab\"/></a>"
      ]
    },
    {
      "cell_type": "markdown",
      "source": [
        "# Pandas: easy EDA, grandes arquivos e pipeline\n",
        "\n",
        "Acesse os dados completos de Covid no Brasil e:\n",
        "\n",
        "* Faça uma exploração de dados simples, e destaque algum resultado que você julga relevante\n",
        "* Implemente um pipeline do Pandas, para fazer seleções e transformações dos dados que você julgue relevantes"
      ],
      "metadata": {
        "id": "44LNkM2MY1tb"
      }
    },
    {
      "cell_type": "code",
      "source": [
        "from IPython.display import IFrame\n",
        "IFrame('https://covid.saude.gov.br/', width=1200, height=600)\n"
      ],
      "metadata": {
        "colab": {
          "base_uri": "https://localhost:8080/",
          "height": 641
        },
        "id": "nbCUmH_TdDXC",
        "outputId": "8326ced3-3c7e-4f4d-8bb0-bca5c8fc507c"
      },
      "execution_count": 1,
      "outputs": [
        {
          "output_type": "execute_result",
          "data": {
            "text/plain": [
              "<IPython.lib.display.IFrame at 0x7ea7f6ae9690>"
            ],
            "text/html": [
              "\n",
              "        <iframe\n",
              "            width=\"1200\"\n",
              "            height=\"600\"\n",
              "            src=\"https://covid.saude.gov.br/\"\n",
              "            frameborder=\"0\"\n",
              "            allowfullscreen\n",
              "            \n",
              "        ></iframe>\n",
              "        "
            ]
          },
          "metadata": {},
          "execution_count": 1
        }
      ]
    }
  ]
}