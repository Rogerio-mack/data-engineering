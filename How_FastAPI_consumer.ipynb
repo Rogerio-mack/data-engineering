{
  "nbformat": 4,
  "nbformat_minor": 0,
  "metadata": {
    "colab": {
      "provenance": [],
      "authorship_tag": "ABX9TyMMQTcM4fW8qPkExfi3x78t",
      "include_colab_link": true
    },
    "kernelspec": {
      "name": "python3",
      "display_name": "Python 3"
    },
    "language_info": {
      "name": "python"
    }
  },
  "cells": [
    {
      "cell_type": "markdown",
      "metadata": {
        "id": "view-in-github",
        "colab_type": "text"
      },
      "source": [
        "<a href=\"https://colab.research.google.com/github/Rogerio-mack/data-engineering/blob/main/How_FastAPI_consumer.ipynb\" target=\"_parent\"><img src=\"https://colab.research.google.com/assets/colab-badge.svg\" alt=\"Open In Colab\"/></a>"
      ]
    },
    {
      "cell_type": "markdown",
      "source": [
        "# FastAPI Consumer"
      ],
      "metadata": {
        "id": "TiMxU6WbtOE6"
      }
    },
    {
      "cell_type": "code",
      "execution_count": 39,
      "metadata": {
        "colab": {
          "base_uri": "https://localhost:8080/"
        },
        "id": "jretVVfYWerJ",
        "outputId": "71eb6f16-6339-4ee6-f03c-aed81773b9ff"
      },
      "outputs": [
        {
          "output_type": "stream",
          "name": "stdout",
          "text": [
            "Success!\n",
            "{'Hello': 'Welcome to Agenda!'}\n"
          ]
        }
      ],
      "source": [
        "import requests\n",
        "\n",
        "base_url = \"https://3eff-104-196-151-166.ngrok-free.app\"  # você deve empregar a url pública atualizada\n",
        "\n",
        "endpoint = ''\n",
        "\n",
        "url = f\"{base_url}{endpoint}\"\n",
        "\n",
        "response = requests.get(url)\n",
        "\n",
        "if response.status_code == 200:\n",
        "  print('Success!')\n",
        "  # Process the response content here\n",
        "else:\n",
        "  print('Request failed with status code:', response.status_code)\n",
        "\n",
        "print(response.json())"
      ]
    },
    {
      "cell_type": "code",
      "source": [
        "endpoint = '/list-all'\n",
        "\n",
        "url = f\"{base_url}{endpoint}\"\n",
        "\n",
        "response = requests.get(url)\n",
        "\n",
        "if response.status_code == 200:\n",
        "  print('Success!')\n",
        "  # Process the response content here\n",
        "else:\n",
        "  print('Request failed with status code:', response.status_code)\n",
        "\n",
        "print(response.json())"
      ],
      "metadata": {
        "colab": {
          "base_uri": "https://localhost:8080/"
        },
        "id": "S8YKOgsvcT1G",
        "outputId": "fdc372ec-b01d-4e4e-8773-df042c9eea4e"
      },
      "execution_count": 40,
      "outputs": [
        {
          "output_type": "stream",
          "name": "stdout",
          "text": [
            "Success!\n",
            "{'All': [{'id': 1, 'name': 'Rogerio', 'age': 60}, {'id': 2, 'name': 'Anna', 'age': 37}, {'id': 3, 'name': 'Maria', 'age': 25}]}\n"
          ]
        }
      ]
    },
    {
      "cell_type": "code",
      "source": [
        "endpoint = \"/get-by-name\"\n",
        "name = input(\"Entre com o nome:\")\n",
        "\n",
        "url = f\"{base_url}{endpoint}?name={name}\"\n",
        "\n",
        "response = requests.get(url)\n",
        "\n",
        "if response.status_code == 200:\n",
        "  print('Success!')\n",
        "  # Process the response content here\n",
        "else:\n",
        "  print('Request failed with status code:', response.status_code)\n",
        "\n",
        "print(response.json())"
      ],
      "metadata": {
        "colab": {
          "base_uri": "https://localhost:8080/"
        },
        "id": "cWJ7wMCbh53g",
        "outputId": "d5fd4792-8952-4d98-e4ed-73170bdc28af"
      },
      "execution_count": 41,
      "outputs": [
        {
          "output_type": "stream",
          "name": "stdout",
          "text": [
            "Entre com o nome:Rogerio\n",
            "Success!\n",
            "{'Item': {'id': 1, 'name': 'Rogerio', 'age': 60}}\n"
          ]
        }
      ]
    },
    {
      "cell_type": "code",
      "source": [
        "endpoint = \"/create-item\"\n",
        "item_id = 5\n",
        "new_item = { \"name\": \"Jose\", \"age\": 21 }\n",
        "\n",
        "url = f\"{base_url}{endpoint}/{item_id}\"\n",
        "\n",
        "response = requests.post(url, json=new_item)\n",
        "\n",
        "if response.status_code == 200:\n",
        "  print('Success!')\n",
        "else:\n",
        "  print('Request failed with status code:', response.status_code)\n",
        "\n",
        "print(response.json())"
      ],
      "metadata": {
        "colab": {
          "base_uri": "https://localhost:8080/"
        },
        "id": "fNxMBFXTmbPa",
        "outputId": "43df4021-7017-4465-c1ef-92000305dbfe"
      },
      "execution_count": 42,
      "outputs": [
        {
          "output_type": "stream",
          "name": "stdout",
          "text": [
            "Success!\n",
            "{'name': 'Jose', 'age': 21.0, 'id': 5}\n"
          ]
        }
      ]
    },
    {
      "cell_type": "code",
      "source": [
        "endpoint = \"/delete-item\"\n",
        "item_id = 5\n",
        "\n",
        "url = f\"{base_url}{endpoint}/{item_id}\"\n",
        "\n",
        "response = requests.delete(url)\n",
        "\n",
        "if response.status_code == 200:\n",
        "  print('Success!')\n",
        "else:\n",
        "  print('Request failed with status code:', response.status_code)\n",
        "\n",
        "print(response.json())"
      ],
      "metadata": {
        "colab": {
          "base_uri": "https://localhost:8080/"
        },
        "id": "yK9PimqJoEHS",
        "outputId": "a88d6864-820e-4507-8471-393b43dd7d14"
      },
      "execution_count": 43,
      "outputs": [
        {
          "output_type": "stream",
          "name": "stdout",
          "text": [
            "Success!\n",
            "{'Mensagem': 'Item excluído'}\n"
          ]
        }
      ]
    },
    {
      "cell_type": "code",
      "source": [
        "endpoint = \"/update-item\"\n",
        "item_id = 2\n",
        "updated_data = {\"name\": \"Ana\", \"age\": 21}\n",
        "\n",
        "url = f\"{base_url}{endpoint}/{item_id}\"\n",
        "\n",
        "response = requests.put(url, json=updated_data)\n",
        "\n",
        "if response.status_code == 200:\n",
        "  print('Success!')\n",
        "else:\n",
        "  print('Request failed with status code:', response.status_code)\n",
        "\n",
        "print(response.json())"
      ],
      "metadata": {
        "colab": {
          "base_uri": "https://localhost:8080/"
        },
        "outputId": "66ab6371-c856-4b6b-be9f-3fadc1a770ec",
        "id": "CtQ9qQ2SpC3M"
      },
      "execution_count": 44,
      "outputs": [
        {
          "output_type": "stream",
          "name": "stdout",
          "text": [
            "Success!\n",
            "[{'id': 2, 'name': 'Ana', 'age': 21.0}]\n"
          ]
        }
      ]
    }
  ]
}