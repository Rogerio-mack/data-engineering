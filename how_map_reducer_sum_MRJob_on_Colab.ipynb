{
  "nbformat": 4,
  "nbformat_minor": 0,
  "metadata": {
    "colab": {
      "provenance": [],
      "collapsed_sections": [
        "rfot63PRWWma"
      ],
      "include_colab_link": true
    },
    "kernelspec": {
      "name": "python3",
      "display_name": "Python 3"
    },
    "language_info": {
      "name": "python"
    }
  },
  "cells": [
    {
      "cell_type": "markdown",
      "metadata": {
        "id": "view-in-github",
        "colab_type": "text"
      },
      "source": [
        "<a href=\"https://colab.research.google.com/github/Rogerio-mack/data-engineering/blob/main/how_map_reducer_sum_MRJob_on_Colab.ipynb\" target=\"_parent\"><img src=\"https://colab.research.google.com/assets/colab-badge.svg\" alt=\"Open In Colab\"/></a>"
      ]
    },
    {
      "cell_type": "markdown",
      "source": [
        "# **MRjob on Colab**: sum  \n",
        "\n",
        "A **MRJob** é construída sobre o Hadoop Streaming. Ela oferece uma camada de abstração que simplifica o desenvolvimento de jobs MapReduce."
      ],
      "metadata": {
        "id": "ZloEAv0CsWoT"
      }
    },
    {
      "cell_type": "markdown",
      "source": [
        "## Mapper e Reducer (.py)"
      ],
      "metadata": {
        "id": "UIol05R79vtm"
      }
    },
    {
      "cell_type": "code",
      "source": [
        "!pip install mrjob"
      ],
      "metadata": {
        "colab": {
          "base_uri": "https://localhost:8080/"
        },
        "id": "-qbzux9y4Zey",
        "outputId": "82631901-822a-42f2-a886-9cf7a57e0897"
      },
      "execution_count": null,
      "outputs": [
        {
          "output_type": "stream",
          "name": "stdout",
          "text": [
            "Collecting mrjob\n",
            "  Downloading mrjob-0.7.4-py2.py3-none-any.whl.metadata (7.3 kB)\n",
            "Requirement already satisfied: PyYAML>=3.10 in /usr/local/lib/python3.10/dist-packages (from mrjob) (6.0.2)\n",
            "Downloading mrjob-0.7.4-py2.py3-none-any.whl (439 kB)\n",
            "\u001b[2K   \u001b[90m━━━━━━━━━━━━━━━━━━━━━━━━━━━━━━━━━━━━━━━━\u001b[0m \u001b[32m439.6/439.6 kB\u001b[0m \u001b[31m5.9 MB/s\u001b[0m eta \u001b[36m0:00:00\u001b[0m\n",
            "\u001b[?25hInstalling collected packages: mrjob\n",
            "Successfully installed mrjob-0.7.4\n"
          ]
        }
      ]
    },
    {
      "cell_type": "code",
      "source": [
        "%%writefile mr_sum.py\n",
        "#!/usr/bin/env python\n",
        "from mrjob.job import MRJob\n",
        "\n",
        "class MRSum(MRJob):\n",
        "\n",
        "    def mapper(self, _, line):\n",
        "        try:\n",
        "            yield 'total', int(line)\n",
        "        except ValueError:\n",
        "            pass  # Ignora linhas que não são números\n",
        "\n",
        "    def reducer(self, key, values):\n",
        "        yield key, sum(values)\n",
        "\n",
        "if __name__ == '__main__':\n",
        "    MRSum.run()"
      ],
      "metadata": {
        "id": "6U-Vi9j6ox2s",
        "colab": {
          "base_uri": "https://localhost:8080/"
        },
        "outputId": "a22aa7fd-5b32-4221-b797-c735cde565a6"
      },
      "execution_count": null,
      "outputs": [
        {
          "output_type": "stream",
          "name": "stdout",
          "text": [
            "Overwriting mr_sum.py\n"
          ]
        }
      ]
    },
    {
      "cell_type": "markdown",
      "source": [
        "## Gera dados"
      ],
      "metadata": {
        "id": "6gYK4Zuwxpuh"
      }
    },
    {
      "cell_type": "code",
      "source": [
        "import random\n",
        "\n",
        "def generate_random_numbers(n):\n",
        "  \"\"\"\n",
        "  Gera n valores inteiros aleatórios entre 0 e 1000 e salva em um arquivo.\n",
        "\n",
        "  Args:\n",
        "    n: O número de valores a serem gerados.\n",
        "  \"\"\"\n",
        "  with open('numbers.txt', 'w') as f:\n",
        "    for _ in range(n):\n",
        "      random_number = random.randint(0, 1000)\n",
        "      f.write(str(random_number) + '\\n')\n",
        "\n",
        "generate_random_numbers(1000)\n"
      ],
      "metadata": {
        "id": "Xcc_rJW_xo-I"
      },
      "execution_count": null,
      "outputs": []
    },
    {
      "cell_type": "markdown",
      "source": [
        "## Execução\n"
      ],
      "metadata": {
        "id": "0ZxOgJ8UpdG_"
      }
    },
    {
      "cell_type": "code",
      "source": [
        "!python mr_sum.py numbers.txt"
      ],
      "metadata": {
        "colab": {
          "base_uri": "https://localhost:8080/"
        },
        "id": "8jfMXvAN38a5",
        "outputId": "bde6a3a5-19e5-495a-d965-9b4866a6b03a"
      },
      "execution_count": null,
      "outputs": [
        {
          "output_type": "stream",
          "name": "stdout",
          "text": [
            "No configs found; falling back on auto-configuration\n",
            "No configs specified for inline runner\n",
            "Creating temp directory /tmp/mr_sum.root.20240910.214107.724439\n",
            "Running step 1 of 1...\n",
            "job output is in /tmp/mr_sum.root.20240910.214107.724439/output\n",
            "Streaming final output from /tmp/mr_sum.root.20240910.214107.724439/output...\n",
            "\"total\"\t494024\n",
            "Removing temp directory /tmp/mr_sum.root.20240910.214107.724439...\n"
          ]
        }
      ]
    }
  ]
}