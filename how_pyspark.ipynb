{
  "nbformat": 4,
  "nbformat_minor": 0,
  "metadata": {
    "colab": {
      "provenance": [],
      "authorship_tag": "ABX9TyPhK8A/VUN1BdvHFGqwB0Q6",
      "include_colab_link": true
    },
    "kernelspec": {
      "name": "python3",
      "display_name": "Python 3"
    },
    "language_info": {
      "name": "python"
    }
  },
  "cells": [
    {
      "cell_type": "markdown",
      "metadata": {
        "id": "view-in-github",
        "colab_type": "text"
      },
      "source": [
        "<a href=\"https://colab.research.google.com/github/Rogerio-mack/data-engineering/blob/main/how_pyspark.ipynb\" target=\"_parent\"><img src=\"https://colab.research.google.com/assets/colab-badge.svg\" alt=\"Open In Colab\"/></a>"
      ]
    },
    {
      "cell_type": "markdown",
      "source": [
        "# Apache Spark\n",
        "\n",
        "O Apache Spark é uma ferramenta de processamento de dados em grande escala para executar análises complexas de forma eficiente distribuindo o processamento em clusters de computadores.\n",
        "\n",
        "O Spark mantém os dados para processamento em memória, mas pode se conectar a vários tipos de fontes de dados, incluindo:\n",
        "\n",
        "* Sistemas de arquivos: HDFS, S3, local\n",
        "* Bancos de dados relacionais: MySQL, PostgreSQL, Oracle\n",
        "* Bancos de dados NoSQL: Cassandra, MongoDB\n",
        "* Formatos de dados: CSV, JSON, Parquet, Avro\n",
        "* Streaming: Kafka, Flume\n",
        "\n",
        "Para isso o Spark utiliza conectores específicos para cada tipo de dado. Esses conectores são responsáveis por ler os dados da fonte e transformá-los em RDDs (Resilient Distributed Datasets) ou DataFrames, as estruturas de dados básicas do Spark.\n",
        "\n",
        "Os RDDs podem ser particionados em diferentes \"executers\" do Spark (diferentes máquinas) que mantem um processo principal (\"driver\") para coordenar a execução dos diferentes nós. Essas configurações são feitas através de ferramentas como o Spark Submit ou através gerenciadores de cluster como YARN ou Mesos.\n",
        "\n"
      ],
      "metadata": {
        "id": "T-I1DgaKFW7Y"
      }
    },
    {
      "cell_type": "markdown",
      "source": [
        "# PySpark\n",
        "\n",
        "O PySpark é, basicamente, uma interface do Apache Spark para a linguagem Python. Ele oferece acesso a quase todas as funcionalidades do Spark, incluindo o Spark SQL, suporte a dataframes Spark e RDDs, conexão com diferentes bases de dados e configurações (interface para interagir com o YARN) etc."
      ],
      "metadata": {
        "id": "ExjnAUtwJsPZ"
      }
    },
    {
      "cell_type": "code",
      "source": [
        "!pip install pyspark"
      ],
      "metadata": {
        "colab": {
          "base_uri": "https://localhost:8080/"
        },
        "id": "6_8PW2SR4lBD",
        "outputId": "89414de3-c8e0-43a2-ace0-0c574e6fc7b3"
      },
      "execution_count": null,
      "outputs": [
        {
          "output_type": "stream",
          "name": "stdout",
          "text": [
            "Collecting pyspark\n",
            "  Downloading pyspark-3.5.2.tar.gz (317.3 MB)\n",
            "\u001b[2K     \u001b[90m━━━━━━━━━━━━━━━━━━━━━━━━━━━━━━━━━━━━━━━━\u001b[0m \u001b[32m317.3/317.3 MB\u001b[0m \u001b[31m3.7 MB/s\u001b[0m eta \u001b[36m0:00:00\u001b[0m\n",
            "\u001b[?25h  Preparing metadata (setup.py) ... \u001b[?25l\u001b[?25hdone\n",
            "Requirement already satisfied: py4j==0.10.9.7 in /usr/local/lib/python3.10/dist-packages (from pyspark) (0.10.9.7)\n",
            "Building wheels for collected packages: pyspark\n",
            "  Building wheel for pyspark (setup.py) ... \u001b[?25l\u001b[?25hdone\n",
            "  Created wheel for pyspark: filename=pyspark-3.5.2-py2.py3-none-any.whl size=317812365 sha256=02d346793fc9668db8d028d285773af96cc0cfcc6725297f2778837887c9a293\n",
            "  Stored in directory: /root/.cache/pip/wheels/34/34/bd/03944534c44b677cd5859f248090daa9fb27b3c8f8e5f49574\n",
            "Successfully built pyspark\n",
            "Installing collected packages: pyspark\n",
            "Successfully installed pyspark-3.5.2\n"
          ]
        }
      ]
    },
    {
      "cell_type": "code",
      "source": [
        "!wget https://files.grouplens.org/datasets/movielens/ml-20m.zip\n"
      ],
      "metadata": {
        "colab": {
          "base_uri": "https://localhost:8080/"
        },
        "id": "q6K_urOS5G-c",
        "outputId": "85b877bc-c542-4c50-c493-3e4c955c0f66"
      },
      "execution_count": null,
      "outputs": [
        {
          "output_type": "stream",
          "name": "stdout",
          "text": [
            "--2024-09-11 01:25:51--  https://files.grouplens.org/datasets/movielens/ml-20m.zip\n",
            "Resolving files.grouplens.org (files.grouplens.org)... 128.101.65.152\n",
            "Connecting to files.grouplens.org (files.grouplens.org)|128.101.65.152|:443... connected.\n",
            "HTTP request sent, awaiting response... 200 OK\n",
            "Length: 198702078 (189M) [application/zip]\n",
            "Saving to: ‘ml-20m.zip’\n",
            "\n",
            "ml-20m.zip          100%[===================>] 189.50M   142MB/s    in 1.3s    \n",
            "\n",
            "2024-09-11 01:25:52 (142 MB/s) - ‘ml-20m.zip’ saved [198702078/198702078]\n",
            "\n"
          ]
        }
      ]
    },
    {
      "cell_type": "code",
      "source": [
        "!unzip ml-20m.zip"
      ],
      "metadata": {
        "colab": {
          "base_uri": "https://localhost:8080/"
        },
        "id": "9X7ckrYS5KzS",
        "outputId": "b7a414c0-7744-448e-c9f4-0fae0a8cfcae"
      },
      "execution_count": null,
      "outputs": [
        {
          "output_type": "stream",
          "name": "stdout",
          "text": [
            "Archive:  ml-20m.zip\n",
            "   creating: ml-20m/\n",
            "  inflating: ml-20m/genome-scores.csv  \n",
            "  inflating: ml-20m/genome-tags.csv  \n",
            "  inflating: ml-20m/links.csv        \n",
            "  inflating: ml-20m/movies.csv       \n",
            "  inflating: ml-20m/ratings.csv      \n",
            "  inflating: ml-20m/README.txt       \n",
            "  inflating: ml-20m/tags.csv         \n"
          ]
        }
      ]
    },
    {
      "cell_type": "code",
      "source": [
        "import pandas as pd\n",
        "\n",
        "df = pd.read_csv('/content/ml-20m/movies.csv')\n",
        "df.head()"
      ],
      "metadata": {
        "colab": {
          "base_uri": "https://localhost:8080/",
          "height": 206
        },
        "id": "Q0z3MiNVsD3m",
        "outputId": "ebad3873-d561-47b5-dc3b-7103c09ed029"
      },
      "execution_count": null,
      "outputs": [
        {
          "output_type": "execute_result",
          "data": {
            "text/plain": [
              "   movieId                               title  \\\n",
              "0        1                    Toy Story (1995)   \n",
              "1        2                      Jumanji (1995)   \n",
              "2        3             Grumpier Old Men (1995)   \n",
              "3        4            Waiting to Exhale (1995)   \n",
              "4        5  Father of the Bride Part II (1995)   \n",
              "\n",
              "                                        genres  \n",
              "0  Adventure|Animation|Children|Comedy|Fantasy  \n",
              "1                   Adventure|Children|Fantasy  \n",
              "2                               Comedy|Romance  \n",
              "3                         Comedy|Drama|Romance  \n",
              "4                                       Comedy  "
            ],
            "text/html": [
              "\n",
              "  <div id=\"df-d9594fe7-aeaf-4bb1-9a71-579b84c07153\" class=\"colab-df-container\">\n",
              "    <div>\n",
              "<style scoped>\n",
              "    .dataframe tbody tr th:only-of-type {\n",
              "        vertical-align: middle;\n",
              "    }\n",
              "\n",
              "    .dataframe tbody tr th {\n",
              "        vertical-align: top;\n",
              "    }\n",
              "\n",
              "    .dataframe thead th {\n",
              "        text-align: right;\n",
              "    }\n",
              "</style>\n",
              "<table border=\"1\" class=\"dataframe\">\n",
              "  <thead>\n",
              "    <tr style=\"text-align: right;\">\n",
              "      <th></th>\n",
              "      <th>movieId</th>\n",
              "      <th>title</th>\n",
              "      <th>genres</th>\n",
              "    </tr>\n",
              "  </thead>\n",
              "  <tbody>\n",
              "    <tr>\n",
              "      <th>0</th>\n",
              "      <td>1</td>\n",
              "      <td>Toy Story (1995)</td>\n",
              "      <td>Adventure|Animation|Children|Comedy|Fantasy</td>\n",
              "    </tr>\n",
              "    <tr>\n",
              "      <th>1</th>\n",
              "      <td>2</td>\n",
              "      <td>Jumanji (1995)</td>\n",
              "      <td>Adventure|Children|Fantasy</td>\n",
              "    </tr>\n",
              "    <tr>\n",
              "      <th>2</th>\n",
              "      <td>3</td>\n",
              "      <td>Grumpier Old Men (1995)</td>\n",
              "      <td>Comedy|Romance</td>\n",
              "    </tr>\n",
              "    <tr>\n",
              "      <th>3</th>\n",
              "      <td>4</td>\n",
              "      <td>Waiting to Exhale (1995)</td>\n",
              "      <td>Comedy|Drama|Romance</td>\n",
              "    </tr>\n",
              "    <tr>\n",
              "      <th>4</th>\n",
              "      <td>5</td>\n",
              "      <td>Father of the Bride Part II (1995)</td>\n",
              "      <td>Comedy</td>\n",
              "    </tr>\n",
              "  </tbody>\n",
              "</table>\n",
              "</div>\n",
              "    <div class=\"colab-df-buttons\">\n",
              "\n",
              "  <div class=\"colab-df-container\">\n",
              "    <button class=\"colab-df-convert\" onclick=\"convertToInteractive('df-d9594fe7-aeaf-4bb1-9a71-579b84c07153')\"\n",
              "            title=\"Convert this dataframe to an interactive table.\"\n",
              "            style=\"display:none;\">\n",
              "\n",
              "  <svg xmlns=\"http://www.w3.org/2000/svg\" height=\"24px\" viewBox=\"0 -960 960 960\">\n",
              "    <path d=\"M120-120v-720h720v720H120Zm60-500h600v-160H180v160Zm220 220h160v-160H400v160Zm0 220h160v-160H400v160ZM180-400h160v-160H180v160Zm440 0h160v-160H620v160ZM180-180h160v-160H180v160Zm440 0h160v-160H620v160Z\"/>\n",
              "  </svg>\n",
              "    </button>\n",
              "\n",
              "  <style>\n",
              "    .colab-df-container {\n",
              "      display:flex;\n",
              "      gap: 12px;\n",
              "    }\n",
              "\n",
              "    .colab-df-convert {\n",
              "      background-color: #E8F0FE;\n",
              "      border: none;\n",
              "      border-radius: 50%;\n",
              "      cursor: pointer;\n",
              "      display: none;\n",
              "      fill: #1967D2;\n",
              "      height: 32px;\n",
              "      padding: 0 0 0 0;\n",
              "      width: 32px;\n",
              "    }\n",
              "\n",
              "    .colab-df-convert:hover {\n",
              "      background-color: #E2EBFA;\n",
              "      box-shadow: 0px 1px 2px rgba(60, 64, 67, 0.3), 0px 1px 3px 1px rgba(60, 64, 67, 0.15);\n",
              "      fill: #174EA6;\n",
              "    }\n",
              "\n",
              "    .colab-df-buttons div {\n",
              "      margin-bottom: 4px;\n",
              "    }\n",
              "\n",
              "    [theme=dark] .colab-df-convert {\n",
              "      background-color: #3B4455;\n",
              "      fill: #D2E3FC;\n",
              "    }\n",
              "\n",
              "    [theme=dark] .colab-df-convert:hover {\n",
              "      background-color: #434B5C;\n",
              "      box-shadow: 0px 1px 3px 1px rgba(0, 0, 0, 0.15);\n",
              "      filter: drop-shadow(0px 1px 2px rgba(0, 0, 0, 0.3));\n",
              "      fill: #FFFFFF;\n",
              "    }\n",
              "  </style>\n",
              "\n",
              "    <script>\n",
              "      const buttonEl =\n",
              "        document.querySelector('#df-d9594fe7-aeaf-4bb1-9a71-579b84c07153 button.colab-df-convert');\n",
              "      buttonEl.style.display =\n",
              "        google.colab.kernel.accessAllowed ? 'block' : 'none';\n",
              "\n",
              "      async function convertToInteractive(key) {\n",
              "        const element = document.querySelector('#df-d9594fe7-aeaf-4bb1-9a71-579b84c07153');\n",
              "        const dataTable =\n",
              "          await google.colab.kernel.invokeFunction('convertToInteractive',\n",
              "                                                    [key], {});\n",
              "        if (!dataTable) return;\n",
              "\n",
              "        const docLinkHtml = 'Like what you see? Visit the ' +\n",
              "          '<a target=\"_blank\" href=https://colab.research.google.com/notebooks/data_table.ipynb>data table notebook</a>'\n",
              "          + ' to learn more about interactive tables.';\n",
              "        element.innerHTML = '';\n",
              "        dataTable['output_type'] = 'display_data';\n",
              "        await google.colab.output.renderOutput(dataTable, element);\n",
              "        const docLink = document.createElement('div');\n",
              "        docLink.innerHTML = docLinkHtml;\n",
              "        element.appendChild(docLink);\n",
              "      }\n",
              "    </script>\n",
              "  </div>\n",
              "\n",
              "\n",
              "<div id=\"df-83a7367b-a578-43e1-8231-2e0bd099338e\">\n",
              "  <button class=\"colab-df-quickchart\" onclick=\"quickchart('df-83a7367b-a578-43e1-8231-2e0bd099338e')\"\n",
              "            title=\"Suggest charts\"\n",
              "            style=\"display:none;\">\n",
              "\n",
              "<svg xmlns=\"http://www.w3.org/2000/svg\" height=\"24px\"viewBox=\"0 0 24 24\"\n",
              "     width=\"24px\">\n",
              "    <g>\n",
              "        <path d=\"M19 3H5c-1.1 0-2 .9-2 2v14c0 1.1.9 2 2 2h14c1.1 0 2-.9 2-2V5c0-1.1-.9-2-2-2zM9 17H7v-7h2v7zm4 0h-2V7h2v10zm4 0h-2v-4h2v4z\"/>\n",
              "    </g>\n",
              "</svg>\n",
              "  </button>\n",
              "\n",
              "<style>\n",
              "  .colab-df-quickchart {\n",
              "      --bg-color: #E8F0FE;\n",
              "      --fill-color: #1967D2;\n",
              "      --hover-bg-color: #E2EBFA;\n",
              "      --hover-fill-color: #174EA6;\n",
              "      --disabled-fill-color: #AAA;\n",
              "      --disabled-bg-color: #DDD;\n",
              "  }\n",
              "\n",
              "  [theme=dark] .colab-df-quickchart {\n",
              "      --bg-color: #3B4455;\n",
              "      --fill-color: #D2E3FC;\n",
              "      --hover-bg-color: #434B5C;\n",
              "      --hover-fill-color: #FFFFFF;\n",
              "      --disabled-bg-color: #3B4455;\n",
              "      --disabled-fill-color: #666;\n",
              "  }\n",
              "\n",
              "  .colab-df-quickchart {\n",
              "    background-color: var(--bg-color);\n",
              "    border: none;\n",
              "    border-radius: 50%;\n",
              "    cursor: pointer;\n",
              "    display: none;\n",
              "    fill: var(--fill-color);\n",
              "    height: 32px;\n",
              "    padding: 0;\n",
              "    width: 32px;\n",
              "  }\n",
              "\n",
              "  .colab-df-quickchart:hover {\n",
              "    background-color: var(--hover-bg-color);\n",
              "    box-shadow: 0 1px 2px rgba(60, 64, 67, 0.3), 0 1px 3px 1px rgba(60, 64, 67, 0.15);\n",
              "    fill: var(--button-hover-fill-color);\n",
              "  }\n",
              "\n",
              "  .colab-df-quickchart-complete:disabled,\n",
              "  .colab-df-quickchart-complete:disabled:hover {\n",
              "    background-color: var(--disabled-bg-color);\n",
              "    fill: var(--disabled-fill-color);\n",
              "    box-shadow: none;\n",
              "  }\n",
              "\n",
              "  .colab-df-spinner {\n",
              "    border: 2px solid var(--fill-color);\n",
              "    border-color: transparent;\n",
              "    border-bottom-color: var(--fill-color);\n",
              "    animation:\n",
              "      spin 1s steps(1) infinite;\n",
              "  }\n",
              "\n",
              "  @keyframes spin {\n",
              "    0% {\n",
              "      border-color: transparent;\n",
              "      border-bottom-color: var(--fill-color);\n",
              "      border-left-color: var(--fill-color);\n",
              "    }\n",
              "    20% {\n",
              "      border-color: transparent;\n",
              "      border-left-color: var(--fill-color);\n",
              "      border-top-color: var(--fill-color);\n",
              "    }\n",
              "    30% {\n",
              "      border-color: transparent;\n",
              "      border-left-color: var(--fill-color);\n",
              "      border-top-color: var(--fill-color);\n",
              "      border-right-color: var(--fill-color);\n",
              "    }\n",
              "    40% {\n",
              "      border-color: transparent;\n",
              "      border-right-color: var(--fill-color);\n",
              "      border-top-color: var(--fill-color);\n",
              "    }\n",
              "    60% {\n",
              "      border-color: transparent;\n",
              "      border-right-color: var(--fill-color);\n",
              "    }\n",
              "    80% {\n",
              "      border-color: transparent;\n",
              "      border-right-color: var(--fill-color);\n",
              "      border-bottom-color: var(--fill-color);\n",
              "    }\n",
              "    90% {\n",
              "      border-color: transparent;\n",
              "      border-bottom-color: var(--fill-color);\n",
              "    }\n",
              "  }\n",
              "</style>\n",
              "\n",
              "  <script>\n",
              "    async function quickchart(key) {\n",
              "      const quickchartButtonEl =\n",
              "        document.querySelector('#' + key + ' button');\n",
              "      quickchartButtonEl.disabled = true;  // To prevent multiple clicks.\n",
              "      quickchartButtonEl.classList.add('colab-df-spinner');\n",
              "      try {\n",
              "        const charts = await google.colab.kernel.invokeFunction(\n",
              "            'suggestCharts', [key], {});\n",
              "      } catch (error) {\n",
              "        console.error('Error during call to suggestCharts:', error);\n",
              "      }\n",
              "      quickchartButtonEl.classList.remove('colab-df-spinner');\n",
              "      quickchartButtonEl.classList.add('colab-df-quickchart-complete');\n",
              "    }\n",
              "    (() => {\n",
              "      let quickchartButtonEl =\n",
              "        document.querySelector('#df-83a7367b-a578-43e1-8231-2e0bd099338e button');\n",
              "      quickchartButtonEl.style.display =\n",
              "        google.colab.kernel.accessAllowed ? 'block' : 'none';\n",
              "    })();\n",
              "  </script>\n",
              "</div>\n",
              "\n",
              "    </div>\n",
              "  </div>\n"
            ],
            "application/vnd.google.colaboratory.intrinsic+json": {
              "type": "dataframe",
              "variable_name": "df",
              "summary": "{\n  \"name\": \"df\",\n  \"rows\": 27278,\n  \"fields\": [\n    {\n      \"column\": \"movieId\",\n      \"properties\": {\n        \"dtype\": \"number\",\n        \"std\": 44429,\n        \"min\": 1,\n        \"max\": 131262,\n        \"num_unique_values\": 27278,\n        \"samples\": [\n          61116,\n          70697,\n          111931\n        ],\n        \"semantic_type\": \"\",\n        \"description\": \"\"\n      }\n    },\n    {\n      \"column\": \"title\",\n      \"properties\": {\n        \"dtype\": \"string\",\n        \"num_unique_values\": 27262,\n        \"samples\": [\n          \"Look (2007)\",\n          \"Return of the Living Dead: Rave to the Grave (2005)\",\n          \"Quare Fellow, The (a.k.a. The Condemned Man) (1962)\"\n        ],\n        \"semantic_type\": \"\",\n        \"description\": \"\"\n      }\n    },\n    {\n      \"column\": \"genres\",\n      \"properties\": {\n        \"dtype\": \"category\",\n        \"num_unique_values\": 1342,\n        \"samples\": [\n          \"Comedy|Horror|Romance|Sci-Fi\",\n          \"Action|Adventure|Animation|Fantasy|Sci-Fi\",\n          \"Thriller|War\"\n        ],\n        \"semantic_type\": \"\",\n        \"description\": \"\"\n      }\n    }\n  ]\n}"
            }
          },
          "metadata": {},
          "execution_count": 7
        }
      ]
    },
    {
      "cell_type": "markdown",
      "source": [
        "## Iniciando uma sessão do `Pyspark`"
      ],
      "metadata": {
        "id": "7mdGwVZtuGXm"
      }
    },
    {
      "cell_type": "code",
      "source": [
        "from pyspark.sql import SparkSession\n",
        "\n",
        "spark = SparkSession.builder.getOrCreate()\n",
        "# spark = SparkSession.builder.appName(\"MyAppName\").getOrCreate()"
      ],
      "metadata": {
        "id": "UW_5CFz-t5fe"
      },
      "execution_count": null,
      "outputs": []
    },
    {
      "cell_type": "markdown",
      "source": [
        "## Lendo um `dataframe` `Pyspark`"
      ],
      "metadata": {
        "id": "On5c4TX7u3E1"
      }
    },
    {
      "cell_type": "code",
      "source": [
        "movies_with_genres_df = spark.read.csv(\"/content/ml-20m/movies.csv\", header=True, inferSchema=True)\n",
        "movies_with_genres_df.show(5)"
      ],
      "metadata": {
        "colab": {
          "base_uri": "https://localhost:8080/"
        },
        "id": "f3bKWW8wufCg",
        "outputId": "42a4a171-366d-4eda-c385-c5b8db2fd6ec"
      },
      "execution_count": null,
      "outputs": [
        {
          "output_type": "stream",
          "name": "stdout",
          "text": [
            "+-------+--------------------+--------------------+\n",
            "|movieId|               title|              genres|\n",
            "+-------+--------------------+--------------------+\n",
            "|      1|    Toy Story (1995)|Adventure|Animati...|\n",
            "|      2|      Jumanji (1995)|Adventure|Childre...|\n",
            "|      3|Grumpier Old Men ...|      Comedy|Romance|\n",
            "|      4|Waiting to Exhale...|Comedy|Drama|Romance|\n",
            "|      5|Father of the Bri...|              Comedy|\n",
            "+-------+--------------------+--------------------+\n",
            "only showing top 5 rows\n",
            "\n"
          ]
        }
      ]
    },
    {
      "cell_type": "markdown",
      "source": [
        "## Schemas `Pyspark`"
      ],
      "metadata": {
        "id": "mmsDTiYEu_iU"
      }
    },
    {
      "cell_type": "code",
      "execution_count": null,
      "metadata": {
        "id": "0bObA2zN4gvI"
      },
      "outputs": [],
      "source": [
        "from pyspark.sql.types import *\n",
        "#working only on movies.csv right now\n",
        "movies_with_genres_df_schema = StructType(\n",
        "  [StructField('ID', IntegerType()),\n",
        "   StructField('title', StringType()),\n",
        "   StructField('genres',StringType())]\n",
        "  )\n",
        "\n",
        "movies_df_schema = StructType(\n",
        "  [StructField('ID', IntegerType()),\n",
        "   StructField('title', StringType())]\n",
        "  ) #dropping"
      ]
    },
    {
      "cell_type": "code",
      "source": [
        "movies_with_genres_df = spark.read.csv(\"/content/ml-20m/movies.csv\", header=True, schema=movies_with_genres_df_schema)\n",
        "movies_with_genres_df.show(5)"
      ],
      "metadata": {
        "colab": {
          "base_uri": "https://localhost:8080/"
        },
        "id": "R5-fRXxI5eDs",
        "outputId": "b28248bc-239f-4654-d5b0-a1696df35077"
      },
      "execution_count": null,
      "outputs": [
        {
          "output_type": "stream",
          "name": "stdout",
          "text": [
            "+---+--------------------+--------------------+\n",
            "| ID|               title|              genres|\n",
            "+---+--------------------+--------------------+\n",
            "|  1|    Toy Story (1995)|Adventure|Animati...|\n",
            "|  2|      Jumanji (1995)|Adventure|Childre...|\n",
            "|  3|Grumpier Old Men ...|      Comedy|Romance|\n",
            "|  4|Waiting to Exhale...|Comedy|Drama|Romance|\n",
            "|  5|Father of the Bri...|              Comedy|\n",
            "+---+--------------------+--------------------+\n",
            "only showing top 5 rows\n",
            "\n"
          ]
        }
      ]
    },
    {
      "cell_type": "code",
      "source": [
        "movies_df = spark.read.csv(\"/content/ml-20m/movies.csv\", header=True, schema=movies_df_schema)\n",
        "movies_df.show(5)"
      ],
      "metadata": {
        "colab": {
          "base_uri": "https://localhost:8080/"
        },
        "id": "46vqp4HYvMl_",
        "outputId": "b6f3c0c8-3e59-47f3-d861-913d0ae55d14"
      },
      "execution_count": null,
      "outputs": [
        {
          "output_type": "stream",
          "name": "stdout",
          "text": [
            "+---+--------------------+\n",
            "| ID|               title|\n",
            "+---+--------------------+\n",
            "|  1|    Toy Story (1995)|\n",
            "|  2|      Jumanji (1995)|\n",
            "|  3|Grumpier Old Men ...|\n",
            "|  4|Waiting to Exhale...|\n",
            "|  5|Father of the Bri...|\n",
            "+---+--------------------+\n",
            "only showing top 5 rows\n",
            "\n"
          ]
        }
      ]
    },
    {
      "cell_type": "code",
      "source": [
        "movies_df.printSchema()\n",
        "movies_with_genres_df.printSchema()"
      ],
      "metadata": {
        "colab": {
          "base_uri": "https://localhost:8080/"
        },
        "id": "mc6vnP_OvvG7",
        "outputId": "be2e8ed5-7312-4177-d5de-7b40f9e82aa3"
      },
      "execution_count": null,
      "outputs": [
        {
          "output_type": "stream",
          "name": "stdout",
          "text": [
            "root\n",
            " |-- ID: integer (nullable = true)\n",
            " |-- title: string (nullable = true)\n",
            "\n",
            "root\n",
            " |-- ID: integer (nullable = true)\n",
            " |-- title: string (nullable = true)\n",
            " |-- genres: string (nullable = true)\n",
            "\n"
          ]
        }
      ]
    },
    {
      "cell_type": "markdown",
      "source": [
        "# De Para: `Pandas` 2 `PySpark`"
      ],
      "metadata": {
        "id": "tVriIwWGJXSx"
      }
    },
    {
      "cell_type": "code",
      "source": [
        "movies_with_genres_df.columns"
      ],
      "metadata": {
        "colab": {
          "base_uri": "https://localhost:8080/"
        },
        "id": "Bu6J-p71wqG3",
        "outputId": "5e638035-51d1-4f66-ba27-adbab3cf1b37"
      },
      "execution_count": null,
      "outputs": [
        {
          "output_type": "execute_result",
          "data": {
            "text/plain": [
              "['ID', 'title', 'genres']"
            ]
          },
          "metadata": {},
          "execution_count": 26
        }
      ]
    },
    {
      "cell_type": "code",
      "source": [
        "movies_with_genres_df.count()"
      ],
      "metadata": {
        "colab": {
          "base_uri": "https://localhost:8080/"
        },
        "id": "30wgvnsrwDR0",
        "outputId": "0cd9308c-874a-4eb8-aefd-d623c36bb2a8"
      },
      "execution_count": null,
      "outputs": [
        {
          "output_type": "execute_result",
          "data": {
            "text/plain": [
              "(27278, 1, StorageLevel(False, False, False, False, 1))"
            ]
          },
          "metadata": {},
          "execution_count": 24
        }
      ]
    },
    {
      "cell_type": "markdown",
      "source": [
        " | Operação                      | Pandas                          | PySpark                                                                   | Observações                                                               |\n",
        "|-------------------------------|---------------------------------|---------------------------------------------------------------------------|---------------------------------------------------------------------------|\n",
        "| Criação                       | pd.DataFrame(data)              | spark.createDataFrame(data)                                               | data pode ser uma lista de listas, um dicionário ou um Pandas DataFrame.  |\n",
        "| Verificar shape               | df.shape                        | df.count(), len(df.columns)                                               | Retorna (número de linhas, número de colunas).                            |\n",
        "| Verificar valores ausentes    | df.isnull().sum()               | df.select([count(when(isnan(c), c)).alias(c) for c in df.columns]).show() | Conta valores ausentes por coluna.                                        |\n",
        "| Seleção de Colunas            | df['coluna']                    | df['coluna'] ou df.col('coluna')                                          | Sintaxe similar, mas PySpark DataFrame é imutável.                        |\n",
        "| Seleção de Linhas por rótulo  | df.loc[rótulo]                  | Não diretamente análogo. Use filter ou where para condições.              | PySpark não tem um índice como o Pandas.                                  |\n",
        "| Seleção de Linhas por posição | df.iloc[índice]                 | Não diretamente análogo. Use take para selecionar linhas por posição.     |                                                                           |\n",
        "| Filtragem                     | df[df['coluna'] > valor]        | df.filter(df['coluna'] > valor)                                           | A filtragem em PySpark é feita com base em condições.                     |\n",
        "| Agrupamento                   | df.groupby('coluna').mean()     | df.groupBy('coluna').mean()                                               | Sintaxe similar, mas o PySpark DataFrame é distribuído.                   |\n",
        "| Agregação                     | df.sum(), df.mean(), df.count() | df.agg({'coluna': 'sum'}), df.agg({'coluna': 'mean'}), df.count()         | O PySpark oferece mais flexibilidade para combinar diferentes agregações. |"
      ],
      "metadata": {
        "id": "cbfHk7qVxYQk"
      }
    },
    {
      "cell_type": "code",
      "source": [
        "# Selecionando apenas as colunas \"ID\" e \"title\"\n",
        "df_selected = movies_with_year_df.select(\"ID\", \"title\")\n",
        "\n",
        "df_selected.show(5)"
      ],
      "metadata": {
        "colab": {
          "base_uri": "https://localhost:8080/"
        },
        "id": "t60sXJJyB6FX",
        "outputId": "5137db61-25df-46ba-feb1-854194acd47c"
      },
      "execution_count": null,
      "outputs": [
        {
          "output_type": "stream",
          "name": "stdout",
          "text": [
            "+---+--------------------+\n",
            "| ID|               title|\n",
            "+---+--------------------+\n",
            "|  1|    Toy Story (1995)|\n",
            "|  2|      Jumanji (1995)|\n",
            "|  3|Grumpier Old Men ...|\n",
            "|  4|Waiting to Exhale...|\n",
            "|  5|Father of the Bri...|\n",
            "+---+--------------------+\n",
            "only showing top 5 rows\n",
            "\n"
          ]
        }
      ]
    },
    {
      "cell_type": "code",
      "source": [
        "df_filtered = movies_with_year_df.filter(movies_with_year_df.year == 1990)\n",
        "\n",
        "df_filtered.show(5)"
      ],
      "metadata": {
        "colab": {
          "base_uri": "https://localhost:8080/"
        },
        "id": "MyW8OLQxCV0G",
        "outputId": "cb973509-7deb-4737-cedb-61c9c4a1c4a2"
      },
      "execution_count": null,
      "outputs": [
        {
          "output_type": "stream",
          "name": "stdout",
          "text": [
            "+---+--------------------+----+\n",
            "| ID|               title|year|\n",
            "+---+--------------------+----+\n",
            "|586|   Home Alone (1990)|1990|\n",
            "|587|        Ghost (1990)|1990|\n",
            "|590|Dances with Wolve...|1990|\n",
            "|597| Pretty Woman (1990)|1990|\n",
            "|625|  Asfour Stah (1990)|1990|\n",
            "+---+--------------------+----+\n",
            "only showing top 5 rows\n",
            "\n"
          ]
        }
      ]
    },
    {
      "cell_type": "code",
      "source": [
        "df_filtered = movies_with_year_df.filter(movies_with_year_df.year == 1990).select(\"ID\", \"title\")\n",
        "\n",
        "df_filtered.show(5)"
      ],
      "metadata": {
        "colab": {
          "base_uri": "https://localhost:8080/"
        },
        "id": "LW0UAMTQCG_2",
        "outputId": "85883950-09eb-4383-f489-d1596615d512"
      },
      "execution_count": null,
      "outputs": [
        {
          "output_type": "stream",
          "name": "stdout",
          "text": [
            "+---+--------------------+\n",
            "| ID|               title|\n",
            "+---+--------------------+\n",
            "|586|   Home Alone (1990)|\n",
            "|587|        Ghost (1990)|\n",
            "|590|Dances with Wolve...|\n",
            "|597| Pretty Woman (1990)|\n",
            "|625|  Asfour Stah (1990)|\n",
            "+---+--------------------+\n",
            "only showing top 5 rows\n",
            "\n"
          ]
        }
      ]
    },
    {
      "cell_type": "code",
      "source": [
        "\n",
        "df_filtered = movies_with_year_df.where(movies_with_year_df.ID > 500)\n",
        "\n",
        "df_filtered.show(5)"
      ],
      "metadata": {
        "colab": {
          "base_uri": "https://localhost:8080/"
        },
        "id": "-Xr2FCNECV5_",
        "outputId": "4c4c67f5-45b9-498a-b444-33053da74e6b"
      },
      "execution_count": null,
      "outputs": [
        {
          "output_type": "stream",
          "name": "stdout",
          "text": [
            "+---+--------------------+----+\n",
            "| ID|               title|year|\n",
            "+---+--------------------+----+\n",
            "|501|        Naked (1993)|1993|\n",
            "|502|Next Karate Kid, ...|1994|\n",
            "|503| New Age, The (1994)|1994|\n",
            "|504|    No Escape (1994)|1994|\n",
            "|505|        North (1994)|1994|\n",
            "+---+--------------------+----+\n",
            "only showing top 5 rows\n",
            "\n"
          ]
        }
      ]
    },
    {
      "cell_type": "markdown",
      "source": [
        "# RDD"
      ],
      "metadata": {
        "id": "Qhy_584BJlMy"
      }
    },
    {
      "cell_type": "markdown",
      "source": [
        "**RDD (Resilient Distributed Dataset)**  é a unidade fundamental de dados no Spark. Essencialmente, um RDD é uma coleção imutável e distribuída de elementos que podem ser processados em paralelo em um cluster. Pense nele como uma lista gigante que pode ser dividida em pedaços e processados em diferentes máquinas."
      ],
      "metadata": {
        "id": "7u5RkvDF0IJ0"
      }
    },
    {
      "cell_type": "code",
      "source": [
        "movies_with_genres_df.rdd.getNumPartitions(), movies_with_genres_df.rdd.getStorageLevel()"
      ],
      "metadata": {
        "colab": {
          "base_uri": "https://localhost:8080/"
        },
        "id": "9rLGhxOCzuNz",
        "outputId": "63f02d72-fcfa-4c79-db06-17310023ca6d"
      },
      "execution_count": null,
      "outputs": [
        {
          "output_type": "execute_result",
          "data": {
            "text/plain": [
              "(1, StorageLevel(False, False, False, False, 1))"
            ]
          },
          "metadata": {},
          "execution_count": 30
        }
      ]
    },
    {
      "cell_type": "markdown",
      "source": [
        "A API do DataFrame é mais fácil de empregar, mas não oferece todo o potencial do Spark. Ao converter um DataFrame em um RDD, você ganha acesso a um conjunto mais amplo de operações que podem não estar diretamente disponíveis na API de DataFrames. Essas operações geralmente envolvem transformações mais complexas funções de hash, operações com pares chave-valor (ReduceKey e CombineByKey), operações eficientes de conjuntos (distinct, union) etc. No entanto, é importante lembrar que as modificações feitas em um afetarão o outro, pois ambos referenciam o mesmo conjunto de dados."
      ],
      "metadata": {
        "id": "DfaoyBXv9eQz"
      }
    },
    {
      "cell_type": "code",
      "source": [
        "# Criando um DataFrame\n",
        "df = spark.createDataFrame([(1, 5), (2, 7)], [\"id\", \"value\"])\n",
        "df.show()\n",
        "\n",
        "# Convertendo para RDD\n",
        "rdd = df.rdd\n",
        "\n",
        "# Aplicando uma transformação no RDD\n",
        "rdd_squared = rdd.map(lambda x: (x[0], x[1] * x[1]))\n",
        "\n",
        "# Convertendo o RDD de volta para DataFrame\n",
        "df_squared = rdd_squared.toDF([\"id\", \"value_squared\"])\n",
        "\n",
        "df_squared.show()"
      ],
      "metadata": {
        "colab": {
          "base_uri": "https://localhost:8080/"
        },
        "id": "a-7f_pKI787K",
        "outputId": "028dd73a-40ba-43ce-955f-f2a7feef6c33"
      },
      "execution_count": null,
      "outputs": [
        {
          "output_type": "stream",
          "name": "stdout",
          "text": [
            "+---+-----+\n",
            "| id|value|\n",
            "+---+-----+\n",
            "|  1|    5|\n",
            "|  2|    7|\n",
            "+---+-----+\n",
            "\n",
            "+---+-------------+\n",
            "| id|value_squared|\n",
            "+---+-------------+\n",
            "|  1|           25|\n",
            "|  2|           49|\n",
            "+---+-------------+\n",
            "\n"
          ]
        }
      ]
    },
    {
      "cell_type": "markdown",
      "source": [
        "## Persistência"
      ],
      "metadata": {
        "id": "ZzP4xpdB_RGa"
      }
    },
    {
      "cell_type": "code",
      "source": [
        "from pyspark import StorageLevel\n",
        "\n",
        "df = spark.range(0, 10)\n",
        "\n",
        "# Persistir o DataFrame em memória\n",
        "df.cache()\n",
        "\n",
        "# Contando o número de linhas\n",
        "count = df.count()\n",
        "print(count)\n",
        "\n",
        "# Persistir com um nível de persistência específico\n",
        "df.persist(StorageLevel.DISK_ONLY)"
      ],
      "metadata": {
        "colab": {
          "base_uri": "https://localhost:8080/"
        },
        "id": "gLev2OFi_Wsm",
        "outputId": "4abfdf8d-213d-482a-adeb-50d72199ea0a"
      },
      "execution_count": null,
      "outputs": [
        {
          "output_type": "stream",
          "name": "stdout",
          "text": [
            "10\n"
          ]
        },
        {
          "output_type": "execute_result",
          "data": {
            "text/plain": [
              "DataFrame[id: bigint]"
            ]
          },
          "metadata": {},
          "execution_count": 42
        }
      ]
    },
    {
      "cell_type": "markdown",
      "source": [
        "Embora o pyspark.StorageLevel.DISK_ONLY indique que os dados serão armazenados em disco, a localização exata desse arquivo não é fixa e pode variar. O mesmo pode ser aplicado aos rdds."
      ],
      "metadata": {
        "id": "sSE5aMmjAnKe"
      }
    },
    {
      "cell_type": "code",
      "source": [
        "df.unpersist()"
      ],
      "metadata": {
        "id": "PL6iBJfZAFkK"
      },
      "execution_count": null,
      "outputs": []
    },
    {
      "cell_type": "markdown",
      "source": [
        "# Particionamento"
      ],
      "metadata": {
        "id": "gRrHcOUHKwoi"
      }
    },
    {
      "cell_type": "code",
      "source": [
        "# DataFrame de exemplo\n",
        "data = [(1, \"Alice\", 25), (2, \"Bob\", 30), (3, \"Charlie\", 35)]\n",
        "df = spark.createDataFrame(data, [\"id\", \"name\", \"age\"])\n",
        "\n",
        "# Salvando o DataFrame em um bucket do Google Cloud Storage, particionado pela coluna \"age\"\n",
        "# df.write.partitionBy(\"age\").parquet(\"gs://meu-bucket/dados_particionados\")\n",
        "\n",
        "# Salvando local\n",
        "df.write.partitionBy(\"age\").parquet(\"/content/meu-bucket/dados_particionados\")"
      ],
      "metadata": {
        "id": "UxGMZtugAF90"
      },
      "execution_count": null,
      "outputs": []
    },
    {
      "cell_type": "code",
      "source": [
        "!ls /content/meu-bucket/dados_particionados"
      ],
      "metadata": {
        "colab": {
          "base_uri": "https://localhost:8080/"
        },
        "id": "yhmtas0dLAzP",
        "outputId": "6e415979-0992-4ae0-d33e-7ac4510167e2"
      },
      "execution_count": null,
      "outputs": [
        {
          "output_type": "stream",
          "name": "stdout",
          "text": [
            "'age=25'  'age=30'  'age=35'   _SUCCESS\n"
          ]
        }
      ]
    },
    {
      "cell_type": "markdown",
      "source": [
        "O Parquet é um formato de arquivo de dados colunares! Mas poderíamos ter empregado .csv, .json ou mesmo outros sistemas de arquivos."
      ],
      "metadata": {
        "id": "9gbjga0gLy61"
      }
    },
    {
      "cell_type": "code",
      "source": [
        "# Salvando local\n",
        "movies_with_year_df.write.partitionBy(\"year\").parquet(\"/content/meu-bucket/movies\")"
      ],
      "metadata": {
        "id": "DD3jbWXFMmnm"
      },
      "execution_count": null,
      "outputs": []
    },
    {
      "cell_type": "code",
      "source": [
        "!ls /content/meu-bucket/movies"
      ],
      "metadata": {
        "colab": {
          "base_uri": "https://localhost:8080/"
        },
        "id": "icsfGVDfL48L",
        "outputId": "4b363d36-9d9b-49e1-dc4c-28e25eefd1ba"
      },
      "execution_count": null,
      "outputs": [
        {
          "output_type": "stream",
          "name": "stdout",
          "text": [
            " _SUCCESS    'year=1917'  'year=1938'  'year=1959'  'year=1980'  'year=2001'\n",
            "'year=06'    'year=1918'  'year=1939'  'year=1960'  'year=1981'  'year=2002'\n",
            "'year=1891'  'year=1919'  'year=1940'  'year=1961'  'year=1982'  'year=2003'\n",
            "'year=1893'  'year=1920'  'year=1941'  'year=1962'  'year=1983'  'year=2004'\n",
            "'year=1894'  'year=1921'  'year=1942'  'year=1963'  'year=1984'  'year=2005'\n",
            "'year=1895'  'year=1922'  'year=1943'  'year=1964'  'year=1985'  'year=2006'\n",
            "'year=1896'  'year=1923'  'year=1944'  'year=1965'  'year=1986'  'year=2007'\n",
            "'year=1898'  'year=1924'  'year=1945'  'year=1966'  'year=1987'  'year=2008'\n",
            "'year=1899'  'year=1925'  'year=1946'  'year=1967'  'year=1988'  'year=2009'\n",
            "'year=1900'  'year=1926'  'year=1947'  'year=1968'  'year=1989'  'year=2010'\n",
            "'year=1901'  'year=1927'  'year=1948'  'year=1969'  'year=1990'  'year=2011'\n",
            "'year=1902'  'year=1928'  'year=1949'  'year=1970'  'year=1991'  'year=2012'\n",
            "'year=1903'  'year=1929'  'year=1950'  'year=1971'  'year=1992'  'year=2013'\n",
            "'year=1905'  'year=1930'  'year=1951'  'year=1972'  'year=1993'  'year=2014'\n",
            "'year=1909'  'year=1931'  'year=1952'  'year=1973'  'year=1994'  'year=2015'\n",
            "'year=1910'  'year=1932'  'year=1953'  'year=1974'  'year=1995'  'year=500'\n",
            "'year=1912'  'year=1933'  'year=1954'  'year=1975'  'year=1996'  'year=69'\n",
            "'year=1913'  'year=1934'  'year=1955'  'year=1976'  'year=1997'  'year=__HIVE_DEFAULT_PARTITION__'\n",
            "'year=1914'  'year=1935'  'year=1956'  'year=1977'  'year=1998'\n",
            "'year=1915'  'year=1936'  'year=1957'  'year=1978'  'year=1999'\n",
            "'year=1916'  'year=1937'  'year=1958'  'year=1979'  'year=2000'\n"
          ]
        }
      ]
    },
    {
      "cell_type": "code",
      "source": [
        "spark.conf.set(\"spark.default.parallelism\", 3)"
      ],
      "metadata": {
        "id": "XGZiavz_LK-C"
      },
      "execution_count": null,
      "outputs": []
    },
    {
      "cell_type": "code",
      "source": [
        "from pyspark.sql.functions import split, regexp_extract\n",
        "\n",
        "movies_with_year_df = movies_df.select('ID','title',regexp_extract('title',r'\\((\\d+)\\)',1).alias('year'))\n",
        "movies_with_year_df.show(5)"
      ],
      "metadata": {
        "colab": {
          "base_uri": "https://localhost:8080/"
        },
        "id": "L66KK2i-6WKi",
        "outputId": "a11582e9-f3a3-467d-e707-3cdf9c196355"
      },
      "execution_count": null,
      "outputs": [
        {
          "output_type": "stream",
          "name": "stdout",
          "text": [
            "+---+--------------------+----+\n",
            "| ID|               title|year|\n",
            "+---+--------------------+----+\n",
            "|  1|    Toy Story (1995)|1995|\n",
            "|  2|      Jumanji (1995)|1995|\n",
            "|  3|Grumpier Old Men ...|1995|\n",
            "|  4|Waiting to Exhale...|1995|\n",
            "|  5|Father of the Bri...|1995|\n",
            "+---+--------------------+----+\n",
            "only showing top 5 rows\n",
            "\n"
          ]
        }
      ]
    },
    {
      "cell_type": "markdown",
      "source": [
        "Comandos comuns de RDD:\n",
        "\n",
        "* `map`: Aplica uma função a cada elemento do RDD.\n",
        "* `filter`: Filtra elementos com base em uma condição.\n",
        "* `flatMap`: Aplica uma função a cada elemento e achata o resultado.\n",
        "* `reduceByKey`: Agrupa elementos por chave e aplica uma função de redução.\n",
        "* `join`: Junta dois RDDs com base em uma chave comum.\n",
        "* `sortByKey`: Ordena um RDD por chave.\n",
        "* `collect`: Traz todos os dados de volta para o driver."
      ],
      "metadata": {
        "id": "pDwmLCMy6elq"
      }
    },
    {
      "cell_type": "code",
      "source": [
        "# Extraindo a coluna title e convertendo para RDD\n",
        "titles_rdd = movies_with_genres_df.select(\"title\").rdd.flatMap(lambda x: x[0].split(\" \"))\n",
        "\n",
        "# Contando as palavras\n",
        "word_counts = titles_rdd.map(lambda word: (word, 1)).reduceByKey(lambda a, b: a + b)\n",
        "\n",
        "# Mostrando os resultados\n",
        "word_counts.collect()"
      ],
      "metadata": {
        "colab": {
          "base_uri": "https://localhost:8080/"
        },
        "id": "zJRoQqHS5nHm",
        "outputId": "e2533ad4-18ff-4739-cb6a-997e73e3d77a"
      },
      "execution_count": null,
      "outputs": [
        {
          "output_type": "execute_result",
          "data": {
            "text/plain": [
              "[('Toy', 11),\n",
              " ('Story', 195),\n",
              " ('(1995)', 474),\n",
              " ('Jumanji', 1),\n",
              " ('Grumpier', 1),\n",
              " ('Old', 46),\n",
              " ('Men', 104),\n",
              " ('Waiting', 13),\n",
              " ('to', 642),\n",
              " ('Exhale', 1),\n",
              " ('Father', 33),\n",
              " ('of', 3152),\n",
              " ('the', 2982),\n",
              " ('Bride', 33),\n",
              " ('Part', 73),\n",
              " ('II', 94),\n",
              " ('Heat', 15),\n",
              " ('Sabrina', 2),\n",
              " ('Tom', 23),\n",
              " ('and', 1050),\n",
              " ('Huck', 2),\n",
              " ('Sudden', 5),\n",
              " ('Death', 130),\n",
              " ('GoldenEye', 1),\n",
              " ('American', 132),\n",
              " ('President,', 4),\n",
              " ('The', 6301),\n",
              " ('Dracula:', 3),\n",
              " ('Dead', 175),\n",
              " ('Loving', 8),\n",
              " ('It', 133),\n",
              " ('Balto', 1),\n",
              " ('Nixon', 4),\n",
              " ('Cutthroat', 1),\n",
              " ('Island', 57),\n",
              " ('Casino', 6),\n",
              " ('Sense', 7),\n",
              " ('Sensibility', 2),\n",
              " ('Four', 52),\n",
              " ('Rooms', 4),\n",
              " ('Ace', 9),\n",
              " ('Ventura:', 2),\n",
              " ('When', 59),\n",
              " ('Nature', 9),\n",
              " ('Calls', 5),\n",
              " ('Money', 43),\n",
              " ('Train', 36),\n",
              " ('Get', 56),\n",
              " ('Shorty', 1),\n",
              " ('Copycat', 1),\n",
              " ('Assassins', 8),\n",
              " ('Powder', 5),\n",
              " ('Leaving', 4),\n",
              " ('Las', 10),\n",
              " ('Vegas', 12),\n",
              " ('Othello', 4),\n",
              " ('Now', 36),\n",
              " ('Then', 11),\n",
              " ('Persuasion', 4),\n",
              " ('City', 119),\n",
              " ('Lost', 97),\n",
              " ('Children,', 5),\n",
              " ('(Cité', 1),\n",
              " ('des', 70),\n",
              " ('enfants', 3),\n",
              " ('perdus,', 1),\n",
              " ('La)', 114),\n",
              " ('Shanghai', 15),\n",
              " ('Triad', 3),\n",
              " ('(Yao', 1),\n",
              " ('a', 638),\n",
              " ('yao', 2),\n",
              " ('dao', 2),\n",
              " ('waipo', 1),\n",
              " ('qiao)', 1),\n",
              " ('Dangerous', 30),\n",
              " ('Minds', 5),\n",
              " ('Twelve', 9),\n",
              " ('Monkeys', 5),\n",
              " ('(a.k.a.', 334),\n",
              " ('12', 13),\n",
              " ('Monkeys)', 1),\n",
              " ('Wings', 14),\n",
              " ('Courage', 6),\n",
              " ('Babe', 2),\n",
              " ('Carrington', 1),\n",
              " ('Man', 324),\n",
              " ('Walking', 17),\n",
              " ('Across', 19),\n",
              " ('Sea', 57),\n",
              " ('Time', 152),\n",
              " ('Takes', 20),\n",
              " ('Two', 97),\n",
              " ('Clueless', 1),\n",
              " ('Cry,', 3),\n",
              " ('Beloved', 8),\n",
              " ('Country', 34),\n",
              " ('Richard', 13),\n",
              " ('III', 39),\n",
              " ('Presidents', 2),\n",
              " ('Restoration', 1),\n",
              " ('Mortal', 5),\n",
              " ('Kombat', 1),\n",
              " ('To', 59),\n",
              " ('Die', 60),\n",
              " ('For', 61),\n",
              " ('How', 71),\n",
              " ('Make', 21),\n",
              " ('an', 46),\n",
              " ('Quilt', 2),\n",
              " ('Seven', 40),\n",
              " ('Se7en)', 1),\n",
              " ('Pocahontas', 2),\n",
              " ('Night', 215),\n",
              " ('Is', 195),\n",
              " ('Falling', 9),\n",
              " ('Usual', 2),\n",
              " ('Suspects,', 1),\n",
              " ('Guardian', 1),\n",
              " ('Angel', 36),\n",
              " ('(1994)', 431),\n",
              " ('Mighty', 13),\n",
              " ('Aphrodite', 1),\n",
              " ('Lamerica', 1),\n",
              " ('Big', 139),\n",
              " ('Green,', 4),\n",
              " ('Georgia', 2),\n",
              " ('Kids', 21),\n",
              " ('Round', 7),\n",
              " ('Table', 7),\n",
              " ('Home', 72),\n",
              " ('for', 292),\n",
              " ('Holidays', 3),\n",
              " ('Postman,', 2),\n",
              " ('(Postino,', 1),\n",
              " ('Il)', 22),\n",
              " ('Confessional,', 1),\n",
              " ('(Confessionnal,', 1),\n",
              " ('Le)', 73),\n",
              " ('Indian', 8),\n",
              " ('in', 901),\n",
              " ('Cupboard,', 1),\n",
              " ('Eye', 35),\n",
              " ('(1996)', 509),\n",
              " ('Mr.', 99),\n",
              " (\"Holland's\", 1),\n",
              " ('Opus', 1),\n",
              " (\"Don't\", 70),\n",
              " ('Be', 71),\n",
              " ('Menace', 6),\n",
              " ('South', 22),\n",
              " ('Central', 10),\n",
              " ('While', 6),\n",
              " ('Drinking', 4),\n",
              " ('Your', 103),\n",
              " ('Juice', 3),\n",
              " ('Hood', 15),\n",
              " ('if', 1),\n",
              " ('by', 75),\n",
              " ('Bio-Dome', 1),\n",
              " ('Lawnmower', 2),\n",
              " ('2:', 116),\n",
              " ('Beyond', 58),\n",
              " ('Cyberspace', 1),\n",
              " ('Bits', 1),\n",
              " ('French', 15),\n",
              " ('Twist', 9),\n",
              " ('(Gazon', 1),\n",
              " ('maudit)', 1),\n",
              " ('Friday', 23),\n",
              " ('From', 66),\n",
              " ('Dusk', 4),\n",
              " ('Till', 6),\n",
              " ('Dawn', 33),\n",
              " ('Fair', 10),\n",
              " ('Game', 46),\n",
              " ('Kicking', 2),\n",
              " ('Screaming', 8),\n",
              " ('Misérables,', 9),\n",
              " ('Les', 35),\n",
              " ('Bed', 6),\n",
              " ('Roses', 9),\n",
              " ('Bully', 3),\n",
              " ('Screamers', 2),\n",
              " ('Nico', 2),\n",
              " ('Icon', 2),\n",
              " ('Crossing', 10),\n",
              " ('Guard,', 3),\n",
              " ('Juror,', 1),\n",
              " ('White', 111),\n",
              " ('Balloon,', 3),\n",
              " ('(Badkonake', 1),\n",
              " ('sefid)', 1),\n",
              " ('Things', 32),\n",
              " ('Do', 36),\n",
              " ('Denver', 1),\n",
              " (\"You're\", 18),\n",
              " (\"Antonia's\", 1),\n",
              " ('Line', 18),\n",
              " ('(Antonia)', 1),\n",
              " ('Once', 36),\n",
              " ('Upon', 27),\n",
              " ('Time...', 1),\n",
              " ('We', 85),\n",
              " ('Were', 26),\n",
              " ('Colored', 2),\n",
              " ('Last', 212),\n",
              " ('Summer', 77),\n",
              " ('Hamptons', 1),\n",
              " ('Angels', 40),\n",
              " ('Insects', 1),\n",
              " ('Squall', 1),\n",
              " ('Dunston', 1),\n",
              " ('Checks', 1),\n",
              " ('In', 157),\n",
              " ('Black', 140),\n",
              " ('Sheep', 6),\n",
              " ('Nick', 7),\n",
              " ('Journey', 44),\n",
              " ('August', 14),\n",
              " ('King,', 14),\n",
              " ('Mary', 21),\n",
              " ('Reilly', 1),\n",
              " ('Vampire', 31),\n",
              " ('Brooklyn', 11),\n",
              " ('Beautiful', 45),\n",
              " ('Girls', 76),\n",
              " ('Broken', 26),\n",
              " ('Arrow', 3),\n",
              " ('Bleak', 4),\n",
              " ('Midwinter', 1),\n",
              " ('Hate', 11),\n",
              " ('(Haine,', 1),\n",
              " ('Shopping', 3),\n",
              " ('Heidi', 2),\n",
              " ('Fleiss:', 1),\n",
              " ('Hollywood', 34),\n",
              " ('Madam', 4),\n",
              " ('Hall', 11),\n",
              " ('Bottle', 4),\n",
              " ('Rocket', 8),\n",
              " ('Wrong', 28),\n",
              " ('Unforgettable', 2),\n",
              " ('Happy', 44),\n",
              " ('Gilmore', 1),\n",
              " ('Bridges', 4),\n",
              " ('Madison', 6),\n",
              " ('County,', 1),\n",
              " ('Nobody', 16),\n",
              " ('Loves', 12),\n",
              " ('Me', 197),\n",
              " ('(Keiner', 1),\n",
              " ('liebt', 2),\n",
              " ('mich)', 1),\n",
              " ('Muppet', 8),\n",
              " ('Treasure', 21),\n",
              " ('Catwalk', 1),\n",
              " ('Headless', 2),\n",
              " ('Body', 31),\n",
              " ('Topless', 2),\n",
              " ('Bar', 7),\n",
              " ('Braveheart', 1),\n",
              " ('Taxi', 12),\n",
              " ('Driver', 2),\n",
              " ('(1976)', 199),\n",
              " ('Rumble', 7),\n",
              " ('Bronx', 6),\n",
              " ('(Hont', 1),\n",
              " ('faan', 1),\n",
              " ('kui)', 2),\n",
              " ('Before', 46),\n",
              " ('After', 53),\n",
              " (\"Margaret's\", 1),\n",
              " ('Museum', 7),\n",
              " ('Happiness', 15),\n",
              " ('Field', 7),\n",
              " ('(Bonheur', 1),\n",
              " ('est', 18),\n",
              " ('dans', 11),\n",
              " ('le', 36),\n",
              " ('pré,', 1),\n",
              " ('Anne', 9),\n",
              " ('Frank', 12),\n",
              " ('Remembered', 3),\n",
              " ('Young', 63),\n",
              " (\"Poisoner's\", 1),\n",
              " ('Handbook,', 1),\n",
              " ('If', 34),\n",
              " ('Lucy', 5),\n",
              " ('Fell', 5),\n",
              " ('Steal', 8),\n",
              " ('Big,', 2),\n",
              " ('Little', 149),\n",
              " ('Race', 13),\n",
              " ('Sun', 48),\n",
              " ('Boys', 53),\n",
              " ('St.', 24),\n",
              " ('Vincent,', 1),\n",
              " ('(1992)', 335),\n",
              " ('Boomerang', 2),\n",
              " ('Chungking', 1),\n",
              " ('Express', 20),\n",
              " ('(Chung', 1),\n",
              " ('Hing', 2),\n",
              " ('sam', 1),\n",
              " ('lam)', 1),\n",
              " ('Star', 59),\n",
              " ('Maker,', 1),\n",
              " ('(Uomo', 1),\n",
              " ('delle', 7),\n",
              " ('stelle,', 1),\n",
              " (\"L')\", 29),\n",
              " ('Flirting', 2),\n",
              " ('With', 25),\n",
              " ('Disaster', 8),\n",
              " ('NeverEnding', 3),\n",
              " ('III,', 8),\n",
              " ('Silences', 1),\n",
              " ('Palace,', 2),\n",
              " ('(Saimt', 1),\n",
              " ('el', 18),\n",
              " ('Qusur)', 1),\n",
              " (\"Jupiter's\", 2),\n",
              " ('Wife', 22),\n",
              " ('Pie', 16),\n",
              " ('Sky', 35),\n",
              " ('Angela', 2),\n",
              " ('Frankie', 6),\n",
              " ('Starlight', 2),\n",
              " ('Jade', 3),\n",
              " ('Nueba', 1),\n",
              " ('Yol', 2),\n",
              " ('Sonic', 1),\n",
              " ('Outlaws', 3),\n",
              " ('Down', 61),\n",
              " ('Periscope', 2),\n",
              " ('Journals', 3),\n",
              " ('Jean', 6),\n",
              " ('Seberg', 1),\n",
              " ('Year', 55),\n",
              " ('Neon', 5),\n",
              " ('Bible,', 3),\n",
              " ('Target', 9),\n",
              " ('Up', 92),\n",
              " ('Close', 12),\n",
              " ('Personal', 10),\n",
              " ('Birdcage,', 1),\n",
              " ('Shadows', 31),\n",
              " ('(Cienie)', 1),\n",
              " ('(1988)', 325),\n",
              " ('Gospa', 1),\n",
              " ('Brothers', 34),\n",
              " ('McMullen,', 1),\n",
              " ('Bad', 80),\n",
              " ('Amazing', 18),\n",
              " ('Panda', 4),\n",
              " ('Adventure,', 8),\n",
              " ('Basketball', 2),\n",
              " ('Diaries,', 6),\n",
              " ('Awfully', 1),\n",
              " ('An', 86),\n",
              " ('Amateur', 1),\n",
              " ('Apollo', 5),\n",
              " ('13', 26),\n",
              " ('Rob', 3),\n",
              " ('Roy', 3),\n",
              " ('Addiction,', 1),\n",
              " ('Batman', 13),\n",
              " ('Forever', 30),\n",
              " ('Beauty', 32),\n",
              " ('Day', 145),\n",
              " ('(Belle', 3),\n",
              " ('de', 333),\n",
              " ('jour)', 2),\n",
              " ('(1967)', 173),\n",
              " ('Rangoon', 1),\n",
              " ('Blue', 91),\n",
              " ('Face', 28),\n",
              " ('Canadian', 1),\n",
              " ('Bacon', 1),\n",
              " ('Casper', 2),\n",
              " ('Clockers', 1),\n",
              " ('Congo', 2),\n",
              " ('Crimson', 10),\n",
              " ('Tide', 6),\n",
              " ('Crumb', 1),\n",
              " ('Desperado', 2),\n",
              " ('Devil', 49),\n",
              " ('Dress', 2),\n",
              " ('Hard:', 2),\n",
              " ('Vengeance', 16),\n",
              " ('Doom', 5),\n",
              " ('Generation,', 3),\n",
              " ('Feast', 10),\n",
              " ('July', 7),\n",
              " ('First', 75),\n",
              " ('Knight', 14),\n",
              " ('Free', 31),\n",
              " ('Willy', 4),\n",
              " ('Adventure', 30),\n",
              " ('Hackers', 1),\n",
              " ('Jeffrey', 2),\n",
              " ('Johnny', 29),\n",
              " ('Mnemonic', 1),\n",
              " ('Judge', 4),\n",
              " ('Dredd', 2),\n",
              " ('Jury', 4),\n",
              " ('Duty', 3),\n",
              " ('Living', 66),\n",
              " ('Oblivion', 5),\n",
              " ('Lord', 21),\n",
              " ('Illusions', 2),\n",
              " ('Love', 321),\n",
              " ('&', 272),\n",
              " ('Human', 36),\n",
              " ('Remains', 4),\n",
              " ('(1993)', 371),\n",
              " ('Mad', 29),\n",
              " ('Mallrats', 1),\n",
              " ('Morphin', 1),\n",
              " ('Power', 28),\n",
              " ('Rangers:', 2),\n",
              " ('Movie', 130),\n",
              " ('Moonlight', 11),\n",
              " ('Valentino', 2),\n",
              " ('Mute', 1),\n",
              " ('Witness', 8),\n",
              " ('Nadja', 1),\n",
              " ('Net,', 2),\n",
              " ('Nine', 20),\n",
              " ('Months', 1),\n",
              " ('Party', 38),\n",
              " ('Girl', 154),\n",
              " ('Prophecy,', 1),\n",
              " ('Reckless', 5),\n",
              " ('Safe', 13),\n",
              " ('Scarlet', 13),\n",
              " ('Letter,', 12),\n",
              " ('Show,', 6),\n",
              " ('Showgirls', 1),\n",
              " ('Smoke', 9),\n",
              " ('Something', 24),\n",
              " ('Talk', 18),\n",
              " ('About', 76),\n",
              " ('Species', 5),\n",
              " ('Stars', 27),\n",
              " ('on', 302),\n",
              " ('Henrietta,', 1),\n",
              " ('Strange', 33),\n",
              " ('Days', 101),\n",
              " ('Umbrellas', 1),\n",
              " ('Cherbourg,', 2),\n",
              " ('(Parapluies', 1),\n",
              " ('Les)', 46),\n",
              " ('(1964)', 173),\n",
              " ('Tie', 4),\n",
              " ('That', 93),\n",
              " ('Binds,', 1),\n",
              " ('Three', 83),\n",
              " ('Wishes', 2),\n",
              " ('Total', 3),\n",
              " ('Eclipse', 2),\n",
              " ('Wong', 2),\n",
              " ('Foo,', 1),\n",
              " ('Thanks', 2),\n",
              " ('Everything!', 1),\n",
              " ('Julie', 8),\n",
              " ('Newmar', 1),\n",
              " ('Under', 56),\n",
              " ('Siege', 10),\n",
              " ('Dark', 107),\n",
              " ('Territory', 6),\n",
              " ('Unstrung', 1),\n",
              " ('Heroes', 14),\n",
              " ('Unzipped', 1),\n",
              " ('Walk', 25),\n",
              " ('Clouds,', 1),\n",
              " ('A', 757),\n",
              " ('Waterworld', 1),\n",
              " (\"Man's\", 20),\n",
              " ('Burden', 3),\n",
              " ('Wild', 90),\n",
              " ('Bill', 26),\n",
              " ('Browning', 2),\n",
              " ('Version,', 2),\n",
              " ('Bushwhacked', 1),\n",
              " ('Burnt', 4),\n",
              " ('(Utomlyonnye', 2),\n",
              " ('solntsem)', 1),\n",
              " ('Rain', 23),\n",
              " ('(Pred', 1),\n",
              " ('dozhdot)', 1),\n",
              " ('Sunrise', 3),\n",
              " ('Billy', 16),\n",
              " ('Babysitter,', 1),\n",
              " ('Side', 30),\n",
              " ('Cure,', 2),\n",
              " ('Castle', 27),\n",
              " ('Freak', 2),\n",
              " ('Circle', 16),\n",
              " ('Friends', 27),\n",
              " ('Clerks', 2),\n",
              " ('Don', 22),\n",
              " ('Juan', 4),\n",
              " ('DeMarco', 1),\n",
              " ('Disclosure', 1),\n",
              " ('Dream', 50),\n",
              " ('Drop', 4),\n",
              " ('Zone', 13),\n",
              " ('Destiny', 9),\n",
              " ('Turns', 1),\n",
              " ('Radio', 13),\n",
              " ('Maiden', 2),\n",
              " ('Dolores', 1),\n",
              " ('Claiborne', 1),\n",
              " ('Dumb', 3),\n",
              " ('Dumber', 2),\n",
              " ('(Dumb', 1),\n",
              " ('Dumber)', 1),\n",
              " ('Eat', 14),\n",
              " ('Drink', 5),\n",
              " ('Woman', 85),\n",
              " ('(Yin', 2),\n",
              " ('shi', 16),\n",
              " ('nan', 3),\n",
              " ('nu)', 4),\n",
              " ('Exotica', 1),\n",
              " ('Exit', 11),\n",
              " ('Eden', 16),\n",
              " ('Ed', 6),\n",
              " ('Wood', 8),\n",
              " ('Kiss', 50),\n",
              " ('Forget', 9),\n",
              " ('Paris', 38),\n",
              " ('Far', 19),\n",
              " ('Home:', 2),\n",
              " ('Adventures', 62),\n",
              " ('Yellow', 15),\n",
              " ('Dog', 45),\n",
              " ('Goofy', 4),\n",
              " ('Movie,', 31),\n",
              " ('Hideaway', 2),\n",
              " ('Fluke', 1),\n",
              " ('Farinelli:', 1),\n",
              " ('il', 9),\n",
              " ('castrato', 1),\n",
              " ('Gordy', 1),\n",
              " ('Gumby:', 1),\n",
              " ('Glass', 21),\n",
              " ('Shield,', 1),\n",
              " ('Hoop', 2),\n",
              " ('Dreams', 34),\n",
              " ('Heavenly', 6),\n",
              " ('Creatures', 7),\n",
              " ('Houseguest', 1),\n",
              " ('Immortal', 4),\n",
              " ('Heavyweights', 1),\n",
              " ('(Heavy', 1),\n",
              " ('Weights)', 1),\n",
              " ('Hunted,', 3),\n",
              " ('I.Q.', 1),\n",
              " ('Interview', 6),\n",
              " ('with', 199),\n",
              " ('Vampire:', 1),\n",
              " ('Chronicles', 13),\n",
              " ('Jefferson', 2),\n",
              " ('Jerky', 1),\n",
              " ('Boys,', 11),\n",
              " ('Junior', 3),\n",
              " ('Just', 45),\n",
              " ('Cause', 4),\n",
              " ('Kid', 24),\n",
              " ('King', 102),\n",
              " (\"Arthur's\", 3),\n",
              " ('Court,', 2),\n",
              " ('Wars:', 8),\n",
              " ('Episode', 9),\n",
              " ('IV', 9),\n",
              " ('-', 186),\n",
              " ('New', 122),\n",
              " ('Hope', 14),\n",
              " ('(1977)', 198),\n",
              " ('Women', 55),\n",
              " ('Princess,', 4),\n",
              " ('Ladybird', 2),\n",
              " ('Enfer,', 1),\n",
              " (\"L'\", 12),\n",
              " ('Like', 68),\n",
              " ('Water', 45),\n",
              " ('Chocolate', 10),\n",
              " ('(Como', 2),\n",
              " ('agua', 1),\n",
              " ('para', 9),\n",
              " ('chocolate)', 2),\n",
              " ('Legends', 6),\n",
              " ('Fall', 35),\n",
              " ('Major', 9),\n",
              " ('Payne', 2),\n",
              " ('Odessa', 2),\n",
              " ('My', 327),\n",
              " ('Crazy', 40),\n",
              " ('Life', 206),\n",
              " ('(Mi', 4),\n",
              " ('vida', 2),\n",
              " ('loca)', 1),\n",
              " ('Affair', 13),\n",
              " ('Losing', 3),\n",
              " ('Isaiah', 1),\n",
              " ('Madness', 10),\n",
              " ('George,', 3),\n",
              " (\"Shelley's\", 1),\n",
              " ('Frankenstein', 18),\n",
              " ('(Frankenstein)', 1),\n",
              " ('House', 128),\n",
              " ('Mixed', 2),\n",
              " ('Nuts', 4),\n",
              " ('Milk', 6),\n",
              " ('Miracle', 18),\n",
              " ('34th', 2),\n",
              " ('Street', 76),\n",
              " ('Miami', 6),\n",
              " ('Rhapsody', 5),\n",
              " ('Family', 62),\n",
              " ('Murder', 49),\n",
              " (\"Nobody's\", 4),\n",
              " ('Fool', 10),\n",
              " ('Nell', 1),\n",
              " ('Jersey', 5),\n",
              " ('Drive', 13),\n",
              " ('York', 36),\n",
              " ('Cop', 25),\n",
              " ('(Nyû', 1),\n",
              " ('Yôku', 1),\n",
              " ('no', 189),\n",
              " ('koppu)', 1),\n",
              " ('Bedlam', 2),\n",
              " ('Nemesis', 3),\n",
              " ('Nebula', 1),\n",
              " ('Nina', 3),\n",
              " ('Lover', 8),\n",
              " ('Natural', 5),\n",
              " ('Born', 32),\n",
              " ('Killers', 10),\n",
              " ('Only', 31),\n",
              " ('You', 197),\n",
              " ('Warriors', 12),\n",
              " ('Poison', 8),\n",
              " ('Ivy', 3),\n",
              " ('Outbreak', 1),\n",
              " ('Léon:', 1),\n",
              " ('Professional', 2),\n",
              " ('Professional)', 1),\n",
              " ('(Léon)', 1),\n",
              " ('Perez', 1),\n",
              " ('Family,', 10),\n",
              " (\"Pyromaniac's\", 1),\n",
              " ('Story,', 47),\n",
              " ('Pulp', 2),\n",
              " ('Fiction', 4),\n",
              " ('Panther', 7),\n",
              " ('Pushing', 2),\n",
              " ('Hands', 21),\n",
              " ('(Tui', 2),\n",
              " ('shou)', 1),\n",
              " ('Priest', 7),\n",
              " ('Quiz', 1),\n",
              " ('Show', 19),\n",
              " ('Picture', 8),\n",
              " ('(Bijo', 2),\n",
              " ('photo)', 1),\n",
              " ('Queen', 34),\n",
              " ('Margot', 2),\n",
              " ('(Reine', 1),\n",
              " ('Margot,', 1),\n",
              " ('Quick', 4),\n",
              " ('Dead,', 16),\n",
              " ('Roommates', 1),\n",
              " ('Ready', 2),\n",
              " ('Wear', 3),\n",
              " ('(Pret-A-Porter)', 1),\n",
              " ('Colors:', 3),\n",
              " ('Red', 105),\n",
              " ('(Trois', 4),\n",
              " ('couleurs:', 2),\n",
              " ('Rouge)', 1),\n",
              " ('Bleu)', 1),\n",
              " ('(Trzy', 1),\n",
              " ('kolory:', 1),\n",
              " ('Bialy)', 1),\n",
              " ('Firecracker,', 1),\n",
              " ('Green', 46),\n",
              " ('Firecracker', 3),\n",
              " ('(Pao', 1),\n",
              " ('Da', 5),\n",
              " ('Shuang', 1),\n",
              " ('Deng)', 1),\n",
              " ('Rent-a-Kid', 1),\n",
              " ('Relative', 4),\n",
              " ('Fear', 44),\n",
              " ('Stuart', 4),\n",
              " ('Saves', 3),\n",
              " ('His', 40),\n",
              " ('Swan', 6),\n",
              " ('Secret', 69),\n",
              " ('Roan', 1),\n",
              " ('Inish,', 1),\n",
              " ('Specialist,', 2),\n",
              " ('Stargate', 2),\n",
              " ('Santa', 23),\n",
              " ('Clause,', 2),\n",
              " ('Shawshank', 1),\n",
              " ('Redemption,', 2),\n",
              " ('Shallow', 2),\n",
              " ('Grave', 17),\n",
              " ('Suture', 1),\n",
              " ('Strawberry', 5),\n",
              " ('(Fresa', 1),\n",
              " ('y', 26),\n",
              " ('Swimming', 5),\n",
              " ('Sharks', 2),\n",
              " ('Sum', 2),\n",
              " ('Us,', 8),\n",
              " ('National', 18),\n",
              " (\"Lampoon's\", 16),\n",
              " ('Senior', 2),\n",
              " ('Trip', 19),\n",
              " ('Live', 62),\n",
              " ('(Huozhe)', 1),\n",
              " ('Tank', 5),\n",
              " ('Tales', 37),\n",
              " ('from', 202),\n",
              " ('Crypt', 3),\n",
              " ('Presents:', 9),\n",
              " ('Demon', 14),\n",
              " ('Trek:', 6),\n",
              " ('Generations', 1),\n",
              " ('Viv', 1),\n",
              " ('Village', 10),\n",
              " ('Damned', 11),\n",
              " ('Tommy', 3),\n",
              " ('Boy', 73),\n",
              " ('Vanya', 1),\n",
              " ('42nd', 2),\n",
              " ('Underneath', 2),\n",
              " (\"What's\", 14),\n",
              " ('Eating', 3),\n",
              " ('Gilbert', 1),\n",
              " ('Grape', 1),\n",
              " ('Virtuosity', 1),\n",
              " ('Sleeping', 16),\n",
              " ('War,', 16),\n",
              " ('Double', 32),\n",
              " (\"Muriel's\", 1),\n",
              " ('Wedding', 42),\n",
              " ('Baby-Sitters', 1),\n",
              " ('Club,', 18),\n",
              " ('Pet', 6),\n",
              " ('Detective', 14),\n",
              " ('Priscilla,', 1),\n",
              " ('Desert,', 3),\n",
              " ('Backbeat', 1),\n",
              " ('Bitter', 11),\n",
              " ('Moon', 67),\n",
              " ('Bullets', 10),\n",
              " ('Over', 45),\n",
              " ('Broadway', 20),\n",
              " ('Clear', 9),\n",
              " ('Present', 3),\n",
              " ('Danger', 7),\n",
              " ('Client,', 1),\n",
              " ('Corrina,', 1),\n",
              " ('Corrina', 1),\n",
              " ('Crooklyn', 1),\n",
              " ('Crow,', 2),\n",
              " ('Cobb', 1),\n",
              " ('Flintstones,', 1),\n",
              " ('Forrest', 1),\n",
              " ('Gump', 1),\n",
              " ('Weddings', 4),\n",
              " ('Funeral', 6),\n",
              " ('Higher', 5),\n",
              " ('Learning', 4),\n",
              " ('I', 286),\n",
              " ('Trouble', 35),\n",
              " ('Could', 15),\n",
              " ('Happen', 4),\n",
              " ('Jungle', 20),\n",
              " ('Book,', 3),\n",
              " ('Wonderful,', 1),\n",
              " ('Horrible', 5),\n",
              " ('Leni', 2),\n",
              " ('Riefenstahl,', 2),\n",
              " ('(Macht', 1),\n",
              " ('der', 42),\n",
              " ('Bilder:', 1),\n",
              " ('Die)', 21),\n",
              " ('Lion', 10),\n",
              " ('Buddha', 2),\n",
              " ('Wes', 1),\n",
              " (\"Craven's\", 1),\n",
              " ('Nightmare', 20),\n",
              " ('(Nightmare', 2),\n",
              " ('Elm', 9),\n",
              " ('7:', 8),\n",
              " (\"Freddy's\", 4),\n",
              " ('Finale,', 1),\n",
              " ('A)', 23),\n",
              " ('Mask,', 5),\n",
              " ('Maverick', 2),\n",
              " ('Mrs.', 26),\n",
              " ('Parker', 4),\n",
              " ('Vicious', 3),\n",
              " ('Naked', 32),\n",
              " ('Gun', 40),\n",
              " ('33', 3),\n",
              " ('1/3:', 1),\n",
              " ('Final', 48),\n",
              " ('Insult', 1),\n",
              " ('Paper,', 2),\n",
              " ('Reality', 6),\n",
              " ('Bites', 4),\n",
              " ('Rock', 38),\n",
              " ('West', 41),\n",
              " ('Richie', 1),\n",
              " ('Rich', 11),\n",
              " ('Passage', 9),\n",
              " ('River', 41),\n",
              " ('Wild,', 7),\n",
              " ('Speed', 9),\n",
              " ('Speechless', 1),\n",
              " ('Timecop', 1),\n",
              " ('True', 37),\n",
              " ('Lies', 16),\n",
              " ('Wolf', 32),\n",
              " ('Wyatt', 2),\n",
              " ('Earp', 1),\n",
              " ('Company', 23),\n",
              " ('No', 113),\n",
              " ('Importance,', 1),\n",
              " ('S.F.W.', 1),\n",
              " ('Low', 9),\n",
              " ('Dirty', 35),\n",
              " ('Shame,', 2),\n",
              " ('Colonel', 4),\n",
              " ('Chabert,', 1),\n",
              " ('Le', 44),\n",
              " ('Faster', 2),\n",
              " ('Pussycat!', 1),\n",
              " ('Kill!', 3),\n",
              " ('(1965)', 166),\n",
              " (\"Jason's\", 1),\n",
              " ('Lyric', 1),\n",
              " ('Thumb,', 1),\n",
              " ('Fighter', 8),\n",
              " ('Coldblooded', 1),\n",
              " ('Desert', 21),\n",
              " ('Winds', 4),\n",
              " ('Fear,', 3),\n",
              " ('Ollie', 2),\n",
              " ('Cadillac', 6),\n",
              " ('Homage', 2),\n",
              " ('Mirage', 3),\n",
              " ('Open', 19),\n",
              " ('Season', 19),\n",
              " ('Crimes', 9),\n",
              " ('(Dos', 2),\n",
              " ('crímenes)', 1),\n",
              " ('Brother', 19),\n",
              " ('Minister:', 1),\n",
              " ('Assassination', 13),\n",
              " ('Malcolm', 2),\n",
              " ('X', 24),\n",
              " ('Highlander', 3),\n",
              " ('III:', 34),\n",
              " ('Sorcerer', 3),\n",
              " ('Highlander:', 4),\n",
              " ('Dimension)', 1),\n",
              " ('Federal', 1),\n",
              " ('Hill', 23),\n",
              " ('Mouth', 7),\n",
              " ('8', 17),\n",
              " ('Seconds', 10),\n",
              " ('Above', 18),\n",
              " ('Rim', 2),\n",
              " ('Addams', 3),\n",
              " ('Values', 1),\n",
              " ('Martin', 10),\n",
              " ('Lawrence:', 1),\n",
              " ('So', 34),\n",
              " ('Age', 27),\n",
              " ('Innocence,', 4),\n",
              " ('Airheads', 1),\n",
              " ('Air', 21),\n",
              " ('There,', 4),\n",
              " ('Another', 33),\n",
              " ('Stakeout', 3),\n",
              " ('Barcelona', 2),\n",
              " ('Being', 20),\n",
              " ('Beverly', 12),\n",
              " ('Hillbillies,', 1),\n",
              " ('Hills', 18),\n",
              " ('Blink', 2),\n",
              " ('Blown', 2),\n",
              " ('Away', 28),\n",
              " ('Chips', 3),\n",
              " ('Snatchers', 3),\n",
              " ('Boxing', 2),\n",
              " ('Helena', 2),\n",
              " ('Tale,', 13),\n",
              " ('Cabin', 7),\n",
              " ('Calendar', 3),\n",
              " (\"Carlito's\", 2),\n",
              " ('Way', 72),\n",
              " ('Slickers', 3),\n",
              " ('II:', 65),\n",
              " ('Legend', 67),\n",
              " (\"Curly's\", 1),\n",
              " ('Gold', 31),\n",
              " ('Clean', 3),\n",
              " ('Slate', 1),\n",
              " ('Cliffhanger', 1),\n",
              " ('Coneheads', 1),\n",
              " ('Color', 15),\n",
              " ('Cops', 8),\n",
              " ('Robbersons', 1),\n",
              " ('Cowboy', 11),\n",
              " ('Way,', 11),\n",
              " ('Dave', 5),\n",
              " ('Dazed', 1),\n",
              " ('Confused', 1),\n",
              " ('Demolition', 1),\n",
              " ('Endless', 5),\n",
              " ('2,', 25),\n",
              " ('Even', 9),\n",
              " ('Cowgirls', 1),\n",
              " ('Blues', 31),\n",
              " ('Fatal', 6),\n",
              " ('Instinct', 5),\n",
              " ('Farewell', 7),\n",
              " ('Concubine', 2),\n",
              " ('(Ba', 1),\n",
              " ('wang', 5),\n",
              " ('bie', 1),\n",
              " ('ji)', 4),\n",
              " ('Favor,', 1),\n",
              " ('Fearless', 8),\n",
              " ('Hat', 2),\n",
              " ('Honors', 1),\n",
              " ('Flesh', 24),\n",
              " ('Bone', 10),\n",
              " (\"Widows'\", 1),\n",
              " ('Peak', 2),\n",
              " ('or', 62),\n",
              " ('Firm,', 2),\n",
              " ('Fresh', 4),\n",
              " ('Fugitive,', 2),\n",
              " ('Geronimo:', 1),\n",
              " ('Getaway,', 3),\n",
              " ('Getting', 12),\n",
              " ('Dad', 8),\n",
              " ('Go', 60),\n",
              " ('Fish', 22),\n",
              " ('Good', 93),\n",
              " ('Africa,', 1),\n",
              " ('Guilty', 8),\n",
              " ('as', 28),\n",
              " ('Sin', 11),\n",
              " ('Hard', 29),\n",
              " ('Heaven', 47),\n",
              " ('Earth', 55),\n",
              " ('Hot', 33),\n",
              " ('Shots!', 2),\n",
              " ('Deux', 2),\n",
              " ('Nude', 7),\n",
              " ('Englishman', 2),\n",
              " ('Who', 104),\n",
              " ('Went', 12),\n",
              " ('But', 26),\n",
              " ('Came', 26),\n",
              " ('Mountain,', 7),\n",
              " ('Spirits,', 1),\n",
              " ('3', 72),\n",
              " ('Hudsucker', 1),\n",
              " ('Proxy,', 1),\n",
              " (\"I'll\", 12),\n",
              " ('Anything', 8),\n",
              " ('Army', 19),\n",
              " ('Fire', 53),\n",
              " ('Name', 25),\n",
              " ('Inkwell,', 1),\n",
              " ('Got', 16),\n",
              " ('It?', 3),\n",
              " ('Jimmy', 10),\n",
              " ('Judgment', 4),\n",
              " ('Jurassic', 3),\n",
              " ('Park', 32),\n",
              " ('Kalifornia', 1),\n",
              " ('Killing', 28),\n",
              " ('Zoe', 1),\n",
              " ('Lassie', 5),\n",
              " ...]"
            ]
          },
          "metadata": {},
          "execution_count": 54
        }
      ]
    },
    {
      "cell_type": "markdown",
      "source": [
        "# SQL, Hive e HiveQL\n",
        "\n",
        "O Hive é um data warehouse construído sobre o Hadoop, que possui uma interface SQL para consultar e manipular dados armazenados em sistemas de arquivos distribuídos. Ele utiliza o HiveQL, uma linguagem semelhante ao SQL.\n",
        "\n",
        "O Spark possui uma integração nativa com o Hive. Isso significa que o Spark pode ser utilizado como motor de execução para as consultas HiveQL.\n",
        "\n",
        "> **nota**. Inicialmente, o Hive utiliza(va?) o MapReduce como motor de execução. O MapReduce, embora seja um paradigma poderoso para processamento de grandes volumes de dados, pode ser lento para consultas iterativas e complexas. O Spark, com seu modelo de programação em memória, oferece assim um desempenho superior."
      ],
      "metadata": {
        "id": "5_OhXxxMDvsG"
      }
    },
    {
      "cell_type": "markdown",
      "source": [
        "Tabelas Hive podem ser criadas diretamente através do Spark."
      ],
      "metadata": {
        "id": "SAHt1BoJO4Iu"
      }
    },
    {
      "cell_type": "code",
      "source": [
        "# Criar um DataFrame\n",
        "data = [(\"Alice\", 25), (\"Bob\", 30)]\n",
        "df = spark.createDataFrame(data, [\"name\", \"age\"])\n",
        "\n",
        "# Criar o esquema (se necessário)\n",
        "spark.sql(\"CREATE SCHEMA my_database\")\n",
        "\n",
        "# Salvar o DataFrame na tabela\n",
        "df.write.format(\"parquet\").mode(\"overwrite\").saveAsTable(\"my_database.my_table\")"
      ],
      "metadata": {
        "id": "Be9D7CpjPp30"
      },
      "execution_count": null,
      "outputs": []
    },
    {
      "cell_type": "code",
      "source": [
        "!ls /content/spark-warehouse/my_database.db/my_table"
      ],
      "metadata": {
        "colab": {
          "base_uri": "https://localhost:8080/"
        },
        "id": "m-ybOlWXQLkA",
        "outputId": "3ddee52f-4fd8-4e85-aaa3-4b118de6133f"
      },
      "execution_count": null,
      "outputs": [
        {
          "output_type": "stream",
          "name": "stdout",
          "text": [
            "part-00000-e732b080-bb4d-4e44-8777-e5577b8de0cb-c000.snappy.parquet  _SUCCESS\n",
            "part-00001-e732b080-bb4d-4e44-8777-e5577b8de0cb-c000.snappy.parquet\n"
          ]
        }
      ]
    },
    {
      "cell_type": "code",
      "source": [
        "result = spark.sql(\"SELECT * FROM my_database.my_table WHERE age == 25\")\n",
        "\n",
        "result.show(5)"
      ],
      "metadata": {
        "colab": {
          "base_uri": "https://localhost:8080/"
        },
        "id": "hR56anGOQfmV",
        "outputId": "43fb1d05-7795-464a-a575-cb77373a5114"
      },
      "execution_count": null,
      "outputs": [
        {
          "output_type": "stream",
          "name": "stdout",
          "text": [
            "+-----+---+\n",
            "| name|age|\n",
            "+-----+---+\n",
            "|Alice| 25|\n",
            "+-----+---+\n",
            "\n"
          ]
        }
      ]
    },
    {
      "cell_type": "markdown",
      "source": [
        "## SQL em dataframes e RDDs"
      ],
      "metadata": {
        "id": "jr96swGUS74b"
      }
    },
    {
      "cell_type": "code",
      "source": [
        "movies_with_year_df.createOrReplaceTempView(\"movies\")\n",
        "\n",
        "# Executando uma consulta SQL\n",
        "result = spark.sql(\"SELECT * FROM movies WHERE year == 1990\")\n",
        "\n",
        "result.show(5)"
      ],
      "metadata": {
        "colab": {
          "base_uri": "https://localhost:8080/"
        },
        "id": "gkSGzhoLDcRB",
        "outputId": "4e0596a3-9809-4518-c4fe-e6677f2ebf6b"
      },
      "execution_count": null,
      "outputs": [
        {
          "output_type": "stream",
          "name": "stdout",
          "text": [
            "+---+--------------------+----+\n",
            "| ID|               title|year|\n",
            "+---+--------------------+----+\n",
            "|586|   Home Alone (1990)|1990|\n",
            "|587|        Ghost (1990)|1990|\n",
            "|590|Dances with Wolve...|1990|\n",
            "|597| Pretty Woman (1990)|1990|\n",
            "|625|  Asfour Stah (1990)|1990|\n",
            "+---+--------------------+----+\n",
            "only showing top 5 rows\n",
            "\n"
          ]
        }
      ]
    }
  ]
}