{
  "nbformat": 4,
  "nbformat_minor": 0,
  "metadata": {
    "colab": {
      "provenance": [],
      "authorship_tag": "ABX9TyPh9UOpYaRMhY9CAXE96g7k",
      "include_colab_link": true
    },
    "kernelspec": {
      "name": "python3",
      "display_name": "Python 3"
    },
    "language_info": {
      "name": "python"
    }
  },
  "cells": [
    {
      "cell_type": "markdown",
      "metadata": {
        "id": "view-in-github",
        "colab_type": "text"
      },
      "source": [
        "<a href=\"https://colab.research.google.com/github/Rogerio-mack/data-engineering/blob/main/Aula_kafka_3.ipynb\" target=\"_parent\"><img src=\"https://colab.research.google.com/assets/colab-badge.svg\" alt=\"Open In Colab\"/></a>"
      ]
    },
    {
      "cell_type": "markdown",
      "source": [
        "<img src=\"https://github.com/Rogerio-mack/data-engineering/blob/main/mack_logo.png?raw=true\" height=\"70\" align=\"right\"/></a>\n",
        "\n",
        "\n",
        "\n",
        "\n"
      ],
      "metadata": {
        "id": "ifRIxMqtyJGc"
      }
    },
    {
      "cell_type": "markdown",
      "source": [
        "# Kafka Docker"
      ],
      "metadata": {
        "id": "GLIA8rr9P1ci"
      }
    },
    {
      "cell_type": "markdown",
      "source": [
        "# Start the Kafka Cluster with Docker Compose"
      ],
      "metadata": {
        "id": "4WYho3UOgS2-"
      }
    },
    {
      "cell_type": "code",
      "source": [
        "version: '3'\n",
        "services:\n",
        "  zookeeper:\n",
        "    image: wurstmeister/zookeeper\n",
        "    container_name: zookeeper\n",
        "    ports:\n",
        "      - \"2181:2181\"\n",
        "    networks:\n",
        "      - kafka-net\n",
        "  kafka:\n",
        "    image: wurstmeister/kafka\n",
        "    container_name: kafka\n",
        "    ports:\n",
        "      - \"9092:9092\"\n",
        "    environment:\n",
        "      KAFKA_ADVERTISED_LISTENERS: INSIDE://kafka:9092,OUTSIDE://localhost:9093\n",
        "      KAFKA_LISTENER_SECURITY_PROTOCOL_MAP: INSIDE:PLAINTEXT,OUTSIDE:PLAINTEXT\n",
        "      KAFKA_LISTENERS: INSIDE://0.0.0.0:9092,OUTSIDE://0.0.0.0:9093\n",
        "      KAFKA_INTER_BROKER_LISTENER_NAME: INSIDE\n",
        "      KAFKA_ZOOKEEPER_CONNECT: zookeeper:2181\n",
        "    networks:\n",
        "      - kafka-net\n",
        "networks:\n",
        "  kafka-net:\n",
        "    driver: bridge"
      ],
      "metadata": {
        "id": "bMGMi7m8gJt2"
      },
      "execution_count": null,
      "outputs": []
    },
    {
      "cell_type": "code",
      "execution_count": null,
      "metadata": {
        "id": "v6Plj6GnPgEr"
      },
      "outputs": [],
      "source": [
        "docker-compose up -d"
      ]
    },
    {
      "cell_type": "markdown",
      "source": [
        "```\n",
        "rogerio@DESKTOP-KRMG5G5:/$ docker-compose up -d\n",
        "Recreating kafka ...\n",
        "Starting zookeeper ...\n",
        "\n",
        "Starting zookeeper ... done\n",
        "```"
      ],
      "metadata": {
        "id": "T1Rt1wYHhmH2"
      }
    },
    {
      "cell_type": "markdown",
      "source": [
        "# Verifying\n",
        "\n",
        "Pelos comandos abaixo ou através do Docker-Desktop."
      ],
      "metadata": {
        "id": "BLCdGZkXghZ2"
      }
    },
    {
      "cell_type": "code",
      "source": [
        "docker-compose ps"
      ],
      "metadata": {
        "id": "6aUAYYS1gjBF"
      },
      "execution_count": null,
      "outputs": []
    },
    {
      "cell_type": "markdown",
      "source": [
        "```\n",
        "rogerio@DESKTOP-KRMG5G5:/$ docker ps\n",
        "CONTAINER ID   IMAGE                    COMMAND                  CREATED          STATUS              PORTS\n",
        "                                   NAMES\n",
        "9529ff3d726f   wurstmeister/kafka       \"start-kafka.sh\"         31 minutes ago   Up 10 seconds       0.0.0.0:9092->9092/tcp                               9529ff3d726f_kafka\n",
        "3cf07df3f902   wurstmeister/zookeeper   \"/bin/sh -c '/usr/sb…\"   31 minutes ago   Up About a minute   22/tcp, 2888/tcp, 3888/tcp, 0.0.0.0:2181->2181/tcp   zookeeper\n",
        "```"
      ],
      "metadata": {
        "id": "py0KD6kShEOe"
      }
    },
    {
      "cell_type": "markdown",
      "source": [
        "### Check logs"
      ],
      "metadata": {
        "id": "cmGTm3wTgot-"
      }
    },
    {
      "cell_type": "code",
      "source": [
        "docker-compose logs zookeeper | grep -i binding"
      ],
      "metadata": {
        "id": "DJR6qNtCg4Ze"
      },
      "execution_count": null,
      "outputs": []
    },
    {
      "cell_type": "markdown",
      "source": [
        "```\n",
        "rogerio@DESKTOP-KRMG5G5:/$ docker-compose logs zookeeper | grep -i binding\n",
        "zookeeper    | 2024-08-20 20:04:46,222 [myid:] - INFO  [main:NIOServerCnxnFactory@89] - binding to port 0.0.0.0/0.0.0.0:2181\n",
        "zookeeper    | 2024-08-20 20:33:34,347 [myid:] - INFO  [main:NIOServerCnxnFactory@89] - binding to port 0.0.0.0/0.0.0.0:2181\n",
        "```"
      ],
      "metadata": {
        "id": "_3_CN5YbhPWe"
      }
    },
    {
      "cell_type": "code",
      "source": [
        "docker-compose logs kafka | grep -i started"
      ],
      "metadata": {
        "id": "PCGmVv6gg8oG"
      },
      "execution_count": null,
      "outputs": []
    },
    {
      "cell_type": "markdown",
      "source": [
        "```\n",
        "rogerio@DESKTOP-KRMG5G5:/$ docker-compose logs kafka | grep -i started\n",
        "9529ff3d726f_kafka | [2024-08-20 20:04:50,019] INFO [SocketServer listenerType=ZK_BROKER, nodeId=1001] Started data-plane acceptor and processor(s) for endpoint : ListenerName(INSIDE) (kafka.network.SocketServer)\n",
        "9529ff3d726f_kafka | [2024-08-20 20:04:50,022] INFO [SocketServer listenerType=ZK_BROKER, nodeId=1001] Started data-plane acceptor and processor(s) for endpoint : ListenerName(OUTSIDE) (kafka.network.SocketServer)\n",
        "9529ff3d726f_kafka | [2024-08-20 20:04:50,022] INFO [SocketServer listenerType=ZK_BROKER, nodeId=1001] Started socket server acceptors and processors (kafka.network.SocketServer)\n",
        "9529ff3d726f_kafka | [2024-08-20 20:04:50,031] INFO [KafkaServer id=1001] started (kafka.server.KafkaServer)\n",
        "9529ff3d726f_kafka | [2024-08-20 20:35:05,274] INFO [SocketServer listenerType=ZK_BROKER, nodeId=1001] Started data-plane acceptor and processor(s) for endpoint : ListenerName(INSIDE) (kafka.network.SocketServer)\n",
        "9529ff3d726f_kafka | [2024-08-20 20:35:05,278] INFO [SocketServer listenerType=ZK_BROKER, nodeId=1001] Started data-plane acceptor and processor(s) for endpoint : ListenerName(OUTSIDE) (kafka.network.SocketServer)\n",
        "9529ff3d726f_kafka | [2024-08-20 20:35:05,278] INFO [SocketServer listenerType=ZK_BROKER, nodeId=1001] Started socket server acceptors and processors (kafka.network.SocketServer)\n",
        "9529ff3d726f_kafka | [2024-08-20 20:35:05,293] INFO [KafkaServer id=1001] started (kafka.server.KafkaServer)\n",
        "```"
      ],
      "metadata": {
        "id": "ItWBwgz9hXcG"
      }
    },
    {
      "cell_type": "markdown",
      "source": [
        "# Creating a Kafka Topic"
      ],
      "metadata": {
        "id": "0Xzrm2j-hvhO"
      }
    },
    {
      "cell_type": "code",
      "source": [
        "docker-compose exec kafka kafka-topics.sh --create --topic mytopic1 --partitions 1 --replication-factor 1 --bootstrap-server kafka:9092"
      ],
      "metadata": {
        "id": "ICZIWF2DhyZR"
      },
      "execution_count": null,
      "outputs": []
    },
    {
      "cell_type": "markdown",
      "source": [
        "```\n",
        "rogerio@DESKTOP-KRMG5G5:/$ docker-compose exec kafka kafka-topics.sh --create --topic mytopic1 --partitions 1 --replicat\n",
        "ion-factor 1 --bootstrap-server kafka:9092\n",
        "Created topic mytopic1.\n",
        "```"
      ],
      "metadata": {
        "id": "A-t44ORHiGZG"
      }
    },
    {
      "cell_type": "markdown",
      "source": [
        "# Publishing Messages"
      ],
      "metadata": {
        "id": "OYPn6hjLiMUL"
      }
    },
    {
      "cell_type": "code",
      "source": [
        "docker-compose exec kafka kafka-console-producer.sh --topic mytopic1 --broker-list kafka:9092"
      ],
      "metadata": {
        "id": "3Fp30lRCiMUM"
      },
      "execution_count": null,
      "outputs": []
    },
    {
      "cell_type": "markdown",
      "source": [
        "```\n",
        "rogerio@DESKTOP-KRMG5G5:/$ docker-compose exec kafka kafka-console-producer.sh --topic mytopic1 --broker-list kafka:9092\n",
        ">my_msg1\n",
        ">my_msg2\n",
        ">{'id':1,'msg':'teste'}\n",
        ">{'id':2,'msg':'teste','etc':'...'}\n",
        ">1\n",
        ">2\n",
        ">3\n",
        ">4\n",
        ">4\n",
        ">^Crogerio@DESKTOP-KRMG5G5:/$\n",
        "```"
      ],
      "metadata": {
        "id": "nlPHRSaNiMUM"
      }
    },
    {
      "cell_type": "markdown",
      "source": [
        "# Consuming Messages"
      ],
      "metadata": {
        "id": "rrBiay-QiQvW"
      }
    },
    {
      "cell_type": "code",
      "source": [
        "docker-compose exec kafka kafka-console-consumer.sh --topic mytopic1 --from-beginning --bootstrap-server kafka:9092"
      ],
      "metadata": {
        "id": "QORvFgBNjFMW"
      },
      "execution_count": null,
      "outputs": []
    },
    {
      "cell_type": "markdown",
      "source": [
        "```\n",
        "rogerio@DESKTOP-KRMG5G5:/$ docker-compose exec kafka kafka-console-consumer.sh --topic mytopic1 --from-beginning --bootstrap-server kafka:9092092\n",
        "my_msg1\n",
        "my_msg2\n",
        "{'id':1,'msg':'teste'}\n",
        "{'id':2,'msg':'teste','etc':'...'}\n",
        "1\n",
        "2\n",
        "3\n",
        "4\n",
        "4\n",
        "```"
      ],
      "metadata": {
        "id": "Mo9O4tFGjPWO"
      }
    }
  ]
}