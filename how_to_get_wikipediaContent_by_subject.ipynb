{
  "nbformat": 4,
  "nbformat_minor": 0,
  "metadata": {
    "colab": {
      "provenance": [],
      "authorship_tag": "ABX9TyMXigQnS3lWOSiTTJ4TwBc0",
      "include_colab_link": true
    },
    "kernelspec": {
      "name": "python3",
      "display_name": "Python 3"
    },
    "language_info": {
      "name": "python"
    }
  },
  "cells": [
    {
      "cell_type": "markdown",
      "metadata": {
        "id": "view-in-github",
        "colab_type": "text"
      },
      "source": [
        "<a href=\"https://colab.research.google.com/github/Rogerio-mack/data-engineering/blob/main/how_to_get_wikipediaContent_by_subject.ipynb\" target=\"_parent\"><img src=\"https://colab.research.google.com/assets/colab-badge.svg\" alt=\"Open In Colab\"/></a>"
      ]
    },
    {
      "cell_type": "markdown",
      "source": [
        "# **Get Wikipedia content by subject**\n",
        "\n",
        "Aqui um exemplo de como coletar da Wikipedia dados sobre um tema específico, como saúde, para alimentar um LLM."
      ],
      "metadata": {
        "id": "0D8GrulEHQR5"
      }
    },
    {
      "cell_type": "code",
      "source": [
        "!pip install wikipedia"
      ],
      "metadata": {
        "colab": {
          "base_uri": "https://localhost:8080/"
        },
        "id": "_orpQL1ZDa8Y",
        "outputId": "fcd1a0f5-3f65-4464-8bb2-3e2bdcda9816"
      },
      "execution_count": null,
      "outputs": [
        {
          "output_type": "stream",
          "name": "stdout",
          "text": [
            "Collecting wikipedia\n",
            "  Downloading wikipedia-1.4.0.tar.gz (27 kB)\n",
            "  Preparing metadata (setup.py) ... \u001b[?25l\u001b[?25hdone\n",
            "Requirement already satisfied: beautifulsoup4 in /usr/local/lib/python3.10/dist-packages (from wikipedia) (4.12.3)\n",
            "Requirement already satisfied: requests<3.0.0,>=2.0.0 in /usr/local/lib/python3.10/dist-packages (from wikipedia) (2.31.0)\n",
            "Requirement already satisfied: charset-normalizer<4,>=2 in /usr/local/lib/python3.10/dist-packages (from requests<3.0.0,>=2.0.0->wikipedia) (3.3.2)\n",
            "Requirement already satisfied: idna<4,>=2.5 in /usr/local/lib/python3.10/dist-packages (from requests<3.0.0,>=2.0.0->wikipedia) (3.7)\n",
            "Requirement already satisfied: urllib3<3,>=1.21.1 in /usr/local/lib/python3.10/dist-packages (from requests<3.0.0,>=2.0.0->wikipedia) (2.0.7)\n",
            "Requirement already satisfied: certifi>=2017.4.17 in /usr/local/lib/python3.10/dist-packages (from requests<3.0.0,>=2.0.0->wikipedia) (2024.6.2)\n",
            "Requirement already satisfied: soupsieve>1.2 in /usr/local/lib/python3.10/dist-packages (from beautifulsoup4->wikipedia) (2.5)\n",
            "Building wheels for collected packages: wikipedia\n",
            "  Building wheel for wikipedia (setup.py) ... \u001b[?25l\u001b[?25hdone\n",
            "  Created wheel for wikipedia: filename=wikipedia-1.4.0-py3-none-any.whl size=11680 sha256=e3249a80559c4430afdb8a505182cdcc27d1a376f4c61d028e4f2cf3ff0b4003\n",
            "  Stored in directory: /root/.cache/pip/wheels/5e/b6/c5/93f3dec388ae76edc830cb42901bb0232504dfc0df02fc50de\n",
            "Successfully built wikipedia\n",
            "Installing collected packages: wikipedia\n",
            "Successfully installed wikipedia-1.4.0\n"
          ]
        }
      ]
    },
    {
      "cell_type": "markdown",
      "source": [
        "# Search pages by subject"
      ],
      "metadata": {
        "id": "zHV0Mpg_HCqc"
      }
    },
    {
      "cell_type": "code",
      "source": [
        "import wikipedia\n",
        "wikipedia.set_lang(\"pt\")\n",
        "print(wikipedia.search(\"Coronavirus\"))"
      ],
      "metadata": {
        "colab": {
          "base_uri": "https://localhost:8080/"
        },
        "id": "6lS3_m0zDPry",
        "outputId": "d1695364-873a-459d-869a-e84f517561a2"
      },
      "execution_count": null,
      "outputs": [
        {
          "output_type": "stream",
          "name": "stdout",
          "text": [
            "['Coronavírus', 'Pandemia de COVID-19', 'COVID-19', 'Pandemia de COVID-19 por país', 'Coronavírus da síndrome respiratória aguda grave 2', 'Pandemia de COVID-19 no Brasil', '2020', 'Coronavírus humano OC43', 'Coronavírus humano HKU1', 'Novo coronavírus']\n"
          ]
        }
      ]
    },
    {
      "cell_type": "markdown",
      "source": [
        "# Print Summary"
      ],
      "metadata": {
        "id": "2XkgoEqSHHh6"
      }
    },
    {
      "cell_type": "code",
      "source": [
        "for page in wikipedia.search(\"Coronavirus\"):\n",
        "  print(wikipedia.summary(page))\n",
        "  print()"
      ],
      "metadata": {
        "colab": {
          "base_uri": "https://localhost:8080/"
        },
        "id": "yJD9gdcSESMs",
        "outputId": "2d8e860f-30c7-4e8d-a023-e83fb7c70d41"
      },
      "execution_count": null,
      "outputs": [
        {
          "output_type": "stream",
          "name": "stdout",
          "text": [
            "Os coronavírus são um grupo de vírus de genoma de RNA simples de sentido positivo (serve diretamente para a síntese proteica), conhecidos desde meados dos anos 1960. Pertencem à subfamília taxonómica Orthocoronavirinae da família Coronaviridae, da ordem Nidovirales.\n",
            "A maioria das pessoas se infecta com os coronavírus comuns ao longo da vida. Eles são uma causa comum de infecções respiratórias brandas a moderadas de curta duração. Entre os coronavírus encontra-se o vírus causador da forma de pneumonia atípica grave conhecida por SARS, e o vírus causador da COVID-19, responsável pela pandemia em 2020 e 2021.\n",
            "\n",
            "A pandemia de COVID-19, também conhecida como pandemia de coronavírus, é uma pandemia da doença por coronavírus 2019 (COVID-19), causada pelo coronavírus da síndrome respiratória aguda grave 2 (SARS-CoV-2). O vírus foi identificado pela primeira vez a partir de um surto em Wuhan, China, em dezembro de 2019. As tentativas de contê-lo falharam, permitindo que o vírus se espalhasse para outras áreas da China e, posteriormente, para todo o mundo. Em 30 de janeiro de 2020, a Organização Mundial da Saúde (OMS) classificou o surto como Emergência de Saúde Pública de Âmbito Internacional (PHEIC) e, em 11 de março de 2020, como pandemia. A OMS declarou o fim da PHEIC no dia 5 de maio de 2023, apesar de ainda continuar a se referir a ela como uma pandemia. Até 9 de junho de 2024, conforme a OMS, 775 615 722 casos foram confirmados em 231 países e territórios, com 7 051 323 mortes atribuídas à doença, tornando-se a quinta mais mortal da história.\n",
            "Os sintomas de COVID-19 são altamente variáveis, variando de nenhum a doenças com risco de morte, mas mais comumente incluem febre, tosse seca e fadiga. A doença num estado mais grave e severo é mais provável em pacientes idosos e naqueles com certas condições médicas subjacentes. A COVID-19 é transmitida quando as pessoas respiram ar contaminado por gotículas e pequenas partículas transportadas pelo ar que contêm o vírus. O risco de inalar isso é maior quando as pessoas estão próximas, mas podem ser inaladas a distâncias maiores, principalmente em ambientes fechados. A transmissão também pode ocorrer se os fluidos contaminados atingirem os olhos, nariz ou boca e, raramente, através de superfícies contaminadas. As pessoas infectadas normalmente permanecem contagiosas por 10 a 14 dias e podem espalhar o vírus mesmo que não desenvolvam sintomas. Mutações produziram muitas cepas (variantes) com graus variados de infectividade e virulência.\n",
            "Várias vacinas contra a COVID-19 foram desenvolvidas e distribuídas ao redor do mundo desde dezembro de 2020. De acordo com um estudo de junho de 2022, as vacinas contra a COVID-19 evitaram 14,4 a 19,8 milhões de mortes adicionais em 185 países e territórios de 8 de dezembro de 2020 a 8 de dezembro de 2021. Outras medidas preventivas recomendadas incluem distanciamento social, uso de máscaras faciais em público, ventilação e filtragem de ar, lavagem das mãos, cobertura da boca ao espirrar ou tossir, desinfecção de superfícies e monitoramento e autoisolamento para pessoas expostas ou sintomáticas. Os tratamentos incluem drogas terapêuticas que inibem o vírus e o controle dos sintomas. Autoridades em todo o mundo responderam implementando restrições a viagens, confinamentos, controles dos locais de trabalho, quarentenas e fechamentos de instalações. Muitos lugares também trabalharam para aumentar a capacidade de testar e rastrear os contatos dos infectados.\n",
            "A pandemia resultou em instabilidade social e econômica global significativa, incluindo a maior recessão global desde a Grande Depressão. Isso levou a uma escassez generalizada de suprimentos, que foi exacerbada pela corrida às compras, interrupção da agricultura e escassez de alimentos, além de diminuição das emissões de poluentes e gases de efeito estufa. Muitas instituições educacionais e áreas públicas foram parcial ou totalmente fechadas, e muitos eventos foram cancelados ou adiados. A desinformação circulou nas redes sociais e nos meios de comunicação de massa. A pandemia levantou questões de discriminação racial e geográfica, igualdade na saúde e o equilíbrio entre os imperativos da saúde pública e os direitos individuais.\n",
            "\n",
            "\n",
            "\n",
            "COVID-19 (do inglês: coronavirus disease 2019, em português: doença por coronavírus 2019) é uma doença infeciosa causada pelo coronavírus da síndrome respiratória aguda grave 2 (SARS-CoV-2). Os sintomas mais comuns são febre, tosse seca e cansaço. Entre outros sintomas menos comuns estão dores musculares, dor de garganta, dor de cabeça, congestão nasal, conjuntivite, perda do olfato e do paladar e erupções cutâneas. Cerca de 80% das infeções pelo SARS-CoV-2 confirmadas têm sintomas ligeiros de COVID-19 ou são assintomáticos, e a maioria recupera sem sequelas. No entanto, 15% das infeções resultam em COVID-19 severa com necessidade de oxigénio e 5% são infeções muito graves que necessitam de ventilação assistida em ambiente hospitalar. Os casos mais graves podem evoluir para pneumonia grave com insuficiência respiratória grave, sepse, falência de vários órgãos e morte. Entre os sinais de agravamento da doença estão a falta de ar, dor ou pressão no peito, dedos de tom azul ou perturbações na fala e no movimento. O agravamento pode ser súbito, ocorre geralmente durante a segunda semana e requer atenção médica urgente.\n",
            "A doença transmite-se através de gotículas produzidas nas vias respiratórias das pessoas infetadas. Ao espirrar ou tossir, estas gotículas podem ser inaladas ou atingir diretamente a boca, nariz ou olhos de pessoas em contacto próximo. Estas gotículas podem também depositar-se em objetos e superfícies próximos que podem infetar quem nelas toque e leve a mão aos olhos, nariz ou boca, embora esta forma de transmissão seja menos comum. O intervalo de tempo entre a exposição ao vírus e o início dos sintomas é de 2 a 14 dias, sendo em média 5 dias. Entre os fatores de risco estão a idade avançada e doenças crónicas graves como doenças cardiovasculares, diabetes ou doenças pulmonares. O diagnóstico é suspeito com base nos sintomas e fatores de risco e confirmado com ensaios em tempo real de reação em cadeia de polimerase para deteção de ARN do vírus em amostras de muco ou de sangue.\n",
            "Entre as medidas de prevenção estão a lavagem frequente das mãos, evitar o contacto próximo com outras pessoas, evitar tocar com as mãos na cara e o uso de máscara em locais públicos. À data de 25 de março de 2021, 12 vacinas contra a COVID-19 tinham recebido autorização de uso por pelo menos uma entidade reguladora nacional em todo o mundo. Não existe tratamento antiviral específico para a doença. O tratamento consiste no alívio dos sintomas e cuidados de apoio. As pessoas com casos ligeiros conseguem recuperar em casa. Os antibióticos não têm efeito contra vírus.\n",
            "O SARS-CoV-2 foi identificado pela primeira vez em seres humanos em dezembro de 2019 na cidade de Wuhan, na China. Pensa-se que o SARS-CoV-2 seja de origem animal. O surto inicial deu origem a uma pandemia global que à data de 9 de junho de 2024 tinha resultado em 775 615 722 casos confirmados e 7 051 323 mortes em todo o mundo. Os coronavírus são uma grande família de vírus que causam várias doenças respiratórias, desde doenças ligeiras como a constipação até doenças mais graves como a síndrome respiratória aguda grave (SARS). Entre outras epidemias causadas por coronavírus estão a epidemia de SARS em 2002-2003 e a epidemia de síndrome respiratória do Médio Oriente (MERS) em 2012.\n",
            "\n",
            "Este artigo documenta os países afetados e as respostas ao novo coronavírus (SARS-CoV-2), responsável pela pandemia de COVID-19 em todo o mundo e pode não incluir todas as principais respostas e medidas contemporâneas.\n",
            "\n",
            "O coronavírus da síndrome respiratória aguda grave 2 (SARS-CoV-2) (em Inglês: Severe acute respiratory syndrome coronavirus 2), inicialmente denominado \"2019-nCoV\" (em Inglês: 2019 novel coronavirus), e por vezes \"coronavírus de Wuhan\", ou \"vírus da COVID-19\", é um vírus ARN de cadeia simples positiva (genoma linear), contagioso entre seres humanos, e a causa da doença COVID-19, da qual existe uma pandemia em curso.\n",
            "A Organização Mundial de Saúde (OMS) desaconselha a utilização de nomes baseados na localização, e, a fim de evitar confusão com a doença síndrome respiratória aguda grave (SARS), em comunicados públicos por vezes refere-se ao vírus como \"vírus responsável pela COVID-19\" ou \"vírus da COVID-19\". Tanto o vírus como a doença são muitas vezes denominados \"coronavírus\" ou \"novo coronavírus\" pelo público em geral, embora cientistas usem termos mais precisos.\n",
            "As primeiras infecções conhecidas foram descobertas na cidade de Wuhan (província de Hubei, China) em dezembro de 2019. Morcegos são o reservatório natural mais provável do vírus, enquanto diferenças com aquele encontrado em humanos sugerem a possibilidade de um hospedeiro intermédio. As evidências atualmente disponíveis indicam um salto zoonótico entre hospedeiros como a origem do vírus em humanos, possivelmente ocorrido nos mercados de rua de Wuhan. Uma hipótese alternativa sugere um escape do laboratório de virologia localizado na mesma cidade, porém não há evidências que permitam essa conclusão. Inicialmente, autoridades como a OMS descartavam tal hipótese, porém, em uma mudança de postura a partir de 2022, a OMS recomendou fortemente a investigação da hipótese de um escape de laboratório, enquanto alguns órgãos do governo dos EUA apontaram-na como a mais provável, sem fornecer detalhes. As autoridades chinesas foram criticadas internacionalmente pela falta de transparência nas investigações sobre a origem do vírus, o que tem levado a relatórios inconclusivos a respeito dessa.\n",
            "\n",
            "No Brasil, a pandemia de COVID-19 teve início em 26 de fevereiro de 2020 com a confirmação do primeiro caso na cidade de São Paulo. Menos de um mês depois, o Ministério da Saúde (MS) declarou o estado de transmissão comunitária em todo o território nacional e, desde então, foram confirmados 37 553 337 casos e 702 421 mortes.\n",
            "No início da pandemia, o então ministro da saúde Luiz Henrique Mandetta posicionou-se de acordo com as orientações da Organização Mundial da Saúde (OMS) ao adotar o distanciamento social com o objetivo de \"achatar a curva\" de contágio e assim evitar o colapso do sistema de saúde. Por outro lado, a resposta do então presidente Jair Bolsonaro foi amplamente criticada depois que ele minimizou os efeitos da doença, defendeu tratamentos sem eficácia comprovada e postergou a compra de vacinas, além de ter entrado em conflito com governadores por discordar de medidas de distanciamento social. Por causa dessa resposta errática, o Senado Federal instaurou a CPI da COVID-19, uma comissão parlamentar de inquérito para investigar ações e omissões do poder público no combate à pandemia.\n",
            "Entre os impactos da pandemia, o sistema de saúde passou por uma crise sanitária em 2021, quando o país começou a registrar mortes em filas de espera por leitos e alertas para possíveis desabastecimentos de oxigênio e produtos de intubação. Na economia, interrompeu a recuperação de longo prazo e afetou diretamente o emprego e a renda da população. Por fim, prejudicou a educação de alunos em fase de alfabetização.\n",
            "\n",
            "2020 (MMXX, na numeração romana) foi um ano bissexto do século XXI que começou numa quarta-feira, segundo o calendário gregoriano. As suas letras dominicais foram ED. A terça-feira de Carnaval ocorreu a 25 de fevereiro e o domingo de Páscoa a 12 de abril. Segundo o horóscopo chinês, foi o ano do Rato, começando a 25 de janeiro.\n",
            "\n",
            "Foi um ano marcado pela devastadora Pandemia de COVID-19, que levou à perturbação social e econômica global, causou inúmeras mortes, cancelamentos e adiamentos em massa de eventos - como as Olimpíadas, que iriam acontecer este ano, mas foram adiadas pela primeira vez na história - bloqueios mundiais e a maior recessão econômica desde a Grande Depressão dos anos 1930. Geospatial World também o chamou de \"o pior ano em termos de mudança climática\" em parte devido a grandes desastres climáticos em todo o mundo, incluindo grandes incêndios florestais na Austrália e no oeste dos Estados Unidos, bem como a atividade extrema de ciclones tropicais que afetam grandes partes de América do Norte. Um relatório de progresso das Nações Unidas publicado em dezembro de 2020 indicou que nenhum dos Objetivos de Desenvolvimento Sustentável internacionais para 2020 foi alcançado.\n",
            "\n",
            "Coronavírus humano OC43 (HCoV-OC43, Human coronavirus OC43) é um membro da espécie Betacoronavírus 1, que infecta humanos e bovinos. O coronavírus infectante é um vírus envelopado de sentido positivo, com RNA fita simples, que entra na célula hospedeira por ligação ao receptor ácido N-acetilneuramínico. Juntamente com o coronavírus humano 229E, é um dos vírus responsáveis pelo resfriado comum. Possui, como outros coronavírus do gênero Betacoronavírus, subgênero Embecovirus, uma proteína de superfície adicional mais curta, chamada hemaglutinina esterase (HE).\n",
            "\n",
            "Coronavírus humano HKU1 (HCoV-HKU1, Human coronavirus HKU1) é uma espécie de coronavírus originário de ratos infectados. O coronavírus infectante é um vírus envelopado de sentido positivo, com RNA fita simples que entra na célula hospedeira por ligação ao receptor ácido N-acetilneuramínico. O vírus possui o gene da Hemaglutinina esterase (HE), que o distingue como um membro do gênero Betacoronavírus e subgênero Embecovírus. Foi descoberto em janeiro de 2005 em dois pacientes em Hong Kong.\n",
            "\n",
            "Novo coronavírus (nCoV) é um nome provisório dado aos coronavírus de importância médica antes que um nome permanente seja decidido. Embora os coronavírus sejam endêmicos em humanos e as infecções sejam leves, como o resfriado comum (causado por coronavírus humano em ~ 15% dos casos), a transmissão entre espécies produziu algumas cepas virulentas que podem causar pneumonia viral e, em casos graves, até síndrome do desconforto respiratório agudo e morte.\n",
            "\n"
          ]
        }
      ]
    },
    {
      "cell_type": "markdown",
      "source": [
        "# Select many pages and full content"
      ],
      "metadata": {
        "id": "aMNe1MMsHLKK"
      }
    },
    {
      "cell_type": "code",
      "source": [
        "for page in wikipedia.search(\"Coronavirus\"):\n",
        "  print(wikipedia.page(page).title, '\\n')\n",
        "  print(wikipedia.page(page).url, '\\n')\n",
        "  # print(wikipedia.page(page).content, '\\n\\n')"
      ],
      "metadata": {
        "colab": {
          "base_uri": "https://localhost:8080/"
        },
        "id": "8aZ91flCFbcB",
        "outputId": "1099906b-10ff-43c5-fa28-6c85113ddc5d"
      },
      "execution_count": null,
      "outputs": [
        {
          "output_type": "stream",
          "name": "stdout",
          "text": [
            "Coronavírus \n",
            "\n",
            "https://pt.wikipedia.org/wiki/Coronav%C3%ADrus \n",
            "\n",
            "Pandemia de COVID-19 \n",
            "\n",
            "https://pt.wikipedia.org/wiki/Pandemia_de_COVID-19 \n",
            "\n",
            "COVID-19 \n",
            "\n",
            "https://pt.wikipedia.org/wiki/COVID-19 \n",
            "\n",
            "Pandemia de COVID-19 por país \n",
            "\n",
            "https://pt.wikipedia.org/wiki/Pandemia_de_COVID-19_por_pa%C3%ADs \n",
            "\n",
            "Coronavírus da síndrome respiratória aguda grave 2 \n",
            "\n",
            "https://pt.wikipedia.org/wiki/Coronav%C3%ADrus_da_s%C3%ADndrome_respirat%C3%B3ria_aguda_grave_2 \n",
            "\n",
            "Pandemia de COVID-19 no Brasil \n",
            "\n",
            "https://pt.wikipedia.org/wiki/Pandemia_de_COVID-19_no_Brasil \n",
            "\n",
            "2020 \n",
            "\n",
            "https://pt.wikipedia.org/wiki/2020 \n",
            "\n",
            "Coronavírus humano OC43 \n",
            "\n",
            "https://pt.wikipedia.org/wiki/Coronav%C3%ADrus_humano_OC43 \n",
            "\n",
            "Coronavírus humano HKU1 \n",
            "\n",
            "https://pt.wikipedia.org/wiki/Coronav%C3%ADrus_humano_HKU1 \n",
            "\n",
            "Novo coronavírus \n",
            "\n",
            "https://pt.wikipedia.org/wiki/Novo_coronav%C3%ADrus \n",
            "\n"
          ]
        }
      ]
    },
    {
      "cell_type": "code",
      "source": [
        "for page in wikipedia.search(\"Câncer\"):\n",
        "  print(wikipedia.page(page).title, '\\n')\n",
        "  print(wikipedia.page(page).url, '\\n')\n",
        "  # print(wikipedia.page(page).content, '\\n\\n')"
      ],
      "metadata": {
        "colab": {
          "base_uri": "https://localhost:8080/"
        },
        "id": "NXYtSzQ3F-w1",
        "outputId": "34b8e952-2d91-404f-b44f-3aad629a996c"
      },
      "execution_count": null,
      "outputs": [
        {
          "output_type": "stream",
          "name": "stdout",
          "text": [
            "Câncer \n",
            "\n",
            "https://pt.wikipedia.org/wiki/C%C3%A2ncer \n",
            "\n",
            "Câncer (astrologia) \n",
            "\n",
            "https://pt.wikipedia.org/wiki/C%C3%A2ncer_(astrologia) \n",
            "\n",
            "Câncer \n",
            "\n",
            "https://pt.wikipedia.org/wiki/C%C3%A2ncer \n",
            "\n",
            "Câncer de pulmão \n",
            "\n",
            "https://pt.wikipedia.org/wiki/C%C3%A2ncer_de_pulm%C3%A3o \n",
            "\n",
            "Câncer de próstata \n",
            "\n",
            "https://pt.wikipedia.org/wiki/C%C3%A2ncer_de_pr%C3%B3stata \n",
            "\n",
            "Estadiamento do câncer \n",
            "\n",
            "https://pt.wikipedia.org/wiki/Estadiamento_do_c%C3%A2ncer \n",
            "\n",
            "Trópico de Câncer \n",
            "\n",
            "https://pt.wikipedia.org/wiki/Tr%C3%B3pico_de_C%C3%A2ncer \n",
            "\n",
            "Câncer anal \n",
            "\n",
            "https://pt.wikipedia.org/wiki/C%C3%A2ncer_anal \n",
            "\n",
            "Câncer de pênis \n",
            "\n",
            "https://pt.wikipedia.org/wiki/C%C3%A2ncer_de_p%C3%AAnis \n",
            "\n",
            "Câncer colorretal \n",
            "\n",
            "https://pt.wikipedia.org/wiki/C%C3%A2ncer_colorretal \n",
            "\n"
          ]
        }
      ]
    },
    {
      "cell_type": "code",
      "source": [
        "for page in wikipedia.search(\"HIV\"):\n",
        "  print(wikipedia.page(page).title, '\\n')\n",
        "  print(wikipedia.page(page).url, '\\n')\n",
        "  # print(wikipedia.page(page).content, '\\n\\n')"
      ],
      "metadata": {
        "colab": {
          "base_uri": "https://localhost:8080/"
        },
        "id": "rzf9uYvDGHDZ",
        "outputId": "6deb801a-74a4-4580-e818-aeefcd105163"
      },
      "execution_count": null,
      "outputs": [
        {
          "output_type": "stream",
          "name": "stdout",
          "text": [
            "Vírus da imunodeficiência humana \n",
            "\n",
            "https://pt.wikipedia.org/wiki/V%C3%ADrus_da_imunodefici%C3%AAncia_humana \n",
            "\n",
            "Síndrome da imunodeficiência adquirida \n",
            "\n",
            "https://pt.wikipedia.org/wiki/S%C3%ADndrome_da_imunodefici%C3%AAncia_adquirida \n",
            "\n",
            "Exame de HIV \n",
            "\n",
            "https://pt.wikipedia.org/wiki/Exame_de_HIV \n",
            "\n",
            "Lista de países por taxa de prevalência de HIV/AIDS em adultos \n",
            "\n",
            "https://pt.wikipedia.org/wiki/Lista_de_pa%C3%ADses_por_taxa_de_preval%C3%AAncia_de_HIV/AIDS_em_adultos \n",
            "\n",
            "UNAIDS \n",
            "\n",
            "https://pt.wikipedia.org/wiki/UNAIDS \n",
            "\n",
            "Antirretroviral \n",
            "\n",
            "https://pt.wikipedia.org/wiki/Antirretroviral \n",
            "\n",
            "HIV-integrase \n",
            "\n",
            "https://pt.wikipedia.org/wiki/HIV-integrase \n",
            "\n",
            "Subtipos de HIV \n",
            "\n",
            "https://pt.wikipedia.org/wiki/Subtipos_de_HIV \n",
            "\n",
            "História do HIV/AIDS \n",
            "\n",
            "https://pt.wikipedia.org/wiki/Hist%C3%B3ria_do_HIV/AIDS \n",
            "\n",
            "Vacina contra o HIV \n",
            "\n",
            "https://pt.wikipedia.org/wiki/Vacina_contra_o_HIV \n",
            "\n"
          ]
        }
      ]
    },
    {
      "cell_type": "code",
      "source": [
        "for page in wikipedia.search(\"Diabetes\"):\n",
        "  print(wikipedia.page(page).title, '\\n')\n",
        "  print(wikipedia.page(page).url, '\\n')\n",
        "  # print(wikipedia.page(page).content, '\\n\\n')"
      ],
      "metadata": {
        "colab": {
          "base_uri": "https://localhost:8080/"
        },
        "id": "NaPwviAeGaNC",
        "outputId": "59e61b18-1c90-4de2-ce26-583eb9ea1c92"
      },
      "execution_count": null,
      "outputs": [
        {
          "output_type": "stream",
          "name": "stdout",
          "text": [
            "Diabetes mellitus \n",
            "\n",
            "https://pt.wikipedia.org/wiki/Diabetes_mellitus \n",
            "\n",
            "Diabetes mellitus \n",
            "\n",
            "https://pt.wikipedia.org/wiki/Diabetes_mellitus \n",
            "\n",
            "Diabetes mellitus \n",
            "\n",
            "https://pt.wikipedia.org/wiki/Diabetes_mellitus \n",
            "\n",
            "Diabetes insípida \n",
            "\n",
            "https://pt.wikipedia.org/wiki/Diabetes_ins%C3%ADpida \n",
            "\n",
            "Psílio \n",
            "\n",
            "https://pt.wikipedia.org/wiki/Ps%C3%ADlio \n",
            "\n",
            "Diabetes tipo 3 \n",
            "\n",
            "https://pt.wikipedia.org/wiki/Diabetes_tipo_3 \n",
            "\n",
            "Glicemia \n",
            "\n",
            "https://pt.wikipedia.org/wiki/Glicemia \n",
            "\n",
            "Diabetes gestacional \n",
            "\n",
            "https://pt.wikipedia.org/wiki/Diabetes_gestacional \n",
            "\n",
            "Psoríase \n",
            "\n",
            "https://pt.wikipedia.org/wiki/Psor%C3%ADase \n",
            "\n",
            "Sociedade Brasileira de Diabetes \n",
            "\n",
            "https://pt.wikipedia.org/wiki/Sociedade_Brasileira_de_Diabetes \n",
            "\n"
          ]
        }
      ]
    },
    {
      "cell_type": "code",
      "source": [
        "for page in wikipedia.search(\"Coronavirus\"):\n",
        "  print(wikipedia.page(page).title, '\\n')\n",
        "  print(wikipedia.page(page).url, '\\n')\n",
        "  print(wikipedia.page(page).content, '\\n\\n')\n",
        "  break # only first"
      ],
      "metadata": {
        "colab": {
          "base_uri": "https://localhost:8080/"
        },
        "id": "b8ql_gOdGqh5",
        "outputId": "0a90e432-0244-4995-b299-247baf966e8e"
      },
      "execution_count": null,
      "outputs": [
        {
          "output_type": "stream",
          "name": "stdout",
          "text": [
            "Coronavírus \n",
            "\n",
            "https://pt.wikipedia.org/wiki/Coronav%C3%ADrus \n",
            "\n",
            "Os coronavírus são um grupo de vírus de genoma de RNA simples de sentido positivo (serve diretamente para a síntese proteica), conhecidos desde meados dos anos 1960. Pertencem à subfamília taxonómica Orthocoronavirinae da família Coronaviridae, da ordem Nidovirales.\n",
            "A maioria das pessoas se infecta com os coronavírus comuns ao longo da vida. Eles são uma causa comum de infecções respiratórias brandas a moderadas de curta duração. Entre os coronavírus encontra-se o vírus causador da forma de pneumonia atípica grave conhecida por SARS, e o vírus causador da COVID-19, responsável pela pandemia em 2020 e 2021.\n",
            "\n",
            "\n",
            "== Taxonomia ==\n",
            "Os coronavírus da subfamília Orthocoronaviridae se dividem em quatro gêneros: Alphacoronavirus, Betacoronavirus, Gammacoronavirus e Deltacoronavirus. De todos esses gêneros, há seis espécies que causam infecção em humanos.\n",
            "No gênero Alphacoronavirus há os coronavírus humanos das espécies HCoV-229E e HCoV-NL63, que causam infecções leves a moderadas comuns. Neste gênero também se encontra o CCoV, o coronavírus canino, que causa gastroenterite em cães e pode ser prevenido com vacina.\n",
            "No gênero Betacoronavirus há os coronavírus humanos das espécies HCoV-OC43, HCoV-HKU1, SARSr-CoV e MERS-CoV.\n",
            "HCoV-OC43 e HCoV-HKU1 causam infecções leves a moderadas comuns. MERS-CoV causa a doença MERS (Síndrome respiratória do Médio Oriente).\n",
            "A espécie SARSr-CoV se divide nas cepas SARS-CoV, que causa a doença SARS (Síndrome respiratória aguda grave), e SARS-CoV-2, que causa a doença Covid-19 (COrona VIrus Disease 2019).\n",
            "O SARS-CoV-2, causador da COVID-19, foi identificado em 2020, tem \"parentesco\" com o vírus da SARS-CoV. Causa febre, tosse e falta de ar e dificuldade para respirar (pneumonia).\n",
            "\n",
            "\n",
            "== Origem evolutiva dos coronavírus humanos ==\n",
            "Existem sete cepas conhecidas de coronavírus humanos, e todas elas evoluíram de coronavírus de outros animais.\n",
            "June Almeida descobriu o primeiro coronavírus humano no St Thomas' Hospital em Londres em 1964.\n",
            "\n",
            "Foram descobertos em 2020, seis novos coronavírus em morcegos em Mianmar, mas esses vírus não estão relacionados ao Síndrome Respiratório Agudo Grave de Coronavírus (SARS CoV-1), Síndrome Respiratória do Oriente Médio (MERS) ou COVID-19.\n",
            "\n",
            "\n",
            "== Sinais e sintomas ==\n",
            "Diferentes coronavírus afetam diferentes espécies causando diferentes doenças. Os principais sintomas da COVID-19 são febre, tosse e fadiga.\n",
            "\n",
            "\n",
            "== Transmissão ==\n",
            "A transmissão do vírus pode se dar:\n",
            "\n",
            "Por meio de tosse ou espirro;\n",
            "Contato pessoal próximo, como toque ou aperto de mão;\n",
            "Contato com objetos ou superfícies contaminadas, seguido então de contato com a boca, nariz ou olhos.\n",
            "Entre os grupos de risco estão qualquer pessoa que cuidou do paciente, incluindo profissionais de saúde ou familiares, que tenha tido contato físico com o paciente ou que tenha permanecido no mesmo local que o paciente doente. \n",
            "Em 2020, análises indicaram que o SARS-CoV-2 (anteriormente 2019-nCoV) pode ter passado de um animal para o ser humano.\n",
            "\n",
            "\n",
            "== Patogenia e Manifestação Clínica ==\n",
            "O Coronavírus é um vírus de RNA de cadeia simples que pode causar doenças respiratórias em humanos e animais. O vírus que causa a COVID-19, o SARS-CoV-2, é uma nova cepa que foi identificada pela primeira vez em Wuhan, China, em dezembro de 2019. O Sars-CoV-2 sofre mutação quase uma vez por semana – uma taxa 50% maior do que se pensava antes. A nova estimativa está em um estudo, publicado em 24 de agosto, no jornal científico Genome Biology and Evolution. Isso ocorre por ele ser um vírus de material genético de RNA. O processo de replicação do vírus é propenso a algumas falhas, na qual nem sempre a sequência genética é copiada perfeitamente e esses erros acabam gerando variantes do vírus. Dependendo de onde essa falha no genoma é processada, o vírus pode perder a capacidade de sobreviver e enfraquecer, como também pode ganhar mais força e seguir se replicando e propagando doenças. \n",
            "O maior perigo é quando essas mutações geram proteínas de superfície no vírus, que neutralizam ou enganam nosso sistema imunológico, o que demanda mais atenção.\n",
            "Patogenia\n",
            "Após entrar no nosso corpo, o vírus vai infectar células específicas através das suas glicoproteínas. Essas glicoproteínas estão presentes na superfície do vírus e irão auxiliar a ligação dele com o receptor da célula hospedeira. No exemplo da patogenia do SARS-CoV-2, que ainda não é totalmente compreendida, acredita-se que envolva os seguintes passos:\n",
            "\n",
            "Ligação ao Receptor ACE2:  A glicoproteína presente no SARV-CoV2 é chamada de Spike. Ela só consegue se ligar ao receptor das células que possuem uma enzima chamada ECA2 - enzima conversora de angiotensina. Esse interação entre o vírus e a célula vai possibilitar a invasão do patogênico.\n",
            "Entrada na célula: O vírus entra na célula hospedeira através da fusão da sua membrana com a membrana celular.\n",
            "Replicação viral: O vírus replica-se no citoplasma da célula hospedeira.\n",
            "Montagem e libertação: Novas partículas virais  são montadas e libertadas da célula hospedeira por exocitose.\n",
            "\n",
            "O  O processo de multiplicação do vírus até a manifestação dos primeiros sintomas é chamado de período de incubação.\n",
            "Durante esse período o patógeno está se replicando dentro do hospedeiro, ainda sem causar nenhum sintomas para o infectado.\n",
            "Ex. O período médio de incubação por coronavírus é de 05 dias, com intervalos que chegam a 12 dias, tempo em que os primeiros sintomas levam para aparecer desde a infecção.\n",
            "A apresentação clínica e sintomas também vão depender de onde as células infectadas estão situadas no trato respiratório. Ex: Se as células infectadas estiverem presentes nas vias aéreas superiores, os sintomas poderão ser de dor de garganta, coriza, tosse, espirros e etc. Já se estiverem localizadas nas vias aéreas inferiores, os sintomas serão mais graves, como dor no peito, falta de ar, tosse persistente e até pneumonia.\n",
            "Curiosidade: Diferença dos termos relacionado ao coronavírus\n",
            "Coronavírus: nome dado a uma extensa família de vírus que se assemelham. Muitos deles já nos infectaram diversas vezes ao longo da história da humanidade. Dentro dessa família há vários tipos de coronavírus, inclusive os chamados SARS-CoVs.\n",
            "SARS-CoV-2: vírus da família dos coronavírus que, ao infectar humanos, causa uma doença chamada Covid-19. Por ser um microrganismo que até pouco tempo não era transmitido entre humanos, ele ficou conhecido, no início da pandemia, como “novo coronavírus”.\n",
            "Covid-19: doença que se manifesta em nós, seres humanos, após a infecção causada pelo vírus SARS-CoV-2.\n",
            "\n",
            "\n",
            "== Epidemiologia ==\n",
            "\n",
            "\n",
            "=== Pandemia de 2019–2022 ===\n",
            "\n",
            "A 11 de março de 2020, o surto foi declarado uma pandemia, sendo que o numero de casos confirmados a nível mundial atingiu mais de 121 000, sendo em 120 diferentes territórios, dos quais mais de 80 000 na China. O número de mortes ascende a 4 300, havendo mais de 1 200 mortes fora da China.\n",
            "\n",
            "\n",
            "=== Surto de 2015 na Coreia do Sul ===\n",
            "Um surto de MERS foi associado a um viajante que havia retornado do Oriente Médio. Quase 200 pessoas foram infectadas e houve 36 mortes.\n",
            "\n",
            "\n",
            "=== Surto de 2012 no Oriente Médio ===\n",
            "Em 2012 foi isolado outro novo coronavírus, distinto do SARS-CoV. Esse novo coronavírus, desconhecido até então, foi inicialmente identificado na Arábia Saudita e, posteriormente, em outros países do Oriente Médio, na Europa e na África. Todos os casos identificados fora da Península Arábica tinham histórico de viagem ou contato recente com viajantes procedentes de países do Oriente Médio – Arábia Saudita, Catar, Emirados Árabes e Jordânia. Pela localização dos casos, a doença passou a ser designada como síndrome respiratória do Oriente Médio, cuja sigla é MERS, do inglês “Middle East Respiratory Syndrome”. O novo vírus foi nomeado coronavírus associado à MERS (MERS-CoV).\n",
            "\n",
            "\n",
            "=== Surto de 2002 na China ===\n",
            "Os primeiros casos da síndrome respiratória aguda grave (SARS - Severe Acute Respiratory Syndrome), causada pelo SARS-CoV, aconteceram na China em 2002, tendo o vírus se espalhado rapidamente para mais de doze (12) países na América do Norte, América do Sul, Europa e Ásia. Entre 2002 e 2003, mais de oito mil (8.000) pessoas foram infectadas e cerca de oitocentas (800) morreram, no que foi chamado uma \"epidemia global\". (SARS-CoV).\n",
            "\n",
            "\n",
            "== Referências ==\n",
            "35. \n",
            "36. \n",
            "\n",
            "37. \n",
            "\n",
            "\n"
          ]
        }
      ]
    }
  ]
}