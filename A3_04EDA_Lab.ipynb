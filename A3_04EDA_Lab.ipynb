{
  "nbformat": 4,
  "nbformat_minor": 0,
  "metadata": {
    "colab": {
      "provenance": [],
      "authorship_tag": "ABX9TyOWktRqoeeVkP0FKVZvVxje",
      "include_colab_link": true
    },
    "kernelspec": {
      "name": "python3",
      "display_name": "Python 3"
    },
    "language_info": {
      "name": "python"
    }
  },
  "cells": [
    {
      "cell_type": "markdown",
      "metadata": {
        "id": "view-in-github",
        "colab_type": "text"
      },
      "source": [
        "<a href=\"https://colab.research.google.com/github/Rogerio-mack/data-engineering/blob/main/A3_04EDA_Lab.ipynb\" target=\"_parent\"><img src=\"https://colab.research.google.com/assets/colab-badge.svg\" alt=\"Open In Colab\"/></a>"
      ]
    },
    {
      "cell_type": "markdown",
      "metadata": {
        "id": "40b90843"
      },
      "source": [
        "<img src=\"http://meusite.mackenzie.br/rogerio/mackenzie_logo/UPM.2_horizontal_vermelho.jpg\"  width=300, align=\"right\">\n",
        "<br>\n",
        "<br>\n",
        "<br>\n",
        "<br>\n",
        "<br>\n",
        "\n",
        "# Lab: Análise Exploratória de Dados\n",
        "\n",
        "Acesse os dados do FOSP em https://drive.google.com/file/d/1C5q8GSamLzTpB9ck695QRfSMtOWR3cNj/view?usp=sharing (sugestão, empregue o `gdown`). O dicionário de dados você pode encontrar na pasta da Aula_03.\n",
        "\n",
        "1. Em grupo (max 4 alunos) explore os dados e defina que explorações de dados que você construiria neste caso. É um exercício de concepção, e neste momento você não precisa implementar.\n",
        "\n",
        "2. Faça uma exploração de dados de interesse com quaisquer ferramentas que julgar útil.\n",
        "\n",
        "3. Faça ao menos uma exploração dos dados implementando um dashboard do Grafana.\n",
        "\n"
      ]
    }
  ]
}