{
  "nbformat": 4,
  "nbformat_minor": 0,
  "metadata": {
    "colab": {
      "provenance": [],
      "authorship_tag": "ABX9TyOJnU3CGHZ0DjQn2fy+rvm9",
      "include_colab_link": true
    },
    "kernelspec": {
      "name": "python3",
      "display_name": "Python 3"
    },
    "language_info": {
      "name": "python"
    }
  },
  "cells": [
    {
      "cell_type": "markdown",
      "metadata": {
        "id": "view-in-github",
        "colab_type": "text"
      },
      "source": [
        "<a href=\"https://colab.research.google.com/github/Rogerio-mack/data-engineering/blob/main/how_run_wordcount_example_on_docker_hadoop_not_Colab.ipynb\" target=\"_parent\"><img src=\"https://colab.research.google.com/assets/colab-badge.svg\" alt=\"Open In Colab\"/></a>"
      ]
    },
    {
      "cell_type": "markdown",
      "source": [
        "# **HDFS \"Taste\"**:  wordcount example from docker-hadoop\n",
        "\n",
        "Vamos experimentar o Hadoop e executar o wordcount examplo do hadoop em um  docker-hadoop container. Isso permitirá você ter uma ideia melhor de como o Hadoop funciona. Note, este notebook **DOES NOT RUN in Colab!**. Os procedimentos abaixo foram executados em um Docker container em um Ubuntu do WSL2."
      ],
      "metadata": {
        "id": "ZloEAv0CsWoT"
      }
    },
    {
      "cell_type": "markdown",
      "source": [
        "# Get docker-hadoop\n",
        "\n",
        "Há muitas outras imagens de containers de hadoop disponíveis."
      ],
      "metadata": {
        "id": "wNUSB6ezep8a"
      }
    },
    {
      "cell_type": "code",
      "source": [
        "docksudo git clone https://github.com/big-data-europe/docker-hadoop"
      ],
      "metadata": {
        "colab": {
          "base_uri": "https://localhost:8080/"
        },
        "id": "4ZIPSTXVc9Qj",
        "outputId": "fceffa5f-b173-4495-ef57-ff9354730e7f"
      },
      "execution_count": null,
      "outputs": [
        {
          "output_type": "stream",
          "name": "stdout",
          "text": [
            "Cloning into 'docker-hadoop'...\n",
            "remote: Enumerating objects: 539, done.\u001b[K\n",
            "remote: Total 539 (delta 0), reused 0 (delta 0), pack-reused 539\u001b[K\n",
            "Receiving objects: 100% (539/539), 108.43 KiB | 6.02 MiB/s, done.\n",
            "Resolving deltas: 100% (249/249), done.\n"
          ]
        }
      ]
    },
    {
      "cell_type": "code",
      "source": [
        "ls /docker-hadoop  -l"
      ],
      "metadata": {
        "colab": {
          "base_uri": "https://localhost:8080/"
        },
        "id": "FBORuDOLdSLj",
        "outputId": "ba6941bb-ad14-481c-f40d-7a581972bb40"
      },
      "execution_count": null,
      "outputs": [
        {
          "output_type": "stream",
          "name": "stdout",
          "text": [
            "total 52\n",
            "drwxr-xr-x 2 root root 4096 Jul 18 15:27 base\n",
            "drwxr-xr-x 2 root root 4096 Jul 18 15:27 datanode\n",
            "-rw-r--r-- 1 root root 2522 Jul 18 15:27 docker-compose-v3.yml\n",
            "-rw-r--r-- 1 root root 1559 Jul 18 15:27 docker-compose.yml\n",
            "-rw-r--r-- 1 root root 2507 Jul 18 15:27 hadoop.env\n",
            "drwxr-xr-x 2 root root 4096 Jul 18 15:27 historyserver\n",
            "-rw-r--r-- 1 root root 1437 Jul 18 15:27 Makefile\n",
            "drwxr-xr-x 2 root root 4096 Jul 18 15:27 namenode\n",
            "drwxr-xr-x 2 root root 4096 Jul 18 15:27 nginx\n",
            "drwxr-xr-x 2 root root 4096 Jul 18 15:27 nodemanager\n",
            "-rw-r--r-- 1 root root 2171 Jul 18 15:27 README.md\n",
            "drwxr-xr-x 2 root root 4096 Jul 18 15:27 resourcemanager\n",
            "drwxr-xr-x 2 root root 4096 Jul 18 15:27 submit\n"
          ]
        }
      ]
    },
    {
      "cell_type": "markdown",
      "source": [
        "### **!** Execute este somente para desinstalar e refazer o git clone"
      ],
      "metadata": {
        "id": "J4sSb961d_E9"
      }
    },
    {
      "cell_type": "code",
      "execution_count": null,
      "metadata": {
        "id": "B4Ku9osec3DS"
      },
      "outputs": [],
      "source": [
        "cd /docker-hadoop\n",
        "sudo rm -rf .git\n",
        "cd /\n",
        "sudo rm -rf /docker-hadoop"
      ]
    },
    {
      "cell_type": "markdown",
      "source": [
        "# docker-compose.yml\n",
        "\n",
        "**YAML** (YAML Ain't Markup Language) é um formato de serialização de dados leve e humanamente legível bastante utilizado para configurar aplicativos e serviços. O **Docker Compose**  facilita a definição e o gerenciamento de aplicações Docker permitindo em um único comando, criar e iniciar todos os serviços de sua aplicação a partir de um arquivo de configuração YAML.\n",
        "\n",
        "O `docker-compose.yml` cria os containers do componentes do seu ambiente Hadoop (para ser mais preciso, do seu sistema HDFS).\n",
        "\n",
        "<br>\n",
        "\n",
        "* **ResourceManager**: É responsável por gerenciar os recursos do cluster, como a alocação de memória, CPU e armazenamento.\n",
        "* **NameNode**: É responsável por gerenciar o sistema de arquivos distribuído do HDFS. Ele mantém o registro de todos os arquivos armazenados e suas localizações.\n",
        "* **NodeManager**: É o componente responsável por gerenciar os nós de trabalho do cluster. Ele inicia e monitora as tarefas de processamento.\n",
        "* **DataNode**: É responsável por armazenar os dados do HDFS. Ele é responsável por replicar os dados entre os diferentes nós do cluster para a alta disponibilidade.\n",
        "* **HistoryServer**: É responsável por armazenar o histórico das tarefas de processamento executadas no cluster e permite visualizar o progresso e o status das tarefas.\n",
        "\n",
        "\n",
        ">> **YARN**? O **YARN** (Yet Another Resource Negotiator) é um framework fundamental no Hadoop, responsável por gerenciar os recursos do cluster e por agendar as tarefas. É como um sistema operacional para o seu cluster Hadoop, responsável por alocar os recursos computacionais necessários para executar as suas aplicações."
      ],
      "metadata": {
        "id": "GDawexE_ex5Z"
      }
    },
    {
      "cell_type": "code",
      "source": [
        "services:\n",
        "  namenode:\n",
        "    image: bde2020/hadoop-namenode:2.0.0-hadoop3.2.1-java8\n",
        "    container_name: namenode\n",
        "    restart: always\n",
        "    ports:\n",
        "      - 9870:9870\n",
        "      - 9000:9000\n",
        "    volumes:\n",
        "      - hadoop_namenode:/hadoop/dfs/name\n",
        "    environment:\n",
        "      - CLUSTER_NAME=test\n",
        "    env_file:\n",
        "      - ./hadoop.env\n",
        "\n",
        "  datanode:\n",
        "    image: bde2020/hadoop-datanode:2.0.0-hadoop3.2.1-java8\n",
        "    container_name: datanode\n",
        "    restart: always\n",
        "    volumes:\n",
        "      - hadoop_datanode:/hadoop/dfs/data\n",
        "    environment:\n",
        "      SERVICE_PRECONDITION: \"namenode:9870\"\n",
        "    env_file:\n",
        "      - ./hadoop.env\n",
        "\n",
        "(...)"
      ],
      "metadata": {
        "id": "oxNDPdecWNAX"
      },
      "execution_count": null,
      "outputs": []
    },
    {
      "cell_type": "markdown",
      "source": [
        "Ao definir volumes no docker-compose, como:\n",
        "\n",
        "```\n",
        "    volumes:\n",
        "      - hadoop_namenode:/hadoop/dfs/name\n",
        "```\n",
        "Você estará gerando **volumes persistentes**. Assim, embora os containers sejam conhecidos por sua volatilidade, os dados armazenados nesses volumes irão persistir."
      ],
      "metadata": {
        "id": "5TkG3Y86YVSN"
      }
    },
    {
      "cell_type": "markdown",
      "source": [
        "O comando a seguir inicializa os serviços do HDFS,"
      ],
      "metadata": {
        "id": "wZXa-LjNYyE9"
      }
    },
    {
      "cell_type": "code",
      "source": [
        "cd docker-hadoop\n",
        "sudo docker-compose up -d"
      ],
      "metadata": {
        "id": "w-86SyHXelzy"
      },
      "execution_count": null,
      "outputs": []
    },
    {
      "cell_type": "code",
      "source": [
        "sudo docker container ls"
      ],
      "metadata": {
        "id": "Cg_gynM7fa1q"
      },
      "execution_count": null,
      "outputs": []
    },
    {
      "cell_type": "markdown",
      "source": [
        "```\n",
        "rogerio@DESKTOP-KRMG5G5:/docker-hadoop$ sudo docker container ls\n",
        "CONTAINER ID   IMAGE                                                    COMMAND                  CREATED        STATUS                  PORTS                                                                                  NAMES\n",
        "afd6e1e96a72   bde2020/hadoop-resourcemanager:2.0.0-hadoop3.2.1-java8   \"/entrypoint.sh /run…\"   21 hours ago   Up 21 hours (healthy)   8088/tcp                                                                               resourcemanager\n",
        "f075a1d7eb19   bde2020/hadoop-namenode:2.0.0-hadoop3.2.1-java8          \"/entrypoint.sh /run…\"   21 hours ago   Up 21 hours (healthy)   0.0.0.0:9000->9000/tcp, :::9000->9000/tcp, 0.0.0.0:9870->9870/tcp, :::9870->9870/tcp   namenode\n",
        "606b00fcc2ab   bde2020/hadoop-nodemanager:2.0.0-hadoop3.2.1-java8       \"/entrypoint.sh /run…\"   21 hours ago   Up 21 hours (healthy)   8042/tcp                                                                               nodemanager\n",
        "12e2d5a3c772   bde2020/hadoop-datanode:2.0.0-hadoop3.2.1-java8          \"/entrypoint.sh /run…\"   21 hours ago   Up 21 hours (healthy)   9864/tcp                                                                               datanode\n",
        "a44b1fddbcb9   bde2020/hadoop-historyserver:2.0.0-hadoop3.2.1-java8     \"/entrypoint.sh /run…\"   21 hours ago   Up 21 hours (healthy)   8188/tcp                                                                               historyserver\n",
        "```"
      ],
      "metadata": {
        "id": "42xunZ-4fW2i"
      }
    },
    {
      "cell_type": "markdown",
      "source": [
        "# Executando um wordcount com Mapreduce\n",
        "\n",
        "Essa é uma aplicação bastante comum para exemplificar o uso do mapreduce e há no hadoop uma aplicação exemplo, `.jar`, que pode ser executada diretamente."
      ],
      "metadata": {
        "id": "PrXJ2z-Qq4Bc"
      }
    },
    {
      "cell_type": "markdown",
      "source": [
        "## Obtendo o arquivos do texto e da aplicação wordcount\n",
        "\n",
        "Os arquivos são \"copiados\" para o container `namenode` onde será feito o processamento."
      ],
      "metadata": {
        "id": "HjUi8gyarCAt"
      }
    },
    {
      "cell_type": "code",
      "source": [
        "sudo wget https://repo1.maven.org/maven2/org/apache/hadoop/hadoop-mapreduce-examples/3.4.0/hadoop-mapreduce-examples-3.4.0.jar\n",
        "sudo docker cp hadoop-mapreduce-examples-3.4.0.jar namenode:/tmp/\n",
        "\n",
        "sudo wget -q https://www.mirrorservice.org/sites/ftp.ibiblio.org/pub/docs/books/gutenberg/1/0/101/101.txt\n",
        "sudo docker cp 101.txt namenode:/tmp"
      ],
      "metadata": {
        "colab": {
          "base_uri": "https://localhost:8080/"
        },
        "id": "qUDvrGxDf9di",
        "outputId": "53628099-438c-410d-ba11-6f120745ae7d"
      },
      "execution_count": null,
      "outputs": [
        {
          "output_type": "stream",
          "name": "stdout",
          "text": [
            "--2024-07-18 15:40:03--  https://repo1.maven.org/maven2/org/apache/hadoop/hadoop-mapreduce-examples/3.4.0/hadoop-mapreduce-examples-3.4.0.jar\n",
            "Resolving repo1.maven.org (repo1.maven.org)... 199.232.192.209, 199.232.196.209, 2a04:4e42:4c::209, ...\n",
            "Connecting to repo1.maven.org (repo1.maven.org)|199.232.192.209|:443... connected.\n",
            "HTTP request sent, awaiting response... 200 OK\n",
            "Length: 281609 (275K) [application/java-archive]\n",
            "Saving to: ‘hadoop-mapreduce-examples-3.4.0.jar’\n",
            "\n",
            "\r          hadoop-ma   0%[                    ]       0  --.-KB/s               \rhadoop-mapreduce-ex 100%[===================>] 275.01K  --.-KB/s    in 0.02s   \n",
            "\n",
            "2024-07-18 15:40:03 (10.8 MB/s) - ‘hadoop-mapreduce-examples-3.4.0.jar’ saved [281609/281609]\n",
            "\n"
          ]
        }
      ]
    },
    {
      "cell_type": "markdown",
      "source": [
        "## Entre no container do `namenode`\n",
        "\n",
        "Verifique a versão do Hadoop."
      ],
      "metadata": {
        "id": "zvoXNtvsgJx8"
      }
    },
    {
      "cell_type": "code",
      "source": [
        "sudo docker exec -it namenode /bin/bash"
      ],
      "metadata": {
        "id": "88qu0LjHhsta"
      },
      "execution_count": null,
      "outputs": []
    },
    {
      "cell_type": "code",
      "source": [
        "hadoop version"
      ],
      "metadata": {
        "id": "_0SohjzPf8oq"
      },
      "execution_count": null,
      "outputs": []
    },
    {
      "cell_type": "markdown",
      "source": [
        "```\n",
        "Hadoop 3.2.1\n",
        "Source code repository https://gitbox.apache.org/repos/asf/hadoop.git -r b3cbbb467e22ea829b3808f4b7b01d07e0bf3842\n",
        "Compiled by rohithsharmaks on 2019-09-10T15:56Z\n",
        "Compiled with protoc 2.5.0\n",
        "From source with checksum 776eaf9eee9c0ffc370bcbc1888737\n",
        "This command was run using /opt/hadoop-3.2.1/share/hadoop/common/hadoop-common-3.2.1.jar\n",
        "```"
      ],
      "metadata": {
        "id": "i5MBHGpBgBwI"
      }
    },
    {
      "cell_type": "markdown",
      "source": [
        "## Copiando o arquivo para o HDFS\n",
        "\n",
        "\n",
        "1. Você envia o arquivo para o **NameNode**: O NameNode registra a localização do arquivo e divide-o em blocos. Ele envia os blocos para os DataNodes selecionados e atualiza o registro no NameNode. Isso será feito aqui:\n",
        "\n",
        "```(bash)\n",
        "         hdfs dfs -put /tmp/101.txt /rogerio/101.txt\n",
        "```\n",
        "\n",
        "2. O **NameNode** informa aos **DataNodes** onde armazenar os blocos: Os DataNodes recebem os blocos e os armazenam em seus discos locais.\n",
        "\n",
        "Os **NameNode** não armazenam os dados reais dos arquivos."
      ],
      "metadata": {
        "id": "1QW1UeT-rbC7"
      }
    },
    {
      "cell_type": "code",
      "source": [
        "ls -l /tmp"
      ],
      "metadata": {
        "id": "STYk237ZlmUq"
      },
      "execution_count": null,
      "outputs": []
    },
    {
      "cell_type": "markdown",
      "source": [
        "```\n",
        "root@f075a1d7eb19:/# ls -l /tmp\n",
        "total 952\n",
        "-rw-r--r-- 1 root root 678064 Feb  9  2012 101.txt\n",
        "-rw-r--r-- 1 root root 281609 Mar  4 07:29 hadoop-mapreduce-examples-3.4.0.jar\n",
        "-rw-r--r-- 1 root root      4 Jul 17 18:21 hadoop-root-namenode.pid\n",
        "drwxr-xr-x 1 root root   4096 Jul 18 15:48 hsperfdata_root\n",
        "drwxr-xr-x 2 root root   4096 Jul 17 18:21 jetty-0.0.0.0-9870-hdfs-_-any-6076419249978838926.dir\n",
        "root@f075a1d7eb19:/#\n",
        "```\n",
        "\n"
      ],
      "metadata": {
        "id": "uSZZr-j4lisa"
      }
    },
    {
      "cell_type": "code",
      "source": [
        "hdfs dfs -ls /\n",
        "hdfs dfs -mkdir -p /rogerio/root\n",
        "hdfs dfs -put /tmp/101.txt /rogerio/101.txt\n",
        "hdfs dfs -ls /rogerio"
      ],
      "metadata": {
        "id": "ZZ9cXizKm9Ry"
      },
      "execution_count": null,
      "outputs": []
    },
    {
      "cell_type": "markdown",
      "source": [
        "```\n",
        "root@f075a1d7eb19:/# hdfs dfs -ls /rogerio\n",
        "Found 2 items\n",
        "-rw-r--r--   3 root supergroup     678064 2024-07-18 16:08 /rogerio/101.txt\n",
        "drwxr-xr-x   - root supergroup          0 2024-07-18 16:06 /rogerio/root\n",
        "```"
      ],
      "metadata": {
        "id": "4GQ2cjYFnPfr"
      }
    },
    {
      "cell_type": "code",
      "source": [
        "hdfs dfs -cat /rogerio/101.txt"
      ],
      "metadata": {
        "id": "JGWx-GO9nXe7"
      },
      "execution_count": null,
      "outputs": []
    },
    {
      "cell_type": "markdown",
      "source": [
        "```\n",
        "root@f075a1d7eb19:/# hdfs dfs -head /rogerio/101.txt\n",
        "2024-07-18 16:31:16,298 INFO sasl.SaslDataTransferClient: SASL encryption trust check: localHostTrusted = false, remoteHostTrusted = false\n",
        "The Project Gutenberg EBook of Hacker Crackdown, by Bruce Sterling\n",
        "\n",
        "This eBook is for the use of anyone anywhere at no cost and with\n",
        "almost no restrictions whatsoever.  You may copy it, give it away or\n",
        "re-use it under the terms of the Project Gutenberg License included\n",
        "with this eBook or online at www.gutenberg.org\n",
        "\n",
        "** This is a COPYRIGHTED Project Gutenberg eBook, Details Below **\n",
        "**     Please follow the copyright guidelines in this file.     **\n",
        "\n",
        "Title: Hacker Crackdown\n",
        "       Law and Disorder on the Electronic Frontier\n",
        "\n",
        "Author: Bruce Sterling\n",
        "\n",
        "Posting Date: February 9, 2012 [EBook #101]\n",
        "Release Date: January, 1994\n",
        "```"
      ],
      "metadata": {
        "id": "23YYByO4r1hT"
      }
    },
    {
      "cell_type": "markdown",
      "source": [
        "## Processando a aplicação exemplo wordcount\n",
        "\n",
        "Como executará o wordcount?\n",
        "\n",
        "1. O **ResourceManager** recebe a tarefa de WordCount: O JobTracker coordena a execução da tarefa em todo o cluster.\n",
        "2. O JobTracker atribui tarefas aos TaskTrackers (**NodeManagers**): Cada TaskTracker executa uma parte da tarefa de WordCount nos dados armazenados localmente nos DataNodes.\n",
        "\n",
        ">> **Distribuição de Processamento**. O modelo do Hadoop é baseado na distribuição de dados e processamento. Ao invés de centralizar o processamento em um único nó (como o NameNode), o Hadoop distribui as tarefas de processamento para os nós onde os dados estão armazenados, ou seja, os DataNodes.\n",
        "\n",
        "Aqui, entretanto, temos apenas um datanode.\n"
      ],
      "metadata": {
        "id": "wOXYyGahr5gL"
      }
    },
    {
      "cell_type": "code",
      "source": [
        "hadoop jar /tmp/hadoop-mapreduce-examples-3.4.0.jar wordcount /rogerio/101.txt /rogerio/output"
      ],
      "metadata": {
        "id": "masgTdpCoLOP"
      },
      "execution_count": null,
      "outputs": []
    },
    {
      "cell_type": "markdown",
      "source": [
        "```\n",
        "root@f075a1d7eb19:/# hadoop jar /tmp/hadoop-mapreduce-examples-3.4.0.jar wordcount /rogerio/101.txt /rogerio/output\n",
        "2024-07-18 16:14:33,716 INFO client.RMProxy: Connecting to ResourceManager at resourcemanager/172.18.0.3:8032\n",
        "2024-07-18 16:14:34,123 INFO client.AHSProxy: Connecting to Application History server at historyserver/172.18.0.6:10200\n",
        "2024-07-18 16:14:34,911 INFO mapreduce.JobResourceUploader: Disabling Erasure Coding for path: /tmp/hadoop-yarn/staging/root/.staging/job_1721240533517_0002\n",
        "2024-07-18 16:14:35,079 INFO sasl.SaslDataTransferClient: SASL encryption trust check: localHostTrusted = false, remoteHostTrusted = false\n",
        "2024-07-18 16:14:35,777 INFO input.FileInputFormat: Total input files to process : 1\n",
        "2024-07-18 16:14:35,849 INFO sasl.SaslDataTransferClient: SASL encryption trust check: localHostTrusted = false, remoteHostTrusted = false\n",
        "2024-07-18 16:14:35,902 INFO sasl.SaslDataTransferClient: SASL encryption trust check: localHostTrusted = false, remoteHostTrusted = false\n",
        "2024-07-18 16:14:36,323 INFO mapreduce.JobSubmitter: number of splits:1\n",
        "2024-07-18 16:14:36,591 INFO sasl.SaslDataTransferClient: SASL encryption trust check: localHostTrusted = false, remoteHostTrusted = false\n",
        "2024-07-18 16:14:37,037 INFO mapreduce.JobSubmitter: Submitting tokens for job: job_1721240533517_0002\n",
        "2024-07-18 16:14:37,037 INFO mapreduce.JobSubmitter: Executing with tokens: []\n",
        "2024-07-18 16:14:37,243 INFO conf.Configuration: resource-types.xml not found\n",
        "2024-07-18 16:14:37,243 INFO resource.ResourceUtils: Unable to find 'resource-types.xml'.\n",
        "2024-07-18 16:14:38,697 INFO impl.YarnClientImpl: Submitted application application_1721240533517_0002\n",
        "2024-07-18 16:14:38,775 INFO mapreduce.Job: The url to track the job: http://resourcemanager:8088/proxy/application_1721240533517_0002/\n",
        "2024-07-18 16:14:38,775 INFO mapreduce.Job: Running job: job_1721240533517_0002\n",
        "2024-07-18 16:14:55,013 INFO mapreduce.Job: Job job_1721240533517_0002 running in uber mode : false\n",
        "2024-07-18 16:14:55,015 INFO mapreduce.Job:  map 0% reduce 0%\n",
        "2024-07-18 16:15:07,263 INFO mapreduce.Job:  map 100% reduce 0%\n",
        "2024-07-18 16:15:13,304 INFO mapreduce.Job:  map 100% reduce 100%\n",
        "2024-07-18 16:15:14,319 INFO mapreduce.Job: Job job_1721240533517_0002 completed successfully\n",
        "2024-07-18 16:15:14,460 INFO mapreduce.Job: Counters: 54\n",
        "        File System Counters\n",
        "                FILE: Number of bytes read=105562\n",
        "                FILE: Number of bytes written=669665\n",
        "                FILE: Number of read operations=0\n",
        "                FILE: Number of large read operations=0\n",
        "                FILE: Number of write operations=0\n",
        "                HDFS: Number of bytes read=678165\n",
        "                HDFS: Number of bytes written=233636\n",
        "                HDFS: Number of read operations=8\n",
        "                HDFS: Number of large read operations=0\n",
        "                HDFS: Number of write operations=2\n",
        "                HDFS: Number of bytes read erasure-coded=0\n",
        "        Job Counters\n",
        "                Launched map tasks=1\n",
        "                Launched reduce tasks=1\n",
        "                Rack-local map tasks=1\n",
        "                Total time spent by all maps in occupied slots (ms)=33836\n",
        "                Total time spent by all reduces in occupied slots (ms)=27352\n",
        "                Total time spent by all map tasks (ms)=8459\n",
        "                Total time spent by all reduce tasks (ms)=3419\n",
        "                Total vcore-milliseconds taken by all map tasks=8459\n",
        "                Total vcore-milliseconds taken by all reduce tasks=3419\n",
        "                Total megabyte-milliseconds taken by all map tasks=34648064\n",
        "                Total megabyte-milliseconds taken by all reduce tasks=28008448\n",
        "        Map-Reduce Framework\n",
        "                Map input records=13006\n",
        "                Map output records=105488\n",
        "                Map output bytes=1078906\n",
        "                Map output materialized bytes=105554\n",
        "                Input split bytes=101\n",
        "                Combine input records=105488\n",
        "                Combine output records=21438\n",
        "                Reduce input groups=21438\n",
        "                Reduce shuffle bytes=105554\n",
        "                Reduce input records=21438\n",
        "                Reduce output records=21438\n",
        "                Spilled Records=42876\n",
        "                Shuffled Maps =1\n",
        "                Failed Shuffles=0\n",
        "                Merged Map outputs=1\n",
        "                GC time elapsed (ms)=3245\n",
        "                CPU time spent (ms)=26040\n",
        "                Physical memory (bytes) snapshot=651034624\n",
        "                Virtual memory (bytes) snapshot=13560627200\n",
        "                Total committed heap usage (bytes)=527958016\n",
        "                Peak Map Physical memory (bytes)=454701056\n",
        "                Peak Map Virtual memory (bytes)=5106589696\n",
        "                Peak Reduce Physical memory (bytes)=196333568\n",
        "                Peak Reduce Virtual memory (bytes)=8454037504\n",
        "        Shuffle Errors\n",
        "                BAD_ID=0\n",
        "                CONNECTION=0\n",
        "                IO_ERROR=0\n",
        "                WRONG_LENGTH=0\n",
        "                WRONG_MAP=0\n",
        "                WRONG_REDUCE=0\n",
        "        File Input Format Counters\n",
        "                Bytes Read=678064\n",
        "        File Output Format Counters\n",
        "                Bytes Written=233636\n",
        "   "
      ],
      "metadata": {
        "id": "bYTiJz2soR1C"
      }
    },
    {
      "cell_type": "markdown",
      "source": [
        "## Exibindo a saída\n",
        "\n",
        "Ela está no arquivo `part-r-00000` gerada no diretório de saída especificado."
      ],
      "metadata": {
        "id": "RDANDrFgsAfr"
      }
    },
    {
      "cell_type": "code",
      "source": [
        "hdfs dfs -ls /rogerio/output"
      ],
      "metadata": {
        "id": "3vaaLX2mo8bl"
      },
      "execution_count": null,
      "outputs": []
    },
    {
      "cell_type": "markdown",
      "source": [
        "```\n",
        "root@f075a1d7eb19:/# hdfs dfs -ls /rogerio/output\n",
        "Found 2 items\n",
        "-rw-r--r--   3 root supergroup          0 2024-07-18 16:15 /rogerio/output/_SUCCESS\n",
        "-rw-r--r--   3 root supergroup     233636 2024-07-18 16:15 /rogerio/output/part-r-00000\n",
        "```"
      ],
      "metadata": {
        "id": "Ao2nBrKxo2MT"
      }
    },
    {
      "cell_type": "code",
      "source": [
        "hdfs dfs -head /rogerio/output/part-r-00000"
      ],
      "metadata": {
        "id": "uqTVNCUppjwy"
      },
      "execution_count": null,
      "outputs": []
    },
    {
      "cell_type": "markdown",
      "source": [
        "```\n",
        "root@f075a1d7eb19:/# hdfs dfs -head /rogerio/output/part-r-00000\n",
        "2024-07-18 16:21:00,892 INFO sasl.SaslDataTransferClient: SASL encryption trust check: localHostTrusted = false, remoteHostTrusted = false\n",
        "\"(d)    1\n",
        "\"/H\"    1\n",
        "\"0\"     1\n",
        "\"02\"    2\n",
        "\"1.     1\n",
        "\"414    3\n",
        "\"A      2\n",
        "\"AT&T   3\n",
        "\"AT&T's 1\n",
        "\"Access 1\n",
        "\"Acid   3\n",
        "\"Ad-hocracy\"    1\n",
        "\"Advanced       1\n",
        "\"Agents 1\n",
        "\"Al     3\n",
        "\"All    3\n",
        "\"American       1\n",
        "\"An     1\n",
        "\"And    2\n",
        "\"Any    1\n",
        "\"Are    3\n",
        "\"Artificial     1\n",
        "```"
      ],
      "metadata": {
        "id": "816eylkopfgK"
      }
    },
    {
      "cell_type": "markdown",
      "source": [
        "# Acessando a interface do usuário\n",
        "\n",
        "No browser: http://localhost:9870/"
      ],
      "metadata": {
        "id": "HFHesjZ8p6RK"
      }
    },
    {
      "cell_type": "code",
      "source": [
        "!curl localhost:9870"
      ],
      "metadata": {
        "id": "i4eaSkZXUZv2"
      },
      "execution_count": null,
      "outputs": []
    },
    {
      "cell_type": "markdown",
      "source": [
        "![image.png](data:image/png;base64,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)"
      ],
      "metadata": {
        "id": "otiF5qdyqNfD"
      }
    }
  ]
}