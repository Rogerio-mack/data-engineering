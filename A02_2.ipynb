{
  "nbformat": 4,
  "nbformat_minor": 0,
  "metadata": {
    "colab": {
      "provenance": [],
      "authorship_tag": "ABX9TyOop3Og5DJxG949ZBxGBDK+",
      "include_colab_link": true
    },
    "kernelspec": {
      "name": "python3",
      "display_name": "Python 3"
    },
    "language_info": {
      "name": "python"
    }
  },
  "cells": [
    {
      "cell_type": "markdown",
      "metadata": {
        "id": "view-in-github",
        "colab_type": "text"
      },
      "source": [
        "<a href=\"https://colab.research.google.com/github/Rogerio-mack/data-engineering/blob/main/A02_2.ipynb\" target=\"_parent\"><img src=\"https://colab.research.google.com/assets/colab-badge.svg\" alt=\"Open In Colab\"/></a>"
      ]
    },
    {
      "cell_type": "markdown",
      "source": [
        "<img src=\"https://github.com/Rogerio-mack/data-engineering/blob/main/mack_logo.png?raw=true\" height=\"70\" align=\"right\"/></a>\n",
        "\n",
        "\n",
        "\n",
        "\n"
      ],
      "metadata": {
        "id": "ifRIxMqtyJGc"
      }
    },
    {
      "cell_type": "markdown",
      "source": [
        "<img src=\"https://github.com/Rogerio-mack/data-engineering/blob/main/figs/A_02_JoeReisCover.png?raw=true\" height=\"250\" align=\"left\"/></a>"
      ],
      "metadata": {
        "id": "-q7Ye_WPLled"
      }
    },
    {
      "cell_type": "markdown",
      "source": [
        "# Exercícios\n",
        "\n",
        "1. Acesse [aqui](https://docs.google.com/presentation/d/1in7NTpDe8rk3HnV-W767WM4leSUSP_K5FKzQmIyHU6Q/edit?usp=sharing) um template de plano de dados da Google. Avalie em um grupo considerando algum caso de uso da empresa de um dos participantes, a relevância desse plano e criando plano hipotético de dados considerando alguns dos aspectos discutidos em sala.\n",
        "\n",
        "2. Em grupo, tratem as seguintes questões segundo o autor:\n",
        "\n",
        "> 1. Defina e caracterize no contexto de dados a **observabilidade**? Qual o seu papel/importância nesse contexto? (Capítulo 2: The Data Engineering Lifecycle)\n",
        "\n",
        "> 2. São várias as opções de arquitetura de dados que devemos fazer.  Leia no capítulo 4 as opções sobre localização (Cloud $\\times$ On Premisse) e Serverless $\\times$ Servers, e discuta resumidamente essas alternativas. Leve em consideração, em especial no primeiro, o cenário nacional. (Capítulo 4: Choosing Technologies Across the Data Engineering Lifecycle)\n",
        "\n",
        "> 3. O que o autor quer dizer com **“batch as a special case of streaming”**? (Capítulo 3: Designing Good Data Architecture)\n",
        "\n",
        "\n",
        "\n",
        "\n",
        "\n",
        "\n"
      ],
      "metadata": {
        "id": "6Ps8Kjilz_g0"
      }
    },
    {
      "cell_type": "markdown",
      "source": [
        "# Introdução à Engenharia de Dados\n",
        "Em um **contexto centrado em dados**, a engenharia de dados é uma disciplina essencial no ecossistema de dados moderno. Há destaque para importância da qualidade dos dados e como a engenharia de dados se integra com outras funções, como ciência de dados, análise de negócios, desenvolvimento de aplicações etc.\n",
        "\n",
        "* Definição de engenharia de dados\n",
        "* Importância dos dados na tomada de decisões\n",
        "* Integração com ciência de dados e análise\n",
        "* Desafios enfrentados por engenheiros de dados"
      ],
      "metadata": {
        "id": "aaYnf2WsjIpj"
      }
    },
    {
      "cell_type": "markdown",
      "source": [
        "<img src=\"https://github.com/Rogerio-mack/data-engineering/blob/main/figs/A_02_JoeReisUpDown.png?raw=true\" height=\"80\" align=\"left\"/></a>"
      ],
      "metadata": {
        "id": "YbH5COTtQFxh"
      }
    },
    {
      "cell_type": "markdown",
      "source": [
        "## Engenharia de Dados"
      ],
      "metadata": {
        "id": "xaqzUhGKmApT"
      }
    },
    {
      "cell_type": "markdown",
      "source": [
        "> A **engenharia de dados** é uma disciplina que se concentra na **construção e manutenção de sistemas que permitem a coleta, armazenamento, processamento e análise de dados**. Ela serve como a base para a análise e ciência de dados, garantindo que os dados estejam disponíveis, acessíveis e em um formato utilizável para os cientistas de dados.\n",
        "\n",
        "> Ela envolve a criação de **pipelines de dados, a implementação de arquiteturas de dados robustas e a aplicação de práticas de qualidade e governança de dados** para garantir um eficaz e eficiente ciclo de vida dos dados."
      ],
      "metadata": {
        "id": "T2W3CV2elVGn"
      }
    },
    {
      "cell_type": "markdown",
      "source": [
        "## Desafios da Engenharia de Dados\n",
        "\n",
        "### Hard Skills\n",
        "\n",
        "1. Qualidade dos Dados: Garantir que os dados sejam precisos, completos e consistentes ao longo de todo o ciclo de vida.\n",
        "\n",
        "1. Integração de Dados: Combinar dados de diferentes fontes e formatos, o que pode ser complexo devido à diversidade de sistemas e tecnologias.\n",
        "\n",
        "1. Escalabilidade: Construir sistemas que possam lidar com volumes crescentes de dados sem comprometer o desempenho.\n",
        "\n",
        "1. Gerenciamento de Dados em Tempo Real: Implementar soluções de processamento e a análise de dados em tempo real.\n",
        "\n",
        "1. Segurança e Privacidade\n",
        "\n",
        "1. Manutenção e Operação: Manter e operar os sistemas de dados de maneira eficiente e eficaz.\n",
        "\n",
        "### Soft Skills\n",
        "\n",
        "1. Colaboração Interdisciplinar: Trabalhar em conjunto com cientistas de dados, analistas etc.\n",
        "\n",
        "1. Mudanças Tecnológicas: Adaptar-se rapidamente a novas soluções"
      ],
      "metadata": {
        "id": "-I7DkqjDmDkD"
      }
    },
    {
      "cell_type": "markdown",
      "source": [
        "<img src=\"https://github.com/Rogerio-mack/data-engineering/blob/main/figs/A_02_JoeReisBalance.png?raw=true\" height=\"80\" align=\"left\"/></a>"
      ],
      "metadata": {
        "id": "tynmL9-1M47a"
      }
    },
    {
      "cell_type": "markdown",
      "source": [
        "# O que é o ciclo de vida da engenharia de dados?\n",
        "\n",
        "O ciclo de vida da engenharia de dados compreende estágios que transformam insumos de dados brutos em um\n",
        "produto final útil, pronto para consumo por analistas, cientistas de dados e engenheiros de ML. O ciclo de vida da engenharia de dados pode ser dividido em cinco estágios:\n",
        "\n",
        "* **Geração**\n",
        "\n",
        "> A fase onde os dados são criados ou coletados a partir de diversas fontes, como sensores, aplicativos ou interações de usuários.\n",
        "\n",
        "* **Armazenamento**\n",
        "\n",
        "> A fase que envolve a organização e a preservação dos dados em sistemas de armazenamento apropriados, como bancos de dados ou data lakes.\n",
        "\n",
        "* **Ingestão**\n",
        "\n",
        "> O processo de mover dados de suas fontes para os sistemas de armazenamento, garantindo que os dados sejam capturados de forma eficiente e em tempo hábil.\n",
        "\n",
        "* **Transformação**\n",
        "\n",
        "> A fase em que os dados são processados e transformados em um formato adequado para análise, incluindo limpeza, enriquecimento e agregação.\n",
        "\n",
        "* **Serviço de Dados**\n",
        "\n",
        "A fase final onde os dados transformados são disponibilizados para consumo por analistas, cientistas de dados e outros  interessados, através de APIs, relatórios, dashboards.\n",
        "\n",
        ""
      ],
      "metadata": {
        "id": "ktZCh3pZNiCU"
      }
    },
    {
      "cell_type": "markdown",
      "source": [
        "<img src=\"https://github.com/Rogerio-mack/data-engineering/blob/main/figs/A_02_JoeReisLifeCycle.png?raw=true\" height=\"300\" align=\"left\"/></a>"
      ],
      "metadata": {
        "id": "Qr9Q2tEgQOsC"
      }
    },
    {
      "cell_type": "markdown",
      "source": [
        "# Fundamentos de Dados\n",
        "\n",
        "* Tipos de dados e suas características\n",
        "* Estruturas de dados comuns\n",
        "* Modelos de dados (relacional, NoSQL, etc.)\n",
        "* Sistemas de gerenciamento de banco de dados\n",
        "* Princípios de normalização"
      ],
      "metadata": {
        "id": "RTOYNvzFjYXD"
      }
    },
    {
      "cell_type": "markdown",
      "source": [
        "# Arquitetura de Dados\n",
        "O foco aqui é a arquitetura de dados como crucial para a construção de sistemas de dados escaláveis e eficientes.\n",
        "\n",
        "* Diferença entre data lakes e data warehouses (Data Lakehouses? :-()\n",
        "* Arquiteturas de dados em nuvem(*)\n",
        "* Design de sistemas escaláveis\n",
        "* Integração de dados\n",
        "* Melhores práticas de arquitetura(*)"
      ],
      "metadata": {
        "id": "g3FhmkwqkMbC"
      }
    },
    {
      "cell_type": "markdown",
      "source": [
        "## Data lakes $\\times$ data warehouses\n",
        "\n",
        "### Estrutura de Dados\n",
        "\n",
        "**Data Lakes**: Armazenam dados em seu formato bruto, incluindo dados estruturados, semiestruturados e não estruturados. Isso permite uma flexibilidade maior na ingestão de dados de diversas fontes.\n",
        "\n",
        "**Data Warehouses**: Armazenam dados em um formato estruturado e organizado, geralmente após um processo de transformação (ETL). Os dados são otimizados para consultas e análises.\n",
        "\n",
        "### Objetivo\n",
        "\n",
        "**Data Lakes**: Focados em armazenar grandes volumes de dados para análise futura, permitindo que os usuários explorem e analisem dados de maneiras variadas.\n",
        "\n",
        "**Data Warehouses**: Projetados para fornecer relatórios e análises rápidas e eficientes, com dados prontos para uso em decisões de negócios.\n",
        "\n",
        "### Processamento de Dados\n",
        "\n",
        "**Data Lakes**: Utilizam um modelo de processamento de dados em que os dados são armazenados primeiro e processados posteriormente (ELT - Extract, Load, Transform).\n",
        "\n",
        "**Data Warehouses**: Seguem um modelo de processamento onde os dados são transformados antes de serem carregados (ETL - Extract, Transform, Load).\n",
        "\n",
        "### Custo e Escalabilidade\n",
        "\n",
        "**Data Lakes**: Geralmente mais econômicos para armazenar grandes volumes de dados, pois utilizam armazenamento de baixo custo e podem escalar facilmente.\n",
        "\n",
        "**Data Warehouses**: Podem ser mais caros devido à necessidade de armazenamento estruturado e otimizado, mas oferecem desempenho superior para consultas complexas.\n",
        "\n",
        "### Usuários e Casos de Uso\n",
        "\n",
        "**Data Lakes**: Frequentemente utilizados por cientistas de dados e analistas que precisam de acesso a dados brutos para exploração e modelagem.\n",
        "\n",
        "**Data Warehouses**: Usados por analistas de negócios e executivos que necessitam de relatórios e insights rápidos a partir de dados organizados."
      ],
      "metadata": {
        "id": "kX_jAKi-nZ2r"
      }
    },
    {
      "cell_type": "markdown",
      "source": [
        "# Processamento de Dados\n",
        "\n",
        "Este item tem um forte impacto no desenho das soluções para manipular grandes volumes de dados.\n",
        "\n",
        "* Processamento em lote vs. processamento em tempo real\n",
        "* Ferramentas e frameworks de processamento\n",
        "* Arquitetura de fluxo de dados\n"
      ],
      "metadata": {
        "id": "vbVenH7GkUYL"
      }
    },
    {
      "cell_type": "markdown",
      "source": [
        "## Processamento em Lote $\\times$ Processamento em Tempo Real\n",
        "\n",
        "O **processamento em lote** envolve a coleta e o processamento de dados em grupos ou \"lotes\" em intervalos de tempo predefinidos, horas, dias ou meses. Já o **processamento em tempo real** envolve a análise e o processamento de dados à medida que são gerados ou recebidos, permitindo respostas imediatas.\n",
        "\n",
        "Eles diferem quando a:\n",
        "\n",
        "* Latência\n",
        "* Casos de Uso (Sugestões? :-))\n",
        "* Simplicidade $⇒$ Complexo\n",
        "* Custo Baixo $⇒$ Custo Alto"
      ],
      "metadata": {
        "id": "gEH9bHOnpFzT"
      }
    },
    {
      "cell_type": "markdown",
      "source": [
        "# Qualidade de Dados\n",
        "\n",
        "A qualidade dos dados e vai de técnicas para monitorar e melhorar a qualidade dos dados ao longo do tempo até a governança dos dados.\n",
        "\n",
        "* Definição de qualidade de dados\n",
        "* Métricas de qualidade\n",
        "* Técnicas de limpeza de dados\n",
        "* Monitoramento de qualidade de dados\n",
        "* Importância da governança de dados"
      ],
      "metadata": {
        "id": "yMksa9xOkl7h"
      }
    },
    {
      "cell_type": "markdown",
      "source": [
        "## Métricas de Qualidade\n",
        "\n",
        "* Precisão (*basicamente sem erros ou imprecisões*)\n",
        "* Completude (*todos os dados estão presentes?*)\n",
        "* Consistência\n",
        "* Validade\n",
        "* Atualidade\n",
        "* Acessibilidade\n",
        "* Relevância"
      ],
      "metadata": {
        "id": "1kAGjemzq9nj"
      }
    },
    {
      "cell_type": "markdown",
      "source": [
        "#  Integração de Dados\n",
        "\n",
        "Existem diversas estratégias e ferramentas para integrar dados de diferentes fontes.\n",
        "\n",
        "* Conceitos de ETL e ELT\n",
        "* Ferramentas de integração de dados\n",
        "* Desafios na integração de dados\n",
        "* Estratégias para integração em tempo real\n",
        "* Casos de uso de integração de dados"
      ],
      "metadata": {
        "id": "y8OFAZhaktD9"
      }
    },
    {
      "cell_type": "markdown",
      "source": [
        "## ETL (Extract, Transform, Load) $\\times$ ELT (Extract, Load, Transform)\n",
        "\n",
        "Note que esses processos apresentam uma ordem diferente das operações! Isso tem forte impacto nas soluções e arquitetura empregadas. Por exemplo, o ELT pode aproveitar a capacidade de processamento do sistema de destino para realizar a transformação (vamos  ver mais adiante o HDFS e eco-sistema Hadoop).\n",
        "\n",
        "O ETL é mais comum em ambientes onde a qualidade e a estrutura dos dados são críticas ou garantidas antes do carregamento."
      ],
      "metadata": {
        "id": "hg0OU5P8rf3b"
      }
    },
    {
      "cell_type": "markdown",
      "source": [
        "<img src=\"https://github.com/Rogerio-mack/data-engineering/blob/main/figs/A_02_JoeReisETL.png?raw=true\" height=\"180\" align=\"left\"/></a>\n",
        "\n"
      ],
      "metadata": {
        "id": "nUgvWn5HS8Ga"
      }
    },
    {
      "cell_type": "markdown",
      "source": [
        "<img src=\"https://github.com/Rogerio-mack/data-engineering/blob/main/figs/A_02_JoeReisELT.png?raw=true\" height=\"160\" align=\"left\"/></a>"
      ],
      "metadata": {
        "id": "uOXv-oywWZi9"
      }
    },
    {
      "cell_type": "markdown",
      "source": [
        "## Estratégias para integração em tempo real\n",
        "\n",
        "Algumas (não todas aqui) das estratégias para integração em tempo real incluem:\n",
        "\n",
        "* Streaming de Dados $⟶$ Apache Kafka, Confluence\n",
        "* Mensageria $⟶$ RabbitMQ\n",
        "* APIs em Tempo Real  $⟶$ Websockets\n",
        "* Processamento de Eventos $⟶$ Apache Flink"
      ],
      "metadata": {
        "id": "-qRNChQCsj3U"
      }
    },
    {
      "cell_type": "markdown",
      "source": [
        "# Armazenamento de Dados\n",
        "\n",
        "* Tipos de armazenamento de dados\n",
        "* Comparação entre bancos de dados relacionais e NoSQL\n",
        "* Armazenamento em nuvem\n",
        "* Custos e desempenho do armazenamento\n"
      ],
      "metadata": {
        "id": "qctRirKgk0CI"
      }
    },
    {
      "cell_type": "markdown",
      "source": [
        "<img src=\"https://github.com/Rogerio-mack/data-engineering/blob/main/figs/A_02_JoeReisStorage2.png?raw=true\" height=\"200\" align=\"left\"/></a>\n",
        "\n"
      ],
      "metadata": {
        "id": "d4bpZliMVI9K"
      }
    },
    {
      "cell_type": "markdown",
      "source": [
        "## Tipos de Armazenamento\n",
        "\n",
        "* **Bancos de dados relacionais** (RDBMS) como MySQL, PostgreSQL e Oracle.\n",
        "* **Bancos de dados NoSQL**, como Bancos de dados de documentos (ex: MongoDB), chave-valor (ex: Redis), colunares (ex: Cassandra) e grafos (ex: Neo4j).\n",
        "* **Armazenamento em Nuvem**, Amazon S3, Google Cloud Storage e Azure Blob Storage. *Recentemente, o Amazon S3, dá suporte nativo ao SQL.*\n",
        "* **Data Warehouses**, Amazon Redshift, Google BigQuery, Snowflake.\n",
        "* **Data Lakes**, DataBricks, AWS Lake Formation e Azure Data Lake (ou próprio)\n",
        "* **Data Warehouses**, Amazon Redshift, Google BigQuery, Snowflake.\n",
        "* **Armazenamento em Tempo Real**, Apache Druid e ClickHouse.\n",
        "* **Sistemas de Arquivos**, HDFS\n",
        "\n",
        "\n",
        "\n",
        "> Nota: O BigQuery não é um banco de dados relacional tradicional, mas é baseado no SQL e pode ser considerado um banco de dados relacional. Em vez de tabelas, o BigQuery usa um formato de armazenamento em colunas, que é otimizado para consultas analíticas. De fato, muito poucos bancos de dados são 100% relacionais, sendo a maior parte, conceitualmente *objeto-relacionais*."
      ],
      "metadata": {
        "id": "0oecuSpBtc7t"
      }
    },
    {
      "cell_type": "markdown",
      "source": [
        "<img src=\"https://github.com/Rogerio-mack/data-engineering/blob/main/figs/A_02_JoeReisStorage.png?raw=true\" height=\"350\" align=\"left\"/></a>\n",
        "\n"
      ],
      "metadata": {
        "id": "qdDSyXAlUzeJ"
      }
    },
    {
      "cell_type": "markdown",
      "source": [
        "# Segurança e Governança de Dados\n",
        "\n",
        "A segurança e a governança de dados são temas críticos em qualquer questão de dados.\n",
        "\n",
        "* Princípios de segurança de dados\n",
        "* Governança de dados e conformidade\n",
        "* Ferramentas de segurança e Políticas de acesso a dados\n",
        "* Importância da transparência e ética"
      ],
      "metadata": {
        "id": "G7tDMZGLk6Z_"
      }
    },
    {
      "cell_type": "markdown",
      "source": [
        "# Futuro da Engenharia de Dados\n",
        "\n",
        "* Tendências emergentes em engenharia de dados\n",
        "* Impacto da inteligência artificial\n",
        "* Automação de processos de dados\n"
      ],
      "metadata": {
        "id": "euzijvTalBuC"
      }
    },
    {
      "cell_type": "markdown",
      "source": [
        "## Automação de processos de dados\n",
        "\n",
        "1. Eficiência Operacional\n",
        "1. Redução de Erros\n",
        "1. Escalabilidade\n",
        "1. Integração de Ferramentas\n",
        "1. DataOps\n",
        "1. Monitoramento e Manutenção"
      ],
      "metadata": {
        "id": "Se6yv1Zqwb5r"
      }
    },
    {
      "cell_type": "markdown",
      "source": [
        "## Tendências\n",
        "\n",
        "* **Data Mesh**: Uma abordagem descentralizada para a arquitetura de dados, onde equipes de produto são responsáveis por seus próprios domínios de dados.\n",
        "\n",
        "* **Data Fabric**: integra dados de diferentes fontes e formatos (:-()\n",
        "\n",
        "* **Integração de Dados em Tempo Real**   (:-()\n",
        "\n",
        "* **Automação e Machine Learning**   (:-()\n",
        "\n",
        "* **DataOps**: Práticas DevOps à engenharia de dados (:-|)\n",
        "\n",
        "* **Armazenamento em Nuvem e Data Lakes** (:-()\n",
        "\n",
        "* **Privacidade e Governança de Dados** (:-()\n",
        "\n",
        "...\n",
        "\n",
        "...\n",
        "\n"
      ],
      "metadata": {
        "id": "1xfmc3kzvgg7"
      }
    },
    {
      "cell_type": "markdown",
      "metadata": {
        "id": "142c-UAzHTxQ"
      },
      "source": [
        "# **EXTRA** - Arquiteturas de Referência\n",
        "\n",
        "As arquiteturas para Ciência de Dados mais atuais empregam soluções de Big Data, muitas vezes não obstante o volume de dados utilizado e diferem bastante de arquiteturas mais antigas de data warehouse baseadas em grandes bancos de dados relacionais.  \n",
        "\n",
        "As  Khalifa, Shadi et al. [**“The Six Pillars for Building Big Data Analytics Ecosystems.”**](https://www.semanticscholar.org/paper/The-Six-Pillars-for-Building-Big-Data-Analytics-Khalifa-Elshater/45f9f16d144998bfa4ed121e986fe3095f48a52e)\n",
        "\n",
        "<br>\n",
        "\n",
        "<img src=\"https://d3i71xaburhd42.cloudfront.net/45f9f16d144998bfa4ed121e986fe3095f48a52e/3-Figure1-1.png\" width=900, align=\"center\">\n",
        "\n"
      ]
    },
    {
      "cell_type": "markdown",
      "source": [
        "<br>\n",
        "<br>\n",
        "<br>\n",
        "\n",
        "<img src=\"https://d3i71xaburhd42.cloudfront.net/45f9f16d144998bfa4ed121e986fe3095f48a52e/27-TableI-1.png\" width=700, align=\"center\">\n",
        "\n",
        "<br>\n",
        "<br>\n",
        "<br>\n",
        "\n"
      ],
      "metadata": {
        "id": "d59M-cVAmE5X"
      }
    },
    {
      "cell_type": "markdown",
      "source": [
        "Merecem destaque nessa arquitetura dois componentes, o HDFS e o Mapreduce. Esses elementos trabalham em conjunto para fornecer uma plataforma de armazenamento distribuído, eficiente, resiliente e paralelizável, capaz de permitir o processamento de milhões de dados com tempos bastante aceitáveis e são um padrão comum a quase todas as plataformas comerciais.\n",
        "\n",
        "\n"
      ],
      "metadata": {
        "id": "a0M7YlIvmJpF"
      }
    },
    {
      "cell_type": "markdown",
      "source": [
        "<img src=\"https://d3i71xaburhd42.cloudfront.net/45f9f16d144998bfa4ed121e986fe3095f48a52e/5-Figure2-1.png\" width=300, align=\"left\">\n",
        "<br>\n",
        "<img src=\"https://d3i71xaburhd42.cloudfront.net/45f9f16d144998bfa4ed121e986fe3095f48a52e/8-Figure3-1.png\" width=300, align=\"right\">\n",
        "\n"
      ],
      "metadata": {
        "id": "ZgKK_msqmMXe"
      }
    }
  ]
}