{
  "nbformat": 4,
  "nbformat_minor": 0,
  "metadata": {
    "colab": {
      "provenance": [],
      "authorship_tag": "ABX9TyNlDxs949/m/fv9zJQzj+6r",
      "include_colab_link": true
    },
    "kernelspec": {
      "name": "python3",
      "display_name": "Python 3"
    },
    "language_info": {
      "name": "python"
    }
  },
  "cells": [
    {
      "cell_type": "markdown",
      "metadata": {
        "id": "view-in-github",
        "colab_type": "text"
      },
      "source": [
        "<a href=\"https://colab.research.google.com/github/Rogerio-mack/data-engineering/blob/main/How_FastAPI_grok_server.ipynb\" target=\"_parent\"><img src=\"https://colab.research.google.com/assets/colab-badge.svg\" alt=\"Open In Colab\"/></a>"
      ]
    },
    {
      "cell_type": "markdown",
      "source": [
        "# FastAPI Server"
      ],
      "metadata": {
        "id": "TiMxU6WbtOE6"
      }
    },
    {
      "cell_type": "code",
      "execution_count": 1,
      "metadata": {
        "colab": {
          "base_uri": "https://localhost:8080/"
        },
        "id": "WZ37-zfrTagt",
        "outputId": "2916925a-a8ab-4526-a653-0cf2c3767cb7"
      },
      "outputs": [
        {
          "output_type": "stream",
          "name": "stdout",
          "text": [
            "Requirement already satisfied: fastapi in /usr/local/lib/python3.10/dist-packages (0.112.1)\n",
            "Requirement already satisfied: nest-asyncio in /usr/local/lib/python3.10/dist-packages (1.6.0)\n",
            "Requirement already satisfied: pyngrok in /usr/local/lib/python3.10/dist-packages (7.2.0)\n",
            "Requirement already satisfied: uvicorn in /usr/local/lib/python3.10/dist-packages (0.30.6)\n",
            "Requirement already satisfied: starlette<0.39.0,>=0.37.2 in /usr/local/lib/python3.10/dist-packages (from fastapi) (0.38.2)\n",
            "Requirement already satisfied: pydantic!=1.8,!=1.8.1,!=2.0.0,!=2.0.1,!=2.1.0,<3.0.0,>=1.7.4 in /usr/local/lib/python3.10/dist-packages (from fastapi) (2.8.2)\n",
            "Requirement already satisfied: typing-extensions>=4.8.0 in /usr/local/lib/python3.10/dist-packages (from fastapi) (4.12.2)\n",
            "Requirement already satisfied: PyYAML>=5.1 in /usr/local/lib/python3.10/dist-packages (from pyngrok) (6.0.2)\n",
            "Requirement already satisfied: click>=7.0 in /usr/local/lib/python3.10/dist-packages (from uvicorn) (8.1.7)\n",
            "Requirement already satisfied: h11>=0.8 in /usr/local/lib/python3.10/dist-packages (from uvicorn) (0.14.0)\n",
            "Requirement already satisfied: annotated-types>=0.4.0 in /usr/local/lib/python3.10/dist-packages (from pydantic!=1.8,!=1.8.1,!=2.0.0,!=2.0.1,!=2.1.0,<3.0.0,>=1.7.4->fastapi) (0.7.0)\n",
            "Requirement already satisfied: pydantic-core==2.20.1 in /usr/local/lib/python3.10/dist-packages (from pydantic!=1.8,!=1.8.1,!=2.0.0,!=2.0.1,!=2.1.0,<3.0.0,>=1.7.4->fastapi) (2.20.1)\n",
            "Requirement already satisfied: anyio<5,>=3.4.0 in /usr/local/lib/python3.10/dist-packages (from starlette<0.39.0,>=0.37.2->fastapi) (3.7.1)\n",
            "Requirement already satisfied: idna>=2.8 in /usr/local/lib/python3.10/dist-packages (from anyio<5,>=3.4.0->starlette<0.39.0,>=0.37.2->fastapi) (3.7)\n",
            "Requirement already satisfied: sniffio>=1.1 in /usr/local/lib/python3.10/dist-packages (from anyio<5,>=3.4.0->starlette<0.39.0,>=0.37.2->fastapi) (1.3.1)\n",
            "Requirement already satisfied: exceptiongroup in /usr/local/lib/python3.10/dist-packages (from anyio<5,>=3.4.0->starlette<0.39.0,>=0.37.2->fastapi) (1.2.2)\n"
          ]
        }
      ],
      "source": [
        "!pip install fastapi nest-asyncio pyngrok uvicorn"
      ]
    },
    {
      "cell_type": "markdown",
      "source": [
        "# API Define"
      ],
      "metadata": {
        "id": "uL3Fc7tctCDa"
      }
    },
    {
      "cell_type": "code",
      "source": [
        "from fastapi import FastAPI, Path\n",
        "from typing import Optional\n",
        "from pydantic import BaseModel\n",
        "\n",
        "app = FastAPI()\n",
        "\n",
        "agenda = [  {'id': 1, 'name': 'Rogerio', 'age': 60},\n",
        "            {'id': 2, 'name': 'Anna', 'age': 37},\n",
        "            {'id': 3, 'name': 'Maria', 'age': 25} ]\n",
        "\n",
        "class Item(BaseModel):\n",
        "    name: str\n",
        "    age: float\n",
        "\n",
        "class UpdateItem(BaseModel):\n",
        "    name: Optional[str] = None\n",
        "    age: Optional[float] = None\n",
        "\n",
        "@app.get(\"/\")\n",
        "def hello_world_root():\n",
        "    return {\"Hello\": \"Welcome to Agenda!\"}\n",
        "\n",
        "@app.get('/list-all')\n",
        "def listar():\n",
        "    return {'All': agenda}\n",
        "\n",
        "@app.get('/get-by-name')\n",
        "def get_item(name: Optional[str] = None):\n",
        "    print(\"log get-by-name \", name)                            # See in server \"console\"\n",
        "\n",
        "    search = list(filter(lambda x: x[\"name\"] == name, agenda))\n",
        "\n",
        "    if search == []:\n",
        "        return {'Error': 'Item não existe'}\n",
        "\n",
        "    return {'Item': search[0]}\n",
        "\n",
        "@app.post('/create-item/{item_id}')\n",
        "def create_item(item_id: int, item: Item):\n",
        "\n",
        "    search = list(filter(lambda x: x[\"id\"] == item_id, menu))\n",
        "\n",
        "    if search != []:\n",
        "        return {'Error': 'Item já existe!'}\n",
        "\n",
        "    item = item.dict()\n",
        "    item['id'] = item_id\n",
        "\n",
        "    agenda.append(item)\n",
        "    return item\n",
        "\n",
        "@app.put('/update-item/{item_id}')\n",
        "def update_item(item_id: int, item: UpdateItem):\n",
        "\n",
        "    search = list(filter(lambda x: x[\"id\"] == item_id, agenda))\n",
        "\n",
        "    if search == []:\n",
        "        return {'Error': 'Item não existe'}\n",
        "\n",
        "    if item.name is not None:\n",
        "        search[0]['name'] = item.name\n",
        "\n",
        "    if item.age is not None:\n",
        "        search[0]['age'] = item.age\n",
        "\n",
        "    return search\n",
        "\n",
        "@app.delete('/delete-item/{item_id}')\n",
        "def delete_item(item_id: int):\n",
        "    search = list(filter(lambda x: x[\"id\"] == item_id, agenda))\n",
        "\n",
        "    if search == []:\n",
        "        return {'Error': 'Item não existe'}\n",
        "\n",
        "    for i in range(len(menu)):\n",
        "        if agenda[i]['id'] == item_id:\n",
        "            del agenda[i]\n",
        "            break\n",
        "    return {'Mensagem': 'Item excluído'}"
      ],
      "metadata": {
        "id": "J5zKYZxLb529"
      },
      "execution_count": 23,
      "outputs": []
    },
    {
      "cell_type": "markdown",
      "source": [
        "# Execute Server\n",
        "\n",
        "1. Obtenha o token em https://dashboard.ngrok.com/get-started/your-authtoken\n",
        "2. Após executar a célula abaixo execute o notebook How_FastAPI_consumer.ipynb informando Public URL gerada"
      ],
      "metadata": {
        "id": "UYX6bPvAsYZC"
      }
    },
    {
      "cell_type": "code",
      "source": [
        "!pip install pyngrok\n",
        "import nest_asyncio\n",
        "from pyngrok import ngrok\n",
        "import uvicorn\n",
        "\n",
        "auth_token = \"2kbjOttFp57Rn7BQrL7U3zt7CwD_5voWrW6CS7r9BofL3BATV\"\n",
        "\n",
        "# Set the authtoken\n",
        "ngrok.set_auth_token(auth_token)\n",
        "\n",
        "# Connect to ngrok\n",
        "ngrok_tunnel = ngrok.connect(8000)\n",
        "\n",
        "# Print the public URL\n",
        "print('Public URL:', ngrok_tunnel.public_url)\n",
        "\n",
        "# Apply nest_asyncio\n",
        "nest_asyncio.apply()\n",
        "\n",
        "# Run the uvicorn server\n",
        "uvicorn.run(app, port=8000)\n"
      ],
      "metadata": {
        "colab": {
          "base_uri": "https://localhost:8080/"
        },
        "id": "ZqgenvCEVksz",
        "outputId": "bae2ad3c-c267-4468-b70e-ef2ab95554f6"
      },
      "execution_count": 24,
      "outputs": [
        {
          "output_type": "stream",
          "name": "stdout",
          "text": [
            "Requirement already satisfied: pyngrok in /usr/local/lib/python3.10/dist-packages (7.2.0)\n",
            "Requirement already satisfied: PyYAML>=5.1 in /usr/local/lib/python3.10/dist-packages (from pyngrok) (6.0.2)\n",
            "Public URL: https://3eff-104-196-151-166.ngrok-free.app\n"
          ]
        },
        {
          "output_type": "stream",
          "name": "stderr",
          "text": [
            "INFO:     Started server process [2956]\n",
            "INFO:     Waiting for application startup.\n",
            "INFO:     Application startup complete.\n",
            "INFO:     Uvicorn running on http://127.0.0.1:8000 (Press CTRL+C to quit)\n"
          ]
        },
        {
          "output_type": "stream",
          "name": "stdout",
          "text": [
            "INFO:     34.80.124.212:0 - \"GET / HTTP/1.1\" 200 OK\n",
            "INFO:     34.80.124.212:0 - \"GET /list-all HTTP/1.1\" 200 OK\n",
            "log get-by-name  Rogerio\n",
            "INFO:     34.80.124.212:0 - \"GET /get-by-name?name=Rogerio HTTP/1.1\" 200 OK\n",
            "INFO:     34.80.124.212:0 - \"POST /create-item/5 HTTP/1.1\" 200 OK\n",
            "INFO:     34.80.124.212:0 - \"DELETE /delete-item/5 HTTP/1.1\" 200 OK\n",
            "INFO:     34.80.124.212:0 - \"PUT /update-item/2 HTTP/1.1\" 200 OK\n"
          ]
        },
        {
          "output_type": "stream",
          "name": "stderr",
          "text": [
            "INFO:     Shutting down\n",
            "INFO:     Waiting for application shutdown.\n",
            "INFO:     Application shutdown complete.\n",
            "INFO:     Finished server process [2956]\n"
          ]
        }
      ]
    },
    {
      "cell_type": "markdown",
      "source": [
        "# Final"
      ],
      "metadata": {
        "id": "0zi_FR_bs9PS"
      }
    },
    {
      "cell_type": "code",
      "source": [
        "agenda"
      ],
      "metadata": {
        "colab": {
          "base_uri": "https://localhost:8080/"
        },
        "id": "D6j_l0phsP3C",
        "outputId": "fa0b521e-753e-4ae8-f122-3c47cd7d32ff"
      },
      "execution_count": 26,
      "outputs": [
        {
          "output_type": "execute_result",
          "data": {
            "text/plain": [
              "[{'id': 1, 'name': 'Rogerio', 'age': 60},\n",
              " {'id': 2, 'name': 'Ana', 'age': 21.0},\n",
              " {'id': 3, 'name': 'Maria', 'age': 25}]"
            ]
          },
          "metadata": {},
          "execution_count": 26
        }
      ]
    }
  ]
}